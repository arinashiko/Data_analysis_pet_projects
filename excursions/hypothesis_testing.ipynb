{
  "cells": [
    {
      "cell_type": "code",
      "execution_count": null,
      "metadata": {
        "id": "Ea34Rn2y7kcb"
      },
      "outputs": [],
      "source": [
        "import pandas as pd\n",
        "import numpy as np\n",
        "from statsmodels.stats.proportion import proportions_ztest\n",
        "import statsmodels.api as sm"
      ]
    },
    {
      "cell_type": "markdown",
      "metadata": {
        "id": "HxQa2VUA7kch"
      },
      "source": [
        "# Задача 2 - Проверка гипотезы о добавлении нового фильтра на сайт"
      ]
    },
    {
      "cell_type": "markdown",
      "metadata": {
        "id": "4vihwYVs7kdB"
      },
      "source": [
        "### Мы хотим проверить гипотезу о том, что добавление нового фильтра увеличивает количество бронирований.\n",
        "### Результат, который мы хотим достичь с помощью нового фильтра, - это увеличение количества бронирований.\n",
        "### Целевая метрика для сравнения контрольной и тестовой групп - конверсия в бронирование после перехода на сайт, так как количество переходов на сайт одинаковое в группах\n",
        "### Конверсия = кол-во бронирований / кол-во заходов на сайт"
      ]
    },
    {
      "cell_type": "code",
      "execution_count": null,
      "metadata": {
        "id": "cwoYarUr7kdB"
      },
      "outputs": [],
      "source": [
        "count1 = 450\n",
        "n1 = 5000\n",
        "count2 = 300\n",
        "n2 = n1"
      ]
    },
    {
      "cell_type": "code",
      "execution_count": null,
      "metadata": {
        "colab": {
          "base_uri": "https://localhost:8080/"
        },
        "id": "62Z7vVdU7kdB",
        "outputId": "b8758415-7c3b-4ed4-942a-0ec272296f7c"
      },
      "outputs": [
        {
          "data": {
            "text/plain": [
              "0.06"
            ]
          },
          "execution_count": 3,
          "metadata": {},
          "output_type": "execute_result"
        }
      ],
      "source": [
        "conversion_a = count2 / n2\n",
        "conversion_a"
      ]
    },
    {
      "cell_type": "code",
      "execution_count": null,
      "metadata": {
        "colab": {
          "base_uri": "https://localhost:8080/"
        },
        "id": "49S3Y9bT7kdB",
        "outputId": "7be721c8-373e-484d-c047-c60bb7b9e792"
      },
      "outputs": [
        {
          "data": {
            "text/plain": [
              "0.09"
            ]
          },
          "execution_count": 4,
          "metadata": {},
          "output_type": "execute_result"
        }
      ],
      "source": [
        "conversion_b = count1 / n1\n",
        "conversion_b"
      ]
    },
    {
      "cell_type": "markdown",
      "metadata": {
        "id": "FOKGNXRj8lXs"
      },
      "source": [
        "## Гипотезы:\n",
        "- H0: conversion_b <= conversion_a\n",
        "\n",
        "  Конверсия в группе Б не превышает конверсию в группе А\n",
        "\n",
        "\n",
        "- H1: conversion_b > conversion_a\n",
        "\n",
        "  Конверсия в группе Б больше, чем конверсия в группе А"
      ]
    },
    {
      "cell_type": "markdown",
      "metadata": {
        "id": "ziDQFV6o8UgV"
      },
      "source": [
        "## Z-test для сравнения двух биномиальных распределений"
      ]
    },
    {
      "cell_type": "code",
      "execution_count": null,
      "metadata": {
        "colab": {
          "base_uri": "https://localhost:8080/"
        },
        "id": "pGl300mV7kdC",
        "outputId": "da77e083-3b50-4bd7-89f0-ea90aa7d5c54"
      },
      "outputs": [
        {
          "name": "stdout",
          "output_type": "stream",
          "text": [
            "One-sided z-test: z = 5.694947974514993, p value = 6.170477315681293e-09\n"
          ]
        }
      ],
      "source": [
        "success_cnts = np.array([count1, count2])\n",
        "total_cnts = np.array([n1, n2])\n",
        "test_stat, pval = proportions_ztest(count=success_cnts, nobs=total_cnts, alternative='larger')\n",
        "print('One-sided z-test: z = {}, p value = {}'.format(test_stat, pval))"
      ]
    },
    {
      "cell_type": "markdown",
      "metadata": {
        "id": "xU0jTiuz8aQA"
      },
      "source": [
        "p-value < 0,05 => отклоняем нулевую гипотезу. Конверсия в группе Б больше, чем конверсия в группе А, и это различие статисчтически значимо.\n",
        "\n"
      ]
    },
    {
      "cell_type": "markdown",
      "metadata": {
        "id": "iA2erl-O882w"
      },
      "source": [
        "## Доверительные интервалы для конверсии в каждой группе"
      ]
    },
    {
      "cell_type": "code",
      "execution_count": null,
      "metadata": {
        "id": "bY1gLoxf7kdC"
      },
      "outputs": [],
      "source": [
        "low_a, high_a = sm.stats.proportion_confint(count=count2, nobs=n2, alpha=0.05, method='wilson')"
      ]
    },
    {
      "cell_type": "code",
      "execution_count": null,
      "metadata": {
        "colab": {
          "base_uri": "https://localhost:8080/"
        },
        "id": "nIS3KQ4U7kdC",
        "outputId": "b527b2f6-2a5d-4d70-dcae-f6bb477960bb"
      },
      "outputs": [
        {
          "name": "stdout",
          "output_type": "stream",
          "text": [
            "0.05374897325570841 0.06692660445594185\n"
          ]
        }
      ],
      "source": [
        "print(low_a, high_a)"
      ]
    },
    {
      "cell_type": "code",
      "execution_count": null,
      "metadata": {
        "id": "I9pymEQh7kdC"
      },
      "outputs": [],
      "source": [
        "low_b, high_b = sm.stats.proportion_confint(count=count1, nobs=n1, alpha=0.05, method='wilson')"
      ]
    },
    {
      "cell_type": "code",
      "execution_count": null,
      "metadata": {
        "colab": {
          "base_uri": "https://localhost:8080/"
        },
        "id": "TocE5Y2Z7kdD",
        "outputId": "2cf64385-e86d-410b-8cd2-a7859df407cd"
      },
      "outputs": [
        {
          "name": "stdout",
          "output_type": "stream",
          "text": [
            "0.08237915058874333 0.0982503650062035\n"
          ]
        }
      ],
      "source": [
        "print(low_b, high_b)"
      ]
    },
    {
      "cell_type": "markdown",
      "metadata": {
        "id": "iz1wN-hg-ywj"
      },
      "source": [
        "Доверительные интервалы не пересекаются, что подтверждает, что различие в конверсиях групп А и Б статистически значимо."
      ]
    }
  ],
  "metadata": {
    "colab": {
      "provenance": []
    },
    "kernelspec": {
      "display_name": "Python 3",
      "language": "python",
      "name": "python3"
    },
    "language_info": {
      "codemirror_mode": {
        "name": "ipython",
        "version": 3
      },
      "file_extension": ".py",
      "mimetype": "text/x-python",
      "name": "python",
      "nbconvert_exporter": "python",
      "pygments_lexer": "ipython3",
      "version": "3.7.3"
    }
  },
  "nbformat": 4,
  "nbformat_minor": 0
}
