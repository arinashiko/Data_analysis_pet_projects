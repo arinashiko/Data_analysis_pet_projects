{
  "cells": [
    {
      "cell_type": "code",
      "execution_count": 15,
      "metadata": {
        "id": "CWYm-naeVqdq"
      },
      "outputs": [],
      "source": [
        "import pandas as pd\n",
        "import re\n",
        "import numpy as np\n",
        "import seaborn as sns\n",
        "import matplotlib.pyplot as plt"
      ]
    },
    {
      "cell_type": "markdown",
      "metadata": {
        "id": "1CPRUPNJVqds"
      },
      "source": [
        "# Задание 1"
      ]
    },
    {
      "cell_type": "code",
      "execution_count": null,
      "metadata": {
        "id": "s0DJRC1qVqdu"
      },
      "outputs": [],
      "source": [
        "data = pd.read_csv('/mnt/HC_Volume_18315164/home-jupyter/jupyter-arina-arbuzina-ypa-0324d/Sputnik8_test/events filters к тестовому Product Analyst Q1 2024.csv')"
      ]
    },
    {
      "cell_type": "code",
      "execution_count": null,
      "metadata": {
        "id": "wODWOj05Vqdu",
        "outputId": "62456f17-8531-466d-fcbe-e535dc3dcc5c"
      },
      "outputs": [
        {
          "data": {
            "text/html": [
              "<div>\n",
              "<style scoped>\n",
              "    .dataframe tbody tr th:only-of-type {\n",
              "        vertical-align: middle;\n",
              "    }\n",
              "\n",
              "    .dataframe tbody tr th {\n",
              "        vertical-align: top;\n",
              "    }\n",
              "\n",
              "    .dataframe thead th {\n",
              "        text-align: right;\n",
              "    }\n",
              "</style>\n",
              "<table border=\"1\" class=\"dataframe\">\n",
              "  <thead>\n",
              "    <tr style=\"text-align: right;\">\n",
              "      <th></th>\n",
              "      <th>event_category</th>\n",
              "      <th>event_action</th>\n",
              "      <th>event_label</th>\n",
              "      <th>total_events</th>\n",
              "      <th>unique_events</th>\n",
              "    </tr>\n",
              "  </thead>\n",
              "  <tbody>\n",
              "    <tr>\n",
              "      <th>2</th>\n",
              "      <td>city_landing</td>\n",
              "      <td>search-tools-button_open</td>\n",
              "      <td>Penza / Сортировка</td>\n",
              "      <td>2</td>\n",
              "      <td>2</td>\n",
              "    </tr>\n",
              "    <tr>\n",
              "      <th>3</th>\n",
              "      <td>city_landing</td>\n",
              "      <td>filters-categories_click</td>\n",
              "      <td>Gelendzhik / ЭКСКУРСИИ В ГЕЛЕНДЖИКЕ ЦЕНЫ</td>\n",
              "      <td>1</td>\n",
              "      <td>1</td>\n",
              "    </tr>\n",
              "    <tr>\n",
              "      <th>4</th>\n",
              "      <td>city_landing</td>\n",
              "      <td>price_button_submit</td>\n",
              "      <td>Moscow / Показать предложения (345)</td>\n",
              "      <td>2</td>\n",
              "      <td>2</td>\n",
              "    </tr>\n",
              "    <tr>\n",
              "      <th>8</th>\n",
              "      <td>city_landing</td>\n",
              "      <td>price_button_submit</td>\n",
              "      <td>Vladivostok / Показать предложения (28)</td>\n",
              "      <td>3</td>\n",
              "      <td>3</td>\n",
              "    </tr>\n",
              "    <tr>\n",
              "      <th>9</th>\n",
              "      <td>city_landing</td>\n",
              "      <td>filters-categories_click</td>\n",
              "      <td>Krakow / Необычные</td>\n",
              "      <td>3</td>\n",
              "      <td>3</td>\n",
              "    </tr>\n",
              "    <tr>\n",
              "      <th>...</th>\n",
              "      <td>...</td>\n",
              "      <td>...</td>\n",
              "      <td>...</td>\n",
              "      <td>...</td>\n",
              "      <td>...</td>\n",
              "    </tr>\n",
              "    <tr>\n",
              "      <th>19082</th>\n",
              "      <td>city_landing</td>\n",
              "      <td>price_button_submit</td>\n",
              "      <td>Istanbul / Показать предложения (195)</td>\n",
              "      <td>1</td>\n",
              "      <td>1</td>\n",
              "    </tr>\n",
              "    <tr>\n",
              "      <th>19085</th>\n",
              "      <td>city_landing</td>\n",
              "      <td>ticket-type_checkbox</td>\n",
              "      <td>Gorokhovets / Мини-группа</td>\n",
              "      <td>1</td>\n",
              "      <td>1</td>\n",
              "    </tr>\n",
              "    <tr>\n",
              "      <th>19088</th>\n",
              "      <td>city_landing</td>\n",
              "      <td>filters-categories_click</td>\n",
              "      <td>Ufa / Пешеходные</td>\n",
              "      <td>3</td>\n",
              "      <td>3</td>\n",
              "    </tr>\n",
              "    <tr>\n",
              "      <th>19089</th>\n",
              "      <td>city_landing</td>\n",
              "      <td>search-tools-button_open</td>\n",
              "      <td>Yerevan / Фильтры Выбрано: 0</td>\n",
              "      <td>16</td>\n",
              "      <td>16</td>\n",
              "    </tr>\n",
              "    <tr>\n",
              "      <th>19090</th>\n",
              "      <td>city_landing</td>\n",
              "      <td>price_button_submit</td>\n",
              "      <td>Pskov / Показать предложения (35)</td>\n",
              "      <td>7</td>\n",
              "      <td>7</td>\n",
              "    </tr>\n",
              "  </tbody>\n",
              "</table>\n",
              "<p>10522 rows × 5 columns</p>\n",
              "</div>"
            ],
            "text/plain": [
              "      event_category              event_action  \\\n",
              "2       city_landing  search-tools-button_open   \n",
              "3       city_landing  filters-categories_click   \n",
              "4       city_landing       price_button_submit   \n",
              "8       city_landing       price_button_submit   \n",
              "9       city_landing  filters-categories_click   \n",
              "...              ...                       ...   \n",
              "19082   city_landing       price_button_submit   \n",
              "19085   city_landing      ticket-type_checkbox   \n",
              "19088   city_landing  filters-categories_click   \n",
              "19089   city_landing  search-tools-button_open   \n",
              "19090   city_landing       price_button_submit   \n",
              "\n",
              "                                    event_label  total_events  unique_events  \n",
              "2                            Penza / Сортировка             2              2  \n",
              "3      Gelendzhik / ЭКСКУРСИИ В ГЕЛЕНДЖИКЕ ЦЕНЫ             1              1  \n",
              "4           Moscow / Показать предложения (345)             2              2  \n",
              "8       Vladivostok / Показать предложения (28)             3              3  \n",
              "9                            Krakow / Необычные             3              3  \n",
              "...                                         ...           ...            ...  \n",
              "19082     Istanbul / Показать предложения (195)             1              1  \n",
              "19085                 Gorokhovets / Мини-группа             1              1  \n",
              "19088                          Ufa / Пешеходные             3              3  \n",
              "19089              Yerevan / Фильтры Выбрано: 0            16             16  \n",
              "19090         Pskov / Показать предложения (35)             7              7  \n",
              "\n",
              "[10522 rows x 5 columns]"
            ]
          },
          "execution_count": 151,
          "metadata": {},
          "output_type": "execute_result"
        }
      ],
      "source": [
        "data.query('event_action != \"Page Visit\"').loc[data.total_events == data.unique_events]"
      ]
    },
    {
      "cell_type": "code",
      "execution_count": null,
      "metadata": {
        "id": "8QjKxW0dVqdv",
        "outputId": "2259d68e-8cd8-431b-fdd6-e57d2e71dea4"
      },
      "outputs": [
        {
          "data": {
            "text/plain": [
              "34513"
            ]
          },
          "execution_count": 152,
          "metadata": {},
          "output_type": "execute_result"
        }
      ],
      "source": [
        "data.query('event_action != \"Page Visit\"').loc[data.total_events == data.unique_events].unique_events.sum()"
      ]
    },
    {
      "cell_type": "code",
      "execution_count": null,
      "metadata": {
        "id": "UPvTF2muVqdw"
      },
      "outputs": [],
      "source": []
    },
    {
      "cell_type": "code",
      "execution_count": null,
      "metadata": {
        "id": "Z1xPBLTuVqdw"
      },
      "outputs": [],
      "source": []
    },
    {
      "cell_type": "code",
      "execution_count": null,
      "metadata": {
        "id": "aU6Qv_5QVqdx",
        "outputId": "6ebf91d5-a2e7-4730-9b33-a6e5dae2b2f3"
      },
      "outputs": [
        {
          "data": {
            "text/html": [
              "<div>\n",
              "<style scoped>\n",
              "    .dataframe tbody tr th:only-of-type {\n",
              "        vertical-align: middle;\n",
              "    }\n",
              "\n",
              "    .dataframe tbody tr th {\n",
              "        vertical-align: top;\n",
              "    }\n",
              "\n",
              "    .dataframe thead th {\n",
              "        text-align: right;\n",
              "    }\n",
              "</style>\n",
              "<table border=\"1\" class=\"dataframe\">\n",
              "  <thead>\n",
              "    <tr style=\"text-align: right;\">\n",
              "      <th></th>\n",
              "      <th>event_category</th>\n",
              "      <th>event_action</th>\n",
              "      <th>event_label</th>\n",
              "      <th>total_events</th>\n",
              "      <th>unique_events</th>\n",
              "    </tr>\n",
              "  </thead>\n",
              "  <tbody>\n",
              "    <tr>\n",
              "      <th>12506</th>\n",
              "      <td>city_landing</td>\n",
              "      <td>filters-categories_click</td>\n",
              "      <td>Moscow / Literature &amp; Art</td>\n",
              "      <td>1.0</td>\n",
              "      <td>1.0</td>\n",
              "    </tr>\n",
              "    <tr>\n",
              "      <th>18648</th>\n",
              "      <td>city_landing</td>\n",
              "      <td>search-tools-button_open</td>\n",
              "      <td>Moscow / Most popular first</td>\n",
              "      <td>1.0</td>\n",
              "      <td>1.0</td>\n",
              "    </tr>\n",
              "    <tr>\n",
              "      <th>1034</th>\n",
              "      <td>city_landing</td>\n",
              "      <td>filters-categories_click</td>\n",
              "      <td>Moscow / Most popular first</td>\n",
              "      <td>5.0</td>\n",
              "      <td>3.0</td>\n",
              "    </tr>\n",
              "    <tr>\n",
              "      <th>2009</th>\n",
              "      <td>city_landing</td>\n",
              "      <td>filters-categories_click</td>\n",
              "      <td>Moscow / Off the beaten track</td>\n",
              "      <td>1.0</td>\n",
              "      <td>1.0</td>\n",
              "    </tr>\n",
              "    <tr>\n",
              "      <th>1605</th>\n",
              "      <td>city_landing</td>\n",
              "      <td>filters-categories_click</td>\n",
              "      <td>Moscow / Romantic</td>\n",
              "      <td>1.0</td>\n",
              "      <td>1.0</td>\n",
              "    </tr>\n",
              "    <tr>\n",
              "      <th>5428</th>\n",
              "      <td>city_landing</td>\n",
              "      <td>filters-categories_click</td>\n",
              "      <td>Moscow / SPUTNIK 8</td>\n",
              "      <td>1.0</td>\n",
              "      <td>1.0</td>\n",
              "    </tr>\n",
              "    <tr>\n",
              "      <th>10083</th>\n",
              "      <td>city_landing</td>\n",
              "      <td>search-tools-button_open</td>\n",
              "      <td>Moscow / Selected: 0</td>\n",
              "      <td>4.0</td>\n",
              "      <td>4.0</td>\n",
              "    </tr>\n",
              "    <tr>\n",
              "      <th>14825</th>\n",
              "      <td>city_landing</td>\n",
              "      <td>price_button_submit</td>\n",
              "      <td>Moscow / Show offers (10)</td>\n",
              "      <td>1.0</td>\n",
              "      <td>1.0</td>\n",
              "    </tr>\n",
              "    <tr>\n",
              "      <th>5968</th>\n",
              "      <td>city_landing</td>\n",
              "      <td>price_button_submit</td>\n",
              "      <td>Moscow / Show offers (14)</td>\n",
              "      <td>2.0</td>\n",
              "      <td>2.0</td>\n",
              "    </tr>\n",
              "    <tr>\n",
              "      <th>3233</th>\n",
              "      <td>city_landing</td>\n",
              "      <td>price_button_submit</td>\n",
              "      <td>Moscow / Show offers (28)</td>\n",
              "      <td>2.0</td>\n",
              "      <td>2.0</td>\n",
              "    </tr>\n",
              "    <tr>\n",
              "      <th>6151</th>\n",
              "      <td>city_landing</td>\n",
              "      <td>price_button_submit</td>\n",
              "      <td>Moscow / Show offers (3)</td>\n",
              "      <td>1.0</td>\n",
              "      <td>1.0</td>\n",
              "    </tr>\n",
              "    <tr>\n",
              "      <th>1758</th>\n",
              "      <td>city_landing</td>\n",
              "      <td>price_button_submit</td>\n",
              "      <td>Moscow / Show offers (56)</td>\n",
              "      <td>6.0</td>\n",
              "      <td>4.0</td>\n",
              "    </tr>\n",
              "    <tr>\n",
              "      <th>7252</th>\n",
              "      <td>city_landing</td>\n",
              "      <td>price_button_submit</td>\n",
              "      <td>Moscow / Show offers (57)</td>\n",
              "      <td>2.0</td>\n",
              "      <td>2.0</td>\n",
              "    </tr>\n",
              "    <tr>\n",
              "      <th>2840</th>\n",
              "      <td>city_landing</td>\n",
              "      <td>price_button_submit</td>\n",
              "      <td>Moscow / Show offers (7)</td>\n",
              "      <td>2.0</td>\n",
              "      <td>1.0</td>\n",
              "    </tr>\n",
              "    <tr>\n",
              "      <th>9586</th>\n",
              "      <td>city_landing</td>\n",
              "      <td>search-tools-button_open</td>\n",
              "      <td>Moscow / Sort</td>\n",
              "      <td>6.0</td>\n",
              "      <td>4.0</td>\n",
              "    </tr>\n",
              "    <tr>\n",
              "      <th>16619</th>\n",
              "      <td>city_landing</td>\n",
              "      <td>dates_filter_mobile</td>\n",
              "      <td>Moscow / Today</td>\n",
              "      <td>1.0</td>\n",
              "      <td>1.0</td>\n",
              "    </tr>\n",
              "    <tr>\n",
              "      <th>928</th>\n",
              "      <td>city_landing</td>\n",
              "      <td>filters-categories_click</td>\n",
              "      <td>Moscow / Weekend</td>\n",
              "      <td>1.0</td>\n",
              "      <td>1.0</td>\n",
              "    </tr>\n",
              "    <tr>\n",
              "      <th>8719</th>\n",
              "      <td>city_landing</td>\n",
              "      <td>search-tools-button_open</td>\n",
              "      <td>Moscow / АВТОБУСНЫЕ ЭКСКУРСИИ</td>\n",
              "      <td>6.0</td>\n",
              "      <td>4.0</td>\n",
              "    </tr>\n",
              "    <tr>\n",
              "      <th>15986</th>\n",
              "      <td>city_landing</td>\n",
              "      <td>filters-categories_click</td>\n",
              "      <td>Moscow / АВТОБУСНЫЕ ЭКСКУРСИИ</td>\n",
              "      <td>16.0</td>\n",
              "      <td>12.0</td>\n",
              "    </tr>\n",
              "    <tr>\n",
              "      <th>5306</th>\n",
              "      <td>city_landing</td>\n",
              "      <td>search-tools-button_open</td>\n",
              "      <td>Moscow / АВТОБУСНЫЕ ЭКСКУРСИИ ПО МОСКВЕ НА ДВУ...</td>\n",
              "      <td>1.0</td>\n",
              "      <td>1.0</td>\n",
              "    </tr>\n",
              "    <tr>\n",
              "      <th>1883</th>\n",
              "      <td>city_landing</td>\n",
              "      <td>search-tools-button_open</td>\n",
              "      <td>Moscow / Автобусные</td>\n",
              "      <td>6.0</td>\n",
              "      <td>6.0</td>\n",
              "    </tr>\n",
              "    <tr>\n",
              "      <th>2473</th>\n",
              "      <td>city_landing</td>\n",
              "      <td>filters-categories_click</td>\n",
              "      <td>Moscow / Автобусные</td>\n",
              "      <td>236.0</td>\n",
              "      <td>159.0</td>\n",
              "    </tr>\n",
              "    <tr>\n",
              "      <th>6907</th>\n",
              "      <td>city_landing</td>\n",
              "      <td>filters-categories_click</td>\n",
              "      <td>Moscow / Авторские</td>\n",
              "      <td>86.0</td>\n",
              "      <td>57.0</td>\n",
              "    </tr>\n",
              "    <tr>\n",
              "      <th>1803</th>\n",
              "      <td>city_landing</td>\n",
              "      <td>filters-categories_click</td>\n",
              "      <td>Moscow / Билеты без очереди</td>\n",
              "      <td>19.0</td>\n",
              "      <td>15.0</td>\n",
              "    </tr>\n",
              "    <tr>\n",
              "      <th>2614</th>\n",
              "      <td>city_landing</td>\n",
              "      <td>search-tools-button_open</td>\n",
              "      <td>Moscow / Билеты без очереди</td>\n",
              "      <td>1.0</td>\n",
              "      <td>1.0</td>\n",
              "    </tr>\n",
              "  </tbody>\n",
              "</table>\n",
              "</div>"
            ],
            "text/plain": [
              "      event_category              event_action  \\\n",
              "12506   city_landing  filters-categories_click   \n",
              "18648   city_landing  search-tools-button_open   \n",
              "1034    city_landing  filters-categories_click   \n",
              "2009    city_landing  filters-categories_click   \n",
              "1605    city_landing  filters-categories_click   \n",
              "5428    city_landing  filters-categories_click   \n",
              "10083   city_landing  search-tools-button_open   \n",
              "14825   city_landing       price_button_submit   \n",
              "5968    city_landing       price_button_submit   \n",
              "3233    city_landing       price_button_submit   \n",
              "6151    city_landing       price_button_submit   \n",
              "1758    city_landing       price_button_submit   \n",
              "7252    city_landing       price_button_submit   \n",
              "2840    city_landing       price_button_submit   \n",
              "9586    city_landing  search-tools-button_open   \n",
              "16619   city_landing       dates_filter_mobile   \n",
              "928     city_landing  filters-categories_click   \n",
              "8719    city_landing  search-tools-button_open   \n",
              "15986   city_landing  filters-categories_click   \n",
              "5306    city_landing  search-tools-button_open   \n",
              "1883    city_landing  search-tools-button_open   \n",
              "2473    city_landing  filters-categories_click   \n",
              "6907    city_landing  filters-categories_click   \n",
              "1803    city_landing  filters-categories_click   \n",
              "2614    city_landing  search-tools-button_open   \n",
              "\n",
              "                                             event_label  total_events  \\\n",
              "12506                          Moscow / Literature & Art           1.0   \n",
              "18648                        Moscow / Most popular first           1.0   \n",
              "1034                         Moscow / Most popular first           5.0   \n",
              "2009                       Moscow / Off the beaten track           1.0   \n",
              "1605                                   Moscow / Romantic           1.0   \n",
              "5428                                  Moscow / SPUTNIK 8           1.0   \n",
              "10083                               Moscow / Selected: 0           4.0   \n",
              "14825                          Moscow / Show offers (10)           1.0   \n",
              "5968                           Moscow / Show offers (14)           2.0   \n",
              "3233                           Moscow / Show offers (28)           2.0   \n",
              "6151                            Moscow / Show offers (3)           1.0   \n",
              "1758                           Moscow / Show offers (56)           6.0   \n",
              "7252                           Moscow / Show offers (57)           2.0   \n",
              "2840                            Moscow / Show offers (7)           2.0   \n",
              "9586                                       Moscow / Sort           6.0   \n",
              "16619                                     Moscow / Today           1.0   \n",
              "928                                     Moscow / Weekend           1.0   \n",
              "8719                       Moscow / АВТОБУСНЫЕ ЭКСКУРСИИ           6.0   \n",
              "15986                      Moscow / АВТОБУСНЫЕ ЭКСКУРСИИ          16.0   \n",
              "5306   Moscow / АВТОБУСНЫЕ ЭКСКУРСИИ ПО МОСКВЕ НА ДВУ...           1.0   \n",
              "1883                                 Moscow / Автобусные           6.0   \n",
              "2473                                 Moscow / Автобусные         236.0   \n",
              "6907                                  Moscow / Авторские          86.0   \n",
              "1803                         Moscow / Билеты без очереди          19.0   \n",
              "2614                         Moscow / Билеты без очереди           1.0   \n",
              "\n",
              "       unique_events  \n",
              "12506            1.0  \n",
              "18648            1.0  \n",
              "1034             3.0  \n",
              "2009             1.0  \n",
              "1605             1.0  \n",
              "5428             1.0  \n",
              "10083            4.0  \n",
              "14825            1.0  \n",
              "5968             2.0  \n",
              "3233             2.0  \n",
              "6151             1.0  \n",
              "1758             4.0  \n",
              "7252             2.0  \n",
              "2840             1.0  \n",
              "9586             4.0  \n",
              "16619            1.0  \n",
              "928              1.0  \n",
              "8719             4.0  \n",
              "15986           12.0  \n",
              "5306             1.0  \n",
              "1883             6.0  \n",
              "2473           159.0  \n",
              "6907            57.0  \n",
              "1803            15.0  \n",
              "2614             1.0  "
            ]
          },
          "execution_count": 32,
          "metadata": {},
          "output_type": "execute_result"
        }
      ],
      "source": [
        "data[data['event_label'].str.contains('Moscow')].sort_values('event_label').shift(-15).head(25)"
      ]
    },
    {
      "cell_type": "code",
      "execution_count": null,
      "metadata": {
        "id": "4uHDoHNmVqdx",
        "outputId": "0f1a93f3-4530-4bae-eb5d-bad123708382"
      },
      "outputs": [
        {
          "data": {
            "text/html": [
              "<div>\n",
              "<style scoped>\n",
              "    .dataframe tbody tr th:only-of-type {\n",
              "        vertical-align: middle;\n",
              "    }\n",
              "\n",
              "    .dataframe tbody tr th {\n",
              "        vertical-align: top;\n",
              "    }\n",
              "\n",
              "    .dataframe thead th {\n",
              "        text-align: right;\n",
              "    }\n",
              "</style>\n",
              "<table border=\"1\" class=\"dataframe\">\n",
              "  <thead>\n",
              "    <tr style=\"text-align: right;\">\n",
              "      <th></th>\n",
              "      <th>event_category</th>\n",
              "      <th>event_action</th>\n",
              "      <th>event_label</th>\n",
              "      <th>total_events</th>\n",
              "      <th>unique_events</th>\n",
              "    </tr>\n",
              "  </thead>\n",
              "  <tbody>\n",
              "    <tr>\n",
              "      <th>4</th>\n",
              "      <td>city_landing</td>\n",
              "      <td>price_button_submit</td>\n",
              "      <td>Moscow / Показать предложения (345)</td>\n",
              "      <td>2</td>\n",
              "      <td>2</td>\n",
              "    </tr>\n",
              "    <tr>\n",
              "      <th>19</th>\n",
              "      <td>city_landing</td>\n",
              "      <td>price_button_submit</td>\n",
              "      <td>Moscow / Показать предложения (233)</td>\n",
              "      <td>4</td>\n",
              "      <td>3</td>\n",
              "    </tr>\n",
              "    <tr>\n",
              "      <th>97</th>\n",
              "      <td>city_landing</td>\n",
              "      <td>price_button_submit</td>\n",
              "      <td>Moscow / Показать предложения (313)</td>\n",
              "      <td>3</td>\n",
              "      <td>3</td>\n",
              "    </tr>\n",
              "    <tr>\n",
              "      <th>110</th>\n",
              "      <td>city_landing</td>\n",
              "      <td>price_button_submit</td>\n",
              "      <td>Moscow / Показать предложения (286)</td>\n",
              "      <td>2</td>\n",
              "      <td>2</td>\n",
              "    </tr>\n",
              "    <tr>\n",
              "      <th>111</th>\n",
              "      <td>city_landing</td>\n",
              "      <td>price_button_submit</td>\n",
              "      <td>Moscow / Показать предложения (453)</td>\n",
              "      <td>1</td>\n",
              "      <td>1</td>\n",
              "    </tr>\n",
              "    <tr>\n",
              "      <th>129</th>\n",
              "      <td>city_landing</td>\n",
              "      <td>price_button_submit</td>\n",
              "      <td>Moscow / Показать предложения (108)</td>\n",
              "      <td>8</td>\n",
              "      <td>7</td>\n",
              "    </tr>\n",
              "    <tr>\n",
              "      <th>194</th>\n",
              "      <td>city_landing</td>\n",
              "      <td>price_button_submit</td>\n",
              "      <td>Moscow / Показать предложения (11)</td>\n",
              "      <td>37</td>\n",
              "      <td>35</td>\n",
              "    </tr>\n",
              "    <tr>\n",
              "      <th>260</th>\n",
              "      <td>city_landing</td>\n",
              "      <td>price_button_submit</td>\n",
              "      <td>Moscow / Показать предложения (125)</td>\n",
              "      <td>4</td>\n",
              "      <td>3</td>\n",
              "    </tr>\n",
              "    <tr>\n",
              "      <th>285</th>\n",
              "      <td>city_landing</td>\n",
              "      <td>price_button_submit</td>\n",
              "      <td>Moscow / Показать предложения (279)</td>\n",
              "      <td>2</td>\n",
              "      <td>1</td>\n",
              "    </tr>\n",
              "    <tr>\n",
              "      <th>301</th>\n",
              "      <td>city_landing</td>\n",
              "      <td>price_button_submit</td>\n",
              "      <td>Moscow / Показать предложения (55)</td>\n",
              "      <td>15</td>\n",
              "      <td>14</td>\n",
              "    </tr>\n",
              "    <tr>\n",
              "      <th>495</th>\n",
              "      <td>city_landing</td>\n",
              "      <td>price_button_submit</td>\n",
              "      <td>Moscow / Показать предложения (416)</td>\n",
              "      <td>3</td>\n",
              "      <td>2</td>\n",
              "    </tr>\n",
              "    <tr>\n",
              "      <th>537</th>\n",
              "      <td>city_landing</td>\n",
              "      <td>price_button_submit</td>\n",
              "      <td>Moscow / Показать предложения (317)</td>\n",
              "      <td>2</td>\n",
              "      <td>2</td>\n",
              "    </tr>\n",
              "    <tr>\n",
              "      <th>706</th>\n",
              "      <td>city_landing</td>\n",
              "      <td>price_button_submit</td>\n",
              "      <td>Moscow / Ищем экскурсии...</td>\n",
              "      <td>7</td>\n",
              "      <td>6</td>\n",
              "    </tr>\n",
              "    <tr>\n",
              "      <th>830</th>\n",
              "      <td>city_landing</td>\n",
              "      <td>price_button_submit</td>\n",
              "      <td>Moscow / Показать предложения (106)</td>\n",
              "      <td>4</td>\n",
              "      <td>4</td>\n",
              "    </tr>\n",
              "    <tr>\n",
              "      <th>1008</th>\n",
              "      <td>city_landing</td>\n",
              "      <td>price_button_submit</td>\n",
              "      <td>Moscow / Показать предложения (178)</td>\n",
              "      <td>6</td>\n",
              "      <td>4</td>\n",
              "    </tr>\n",
              "    <tr>\n",
              "      <th>1097</th>\n",
              "      <td>city_landing</td>\n",
              "      <td>price_button_submit</td>\n",
              "      <td>Moscow / Показать предложения (91)</td>\n",
              "      <td>8</td>\n",
              "      <td>7</td>\n",
              "    </tr>\n",
              "    <tr>\n",
              "      <th>1114</th>\n",
              "      <td>city_landing</td>\n",
              "      <td>price_button_submit</td>\n",
              "      <td>Moscow / Показать предложения (457)</td>\n",
              "      <td>5</td>\n",
              "      <td>5</td>\n",
              "    </tr>\n",
              "    <tr>\n",
              "      <th>1136</th>\n",
              "      <td>city_landing</td>\n",
              "      <td>price_button_submit</td>\n",
              "      <td>Moscow / Показать предложения (96)</td>\n",
              "      <td>10</td>\n",
              "      <td>8</td>\n",
              "    </tr>\n",
              "    <tr>\n",
              "      <th>1324</th>\n",
              "      <td>city_landing</td>\n",
              "      <td>price_button_submit</td>\n",
              "      <td>Moscow / Показать предложения (6)</td>\n",
              "      <td>39</td>\n",
              "      <td>33</td>\n",
              "    </tr>\n",
              "    <tr>\n",
              "      <th>1390</th>\n",
              "      <td>city_landing</td>\n",
              "      <td>price_button_submit</td>\n",
              "      <td>Moscow / Показать предложения (146)</td>\n",
              "      <td>2</td>\n",
              "      <td>2</td>\n",
              "    </tr>\n",
              "    <tr>\n",
              "      <th>1514</th>\n",
              "      <td>city_landing</td>\n",
              "      <td>price_button_submit</td>\n",
              "      <td>Moscow / Показать предложения (456)</td>\n",
              "      <td>4</td>\n",
              "      <td>3</td>\n",
              "    </tr>\n",
              "    <tr>\n",
              "      <th>1527</th>\n",
              "      <td>city_landing</td>\n",
              "      <td>price_button_submit</td>\n",
              "      <td>Moscow / Показать предложения (292)</td>\n",
              "      <td>11</td>\n",
              "      <td>8</td>\n",
              "    </tr>\n",
              "    <tr>\n",
              "      <th>1542</th>\n",
              "      <td>city_landing</td>\n",
              "      <td>price_button_submit</td>\n",
              "      <td>Moscow / Показать предложения (128)</td>\n",
              "      <td>5</td>\n",
              "      <td>4</td>\n",
              "    </tr>\n",
              "    <tr>\n",
              "      <th>1569</th>\n",
              "      <td>city_landing</td>\n",
              "      <td>price_button_submit</td>\n",
              "      <td>Moscow / Показать предложения (76)</td>\n",
              "      <td>12</td>\n",
              "      <td>11</td>\n",
              "    </tr>\n",
              "    <tr>\n",
              "      <th>1609</th>\n",
              "      <td>city_landing</td>\n",
              "      <td>price_button_submit</td>\n",
              "      <td>Moscow / Показать предложения (97)</td>\n",
              "      <td>6</td>\n",
              "      <td>6</td>\n",
              "    </tr>\n",
              "  </tbody>\n",
              "</table>\n",
              "</div>"
            ],
            "text/plain": [
              "     event_category         event_action                          event_label  \\\n",
              "4      city_landing  price_button_submit  Moscow / Показать предложения (345)   \n",
              "19     city_landing  price_button_submit  Moscow / Показать предложения (233)   \n",
              "97     city_landing  price_button_submit  Moscow / Показать предложения (313)   \n",
              "110    city_landing  price_button_submit  Moscow / Показать предложения (286)   \n",
              "111    city_landing  price_button_submit  Moscow / Показать предложения (453)   \n",
              "129    city_landing  price_button_submit  Moscow / Показать предложения (108)   \n",
              "194    city_landing  price_button_submit   Moscow / Показать предложения (11)   \n",
              "260    city_landing  price_button_submit  Moscow / Показать предложения (125)   \n",
              "285    city_landing  price_button_submit  Moscow / Показать предложения (279)   \n",
              "301    city_landing  price_button_submit   Moscow / Показать предложения (55)   \n",
              "495    city_landing  price_button_submit  Moscow / Показать предложения (416)   \n",
              "537    city_landing  price_button_submit  Moscow / Показать предложения (317)   \n",
              "706    city_landing  price_button_submit           Moscow / Ищем экскурсии...   \n",
              "830    city_landing  price_button_submit  Moscow / Показать предложения (106)   \n",
              "1008   city_landing  price_button_submit  Moscow / Показать предложения (178)   \n",
              "1097   city_landing  price_button_submit   Moscow / Показать предложения (91)   \n",
              "1114   city_landing  price_button_submit  Moscow / Показать предложения (457)   \n",
              "1136   city_landing  price_button_submit   Moscow / Показать предложения (96)   \n",
              "1324   city_landing  price_button_submit    Moscow / Показать предложения (6)   \n",
              "1390   city_landing  price_button_submit  Moscow / Показать предложения (146)   \n",
              "1514   city_landing  price_button_submit  Moscow / Показать предложения (456)   \n",
              "1527   city_landing  price_button_submit  Moscow / Показать предложения (292)   \n",
              "1542   city_landing  price_button_submit  Moscow / Показать предложения (128)   \n",
              "1569   city_landing  price_button_submit   Moscow / Показать предложения (76)   \n",
              "1609   city_landing  price_button_submit   Moscow / Показать предложения (97)   \n",
              "\n",
              "      total_events  unique_events  \n",
              "4                2              2  \n",
              "19               4              3  \n",
              "97               3              3  \n",
              "110              2              2  \n",
              "111              1              1  \n",
              "129              8              7  \n",
              "194             37             35  \n",
              "260              4              3  \n",
              "285              2              1  \n",
              "301             15             14  \n",
              "495              3              2  \n",
              "537              2              2  \n",
              "706              7              6  \n",
              "830              4              4  \n",
              "1008             6              4  \n",
              "1097             8              7  \n",
              "1114             5              5  \n",
              "1136            10              8  \n",
              "1324            39             33  \n",
              "1390             2              2  \n",
              "1514             4              3  \n",
              "1527            11              8  \n",
              "1542             5              4  \n",
              "1569            12             11  \n",
              "1609             6              6  "
            ]
          },
          "execution_count": 23,
          "metadata": {},
          "output_type": "execute_result"
        }
      ],
      "source": [
        "data[data['event_label'].str.contains('Moscow')].query('event_action == \"price_button_submit\"').head(25)"
      ]
    },
    {
      "cell_type": "code",
      "execution_count": null,
      "metadata": {
        "id": "LDp5aCPZVqdy",
        "outputId": "92739759-fdbc-4de2-d87b-89d3bab658a0"
      },
      "outputs": [
        {
          "data": {
            "text/html": [
              "<div>\n",
              "<style scoped>\n",
              "    .dataframe tbody tr th:only-of-type {\n",
              "        vertical-align: middle;\n",
              "    }\n",
              "\n",
              "    .dataframe tbody tr th {\n",
              "        vertical-align: top;\n",
              "    }\n",
              "\n",
              "    .dataframe thead th {\n",
              "        text-align: right;\n",
              "    }\n",
              "</style>\n",
              "<table border=\"1\" class=\"dataframe\">\n",
              "  <thead>\n",
              "    <tr style=\"text-align: right;\">\n",
              "      <th></th>\n",
              "      <th>event_category</th>\n",
              "      <th>event_action</th>\n",
              "      <th>event_label</th>\n",
              "      <th>total_events</th>\n",
              "      <th>unique_events</th>\n",
              "    </tr>\n",
              "  </thead>\n",
              "  <tbody>\n",
              "    <tr>\n",
              "      <th>0</th>\n",
              "      <td>city_landing</td>\n",
              "      <td>price_button_submit</td>\n",
              "      <td>Tula / Показать предложения (11)</td>\n",
              "      <td>8</td>\n",
              "      <td>7</td>\n",
              "    </tr>\n",
              "    <tr>\n",
              "      <th>1</th>\n",
              "      <td>city_landing</td>\n",
              "      <td>price_button_submit</td>\n",
              "      <td>Sochi / Показать предложения (39)</td>\n",
              "      <td>12</td>\n",
              "      <td>10</td>\n",
              "    </tr>\n",
              "    <tr>\n",
              "      <th>2</th>\n",
              "      <td>city_landing</td>\n",
              "      <td>search-tools-button_open</td>\n",
              "      <td>Penza / Сортировка</td>\n",
              "      <td>2</td>\n",
              "      <td>2</td>\n",
              "    </tr>\n",
              "    <tr>\n",
              "      <th>3</th>\n",
              "      <td>city_landing</td>\n",
              "      <td>filters-categories_click</td>\n",
              "      <td>Gelendzhik / ЭКСКУРСИИ В ГЕЛЕНДЖИКЕ ЦЕНЫ</td>\n",
              "      <td>1</td>\n",
              "      <td>1</td>\n",
              "    </tr>\n",
              "    <tr>\n",
              "      <th>4</th>\n",
              "      <td>city_landing</td>\n",
              "      <td>price_button_submit</td>\n",
              "      <td>Moscow / Показать предложения (345)</td>\n",
              "      <td>2</td>\n",
              "      <td>2</td>\n",
              "    </tr>\n",
              "    <tr>\n",
              "      <th>...</th>\n",
              "      <td>...</td>\n",
              "      <td>...</td>\n",
              "      <td>...</td>\n",
              "      <td>...</td>\n",
              "      <td>...</td>\n",
              "    </tr>\n",
              "    <tr>\n",
              "      <th>19087</th>\n",
              "      <td>city_landing</td>\n",
              "      <td>search-tools-button_open</td>\n",
              "      <td>Istanbul / ЭКСКУРСИИ В СТАМБУЛЕ</td>\n",
              "      <td>38</td>\n",
              "      <td>32</td>\n",
              "    </tr>\n",
              "    <tr>\n",
              "      <th>19088</th>\n",
              "      <td>city_landing</td>\n",
              "      <td>filters-categories_click</td>\n",
              "      <td>Ufa / Пешеходные</td>\n",
              "      <td>3</td>\n",
              "      <td>3</td>\n",
              "    </tr>\n",
              "    <tr>\n",
              "      <th>19089</th>\n",
              "      <td>city_landing</td>\n",
              "      <td>search-tools-button_open</td>\n",
              "      <td>Yerevan / Фильтры Выбрано: 0</td>\n",
              "      <td>16</td>\n",
              "      <td>16</td>\n",
              "    </tr>\n",
              "    <tr>\n",
              "      <th>19090</th>\n",
              "      <td>city_landing</td>\n",
              "      <td>price_button_submit</td>\n",
              "      <td>Pskov / Показать предложения (35)</td>\n",
              "      <td>7</td>\n",
              "      <td>7</td>\n",
              "    </tr>\n",
              "    <tr>\n",
              "      <th>19091</th>\n",
              "      <td>City Page</td>\n",
              "      <td>Page Visit</td>\n",
              "      <td>Auckland</td>\n",
              "      <td>33</td>\n",
              "      <td>25</td>\n",
              "    </tr>\n",
              "  </tbody>\n",
              "</table>\n",
              "<p>19092 rows × 5 columns</p>\n",
              "</div>"
            ],
            "text/plain": [
              "      event_category              event_action  \\\n",
              "0       city_landing       price_button_submit   \n",
              "1       city_landing       price_button_submit   \n",
              "2       city_landing  search-tools-button_open   \n",
              "3       city_landing  filters-categories_click   \n",
              "4       city_landing       price_button_submit   \n",
              "...              ...                       ...   \n",
              "19087   city_landing  search-tools-button_open   \n",
              "19088   city_landing  filters-categories_click   \n",
              "19089   city_landing  search-tools-button_open   \n",
              "19090   city_landing       price_button_submit   \n",
              "19091      City Page                Page Visit   \n",
              "\n",
              "                                    event_label  total_events  unique_events  \n",
              "0              Tula / Показать предложения (11)             8              7  \n",
              "1             Sochi / Показать предложения (39)            12             10  \n",
              "2                            Penza / Сортировка             2              2  \n",
              "3      Gelendzhik / ЭКСКУРСИИ В ГЕЛЕНДЖИКЕ ЦЕНЫ             1              1  \n",
              "4           Moscow / Показать предложения (345)             2              2  \n",
              "...                                         ...           ...            ...  \n",
              "19087           Istanbul / ЭКСКУРСИИ В СТАМБУЛЕ            38             32  \n",
              "19088                          Ufa / Пешеходные             3              3  \n",
              "19089              Yerevan / Фильтры Выбрано: 0            16             16  \n",
              "19090         Pskov / Показать предложения (35)             7              7  \n",
              "19091                                  Auckland            33             25  \n",
              "\n",
              "[19092 rows x 5 columns]"
            ]
          },
          "execution_count": 33,
          "metadata": {},
          "output_type": "execute_result"
        }
      ],
      "source": [
        "data"
      ]
    },
    {
      "cell_type": "code",
      "execution_count": null,
      "metadata": {
        "id": "EyQu_N8yVqdz",
        "outputId": "780cf5ed-0081-402d-996a-3526f85e653f"
      },
      "outputs": [
        {
          "data": {
            "text/html": [
              "<div>\n",
              "<style scoped>\n",
              "    .dataframe tbody tr th:only-of-type {\n",
              "        vertical-align: middle;\n",
              "    }\n",
              "\n",
              "    .dataframe tbody tr th {\n",
              "        vertical-align: top;\n",
              "    }\n",
              "\n",
              "    .dataframe thead th {\n",
              "        text-align: right;\n",
              "    }\n",
              "</style>\n",
              "<table border=\"1\" class=\"dataframe\">\n",
              "  <thead>\n",
              "    <tr style=\"text-align: right;\">\n",
              "      <th></th>\n",
              "      <th>event_category</th>\n",
              "      <th>event_action</th>\n",
              "      <th>event_label</th>\n",
              "      <th>total_events</th>\n",
              "      <th>unique_events</th>\n",
              "    </tr>\n",
              "  </thead>\n",
              "  <tbody>\n",
              "    <tr>\n",
              "      <th>5428</th>\n",
              "      <td>City Page</td>\n",
              "      <td>Page Visit</td>\n",
              "      <td>Moscow</td>\n",
              "      <td>202253</td>\n",
              "      <td>134254</td>\n",
              "    </tr>\n",
              "  </tbody>\n",
              "</table>\n",
              "</div>"
            ],
            "text/plain": [
              "     event_category event_action event_label  total_events  unique_events\n",
              "5428      City Page   Page Visit      Moscow        202253         134254"
            ]
          },
          "execution_count": 24,
          "metadata": {},
          "output_type": "execute_result"
        }
      ],
      "source": [
        "data.loc[(data.event_action == 'Page Visit') & (data.event_label.str.contains('Moscow'))]"
      ]
    },
    {
      "cell_type": "markdown",
      "metadata": {
        "id": "OPKawuqRVqdz"
      },
      "source": [
        "## Описание data:\n",
        "    ### 1 строка =  1 вариант совершенного события\n",
        "    ### event action - название действия события, где Page Visit - всегда посещение (= пользователь открыл страницу сайта), остальные события - всегда клики по элементам страницы (кнопки, чекбоксы), где элементы - это фильтры на мобильной версии сайта.\n",
        "    \n",
        "    ### event label - дополнительная информация по событию в лейбле на 1 месте всегда название города. Там, где в лейбле через / написано что-то еще - это текст, по которому пользователь кликнул. Там встречается много грязных данных!!!\n",
        "    \n",
        "    ### metrics: это количество всех (total events) и уникальных (unique events) событий, которые были затреканы на сайте\n",
        "    \n",
        "    ### event_category - равно 'City Page' для event action = Page Visit; равно 'city_landing' для остальных event action"
      ]
    },
    {
      "cell_type": "markdown",
      "metadata": {
        "id": "eceTZzbCVqd0"
      },
      "source": [
        "## *важно! в event label много грязных данных, оттуда можно убрать числа.\n",
        "### там могут встречаться разные вещи.\n",
        "### это нормально, поступай с этим так, как тебе покажется правильным"
      ]
    },
    {
      "cell_type": "markdown",
      "metadata": {
        "id": "iXxCJHl_Vqd1"
      },
      "source": [
        "## Проанализирую использование фильтров пользователями на страницах городов. вопросы, на которые стоит ответить:\n",
        "  ### 1. Сколько людей пользуются фильтрами?\n",
        "  ### 2. В каких городах фильтрами пользуются больше? в каких меньше?\n",
        "  ### 3. Какие разделы фильтров наиболее востребованы? “фильтры”, “сортировка”, “категории”?\n",
        "  ### 4. Как часто люди пользуются выбором цены?"
      ]
    },
    {
      "cell_type": "code",
      "execution_count": null,
      "metadata": {
        "id": "MNr3BTzJVqd1",
        "outputId": "292ea49f-9c08-4091-9ccd-73620885af57"
      },
      "outputs": [
        {
          "name": "stdout",
          "output_type": "stream",
          "text": [
            "<class 'pandas.core.frame.DataFrame'>\n",
            "RangeIndex: 19092 entries, 0 to 19091\n",
            "Data columns (total 5 columns):\n",
            " #   Column          Non-Null Count  Dtype \n",
            "---  ------          --------------  ----- \n",
            " 0   event_category  19092 non-null  object\n",
            " 1   event_action    19092 non-null  object\n",
            " 2   event_label     19092 non-null  object\n",
            " 3   total_events    19092 non-null  int64 \n",
            " 4   unique_events   19092 non-null  int64 \n",
            "dtypes: int64(2), object(3)\n",
            "memory usage: 745.9+ KB\n"
          ]
        }
      ],
      "source": [
        "# 0. Проверю пропуски в данных и типы данных\n",
        "data.info() # пропущенных значений нет"
      ]
    },
    {
      "cell_type": "code",
      "execution_count": null,
      "metadata": {
        "id": "rORxhcCsVqd2"
      },
      "outputs": [],
      "source": [
        "# 1. Сколько людей пользуются фильтрами?\n",
        "# Вопрос: интересует любое событие, связанное с применением фильтра или или именно использование фильтра,\n",
        "# то есть событие \"применить фильтры\" (price_button_submit)\n",
        "# может, посчитать на абсолютную метрику, а относительную - % людей ?"
      ]
    },
    {
      "cell_type": "code",
      "execution_count": null,
      "metadata": {
        "id": "FuhQwuxWVqd2"
      },
      "outputs": [],
      "source": [
        "# Чтобы найти количество людей, которые пользуются фильтрами,\n",
        "# просуммирую количество уникальных событий для типа события \"применить фильтры\" (price_button_submit)"
      ]
    },
    {
      "cell_type": "code",
      "execution_count": null,
      "metadata": {
        "id": "4rZuIc-LVqd3",
        "outputId": "404e9238-9e24-4d14-b123-da5a62cd6214"
      },
      "outputs": [
        {
          "data": {
            "text/plain": [
              "63063"
            ]
          },
          "execution_count": 35,
          "metadata": {},
          "output_type": "execute_result"
        }
      ],
      "source": [
        "# Максимум людей, кот пользуются фильтрами\n",
        "data.loc[(data.event_action == 'price_button_submit')].unique_events.sum()"
      ]
    },
    {
      "cell_type": "code",
      "execution_count": null,
      "metadata": {
        "id": "YwpOCwEjVqd3",
        "outputId": "bf56881a-327e-48b3-a1b7-bd2440f3e760"
      },
      "outputs": [
        {
          "data": {
            "text/plain": [
              "242"
            ]
          },
          "execution_count": 32,
          "metadata": {},
          "output_type": "execute_result"
        }
      ],
      "source": [
        "# Минимум, кот пользуются фильтрами\n",
        "data.loc[(data.event_action == 'price_button_submit')].unique_events.max()"
      ]
    },
    {
      "cell_type": "code",
      "execution_count": null,
      "metadata": {
        "id": "k8J2ItMxVqd4"
      },
      "outputs": [],
      "source": [
        "# 2. В каких городах фильтрами пользуются больше? в каких меньше?\n",
        "\n",
        "# Вопрос: (Просто больше событий или большее кол-во людей??)"
      ]
    },
    {
      "cell_type": "code",
      "execution_count": null,
      "metadata": {
        "id": "UyB-NdU7Vqd4"
      },
      "outputs": [],
      "source": [
        "data['city'] = data.event_label.str.split(' / ').str.get(0)"
      ]
    },
    {
      "cell_type": "code",
      "execution_count": null,
      "metadata": {
        "id": "3RQUOEjIVqd4",
        "outputId": "8826b435-318f-460c-b125-f5f20ac8ee67"
      },
      "outputs": [
        {
          "data": {
            "text/html": [
              "<div>\n",
              "<style scoped>\n",
              "    .dataframe tbody tr th:only-of-type {\n",
              "        vertical-align: middle;\n",
              "    }\n",
              "\n",
              "    .dataframe tbody tr th {\n",
              "        vertical-align: top;\n",
              "    }\n",
              "\n",
              "    .dataframe thead th {\n",
              "        text-align: right;\n",
              "    }\n",
              "</style>\n",
              "<table border=\"1\" class=\"dataframe\">\n",
              "  <thead>\n",
              "    <tr style=\"text-align: right;\">\n",
              "      <th></th>\n",
              "      <th>event_category</th>\n",
              "      <th>event_action</th>\n",
              "      <th>event_label</th>\n",
              "      <th>total_events</th>\n",
              "      <th>unique_events</th>\n",
              "      <th>city</th>\n",
              "    </tr>\n",
              "  </thead>\n",
              "  <tbody>\n",
              "    <tr>\n",
              "      <th>11081</th>\n",
              "      <td>city_landing</td>\n",
              "      <td>price_button_submit</td>\n",
              "      <td>Abakan / Показать предложения (21)</td>\n",
              "      <td>2</td>\n",
              "      <td>2</td>\n",
              "      <td>Abakan</td>\n",
              "    </tr>\n",
              "    <tr>\n",
              "      <th>54</th>\n",
              "      <td>city_landing</td>\n",
              "      <td>search-tools-button_open</td>\n",
              "      <td>Abakan / Категории</td>\n",
              "      <td>5</td>\n",
              "      <td>4</td>\n",
              "      <td>Abakan</td>\n",
              "    </tr>\n",
              "    <tr>\n",
              "      <th>16258</th>\n",
              "      <td>city_landing</td>\n",
              "      <td>search-tools-button_open</td>\n",
              "      <td>Abakan / Выбрано: 0</td>\n",
              "      <td>3</td>\n",
              "      <td>3</td>\n",
              "      <td>Abakan</td>\n",
              "    </tr>\n",
              "    <tr>\n",
              "      <th>5246</th>\n",
              "      <td>city_landing</td>\n",
              "      <td>filters-categories_click</td>\n",
              "      <td>Abakan / Сначала самые дешевые</td>\n",
              "      <td>1</td>\n",
              "      <td>1</td>\n",
              "      <td>Abakan</td>\n",
              "    </tr>\n",
              "    <tr>\n",
              "      <th>18512</th>\n",
              "      <td>city_landing</td>\n",
              "      <td>dates_filter_mobile</td>\n",
              "      <td>Abakan / Завтра</td>\n",
              "      <td>2</td>\n",
              "      <td>1</td>\n",
              "      <td>Abakan</td>\n",
              "    </tr>\n",
              "    <tr>\n",
              "      <th>...</th>\n",
              "      <td>...</td>\n",
              "      <td>...</td>\n",
              "      <td>...</td>\n",
              "      <td>...</td>\n",
              "      <td>...</td>\n",
              "      <td>...</td>\n",
              "    </tr>\n",
              "    <tr>\n",
              "      <th>12539</th>\n",
              "      <td>city_landing</td>\n",
              "      <td>dates_filter_mobile</td>\n",
              "      <td>zaraysk / Завтра</td>\n",
              "      <td>1</td>\n",
              "      <td>1</td>\n",
              "      <td>zaraysk</td>\n",
              "    </tr>\n",
              "    <tr>\n",
              "      <th>9116</th>\n",
              "      <td>city_landing</td>\n",
              "      <td>filters-categories_click</td>\n",
              "      <td>zaraysk / Сначала самые популярные</td>\n",
              "      <td>1</td>\n",
              "      <td>1</td>\n",
              "      <td>zaraysk</td>\n",
              "    </tr>\n",
              "    <tr>\n",
              "      <th>9906</th>\n",
              "      <td>city_landing</td>\n",
              "      <td>pay-type_checkbox</td>\n",
              "      <td>zaraysk / Оплата на месте (без предоплаты)</td>\n",
              "      <td>1</td>\n",
              "      <td>1</td>\n",
              "      <td>zaraysk</td>\n",
              "    </tr>\n",
              "    <tr>\n",
              "      <th>15204</th>\n",
              "      <td>city_landing</td>\n",
              "      <td>price_button_submit</td>\n",
              "      <td>zaraysk / Показать предложения (5)</td>\n",
              "      <td>1</td>\n",
              "      <td>1</td>\n",
              "      <td>zaraysk</td>\n",
              "    </tr>\n",
              "    <tr>\n",
              "      <th>1232</th>\n",
              "      <td>city_landing</td>\n",
              "      <td>search-tools-button_open</td>\n",
              "      <td>zaraysk / Фильтры</td>\n",
              "      <td>1</td>\n",
              "      <td>1</td>\n",
              "      <td>zaraysk</td>\n",
              "    </tr>\n",
              "  </tbody>\n",
              "</table>\n",
              "<p>18441 rows × 6 columns</p>\n",
              "</div>"
            ],
            "text/plain": [
              "      event_category              event_action  \\\n",
              "11081   city_landing       price_button_submit   \n",
              "54      city_landing  search-tools-button_open   \n",
              "16258   city_landing  search-tools-button_open   \n",
              "5246    city_landing  filters-categories_click   \n",
              "18512   city_landing       dates_filter_mobile   \n",
              "...              ...                       ...   \n",
              "12539   city_landing       dates_filter_mobile   \n",
              "9116    city_landing  filters-categories_click   \n",
              "9906    city_landing         pay-type_checkbox   \n",
              "15204   city_landing       price_button_submit   \n",
              "1232    city_landing  search-tools-button_open   \n",
              "\n",
              "                                      event_label  total_events  \\\n",
              "11081          Abakan / Показать предложения (21)             2   \n",
              "54                             Abakan / Категории             5   \n",
              "16258                         Abakan / Выбрано: 0             3   \n",
              "5246               Abakan / Сначала самые дешевые             1   \n",
              "18512                             Abakan / Завтра             2   \n",
              "...                                           ...           ...   \n",
              "12539                            zaraysk / Завтра             1   \n",
              "9116           zaraysk / Сначала самые популярные             1   \n",
              "9906   zaraysk / Оплата на месте (без предоплаты)             1   \n",
              "15204          zaraysk / Показать предложения (5)             1   \n",
              "1232                            zaraysk / Фильтры             1   \n",
              "\n",
              "       unique_events     city  \n",
              "11081              2   Abakan  \n",
              "54                 4   Abakan  \n",
              "16258              3   Abakan  \n",
              "5246               1   Abakan  \n",
              "18512              1   Abakan  \n",
              "...              ...      ...  \n",
              "12539              1  zaraysk  \n",
              "9116               1  zaraysk  \n",
              "9906               1  zaraysk  \n",
              "15204              1  zaraysk  \n",
              "1232               1  zaraysk  \n",
              "\n",
              "[18441 rows x 6 columns]"
            ]
          },
          "execution_count": 37,
          "metadata": {},
          "output_type": "execute_result"
        }
      ],
      "source": [
        "data.query(\"event_action != 'Page Visit'\").sort_values('city')"
      ]
    },
    {
      "cell_type": "code",
      "execution_count": null,
      "metadata": {
        "id": "Vq7k4d5iVqd5"
      },
      "outputs": [],
      "source": [
        "# больше по кол-ву событий\n",
        "using_filters_info_groupped_by_city = data.query(\"event_action != 'Page Visit'\") \\\n",
        "    .groupby('city', as_index=False) \\\n",
        "    .agg({'total_events': 'sum'})"
      ]
    },
    {
      "cell_type": "code",
      "execution_count": null,
      "metadata": {
        "id": "CvG5tPO3Vqd5",
        "outputId": "4656c6c3-17b3-4d90-f071-75880815ae63"
      },
      "outputs": [
        {
          "data": {
            "text/html": [
              "<div>\n",
              "<style scoped>\n",
              "    .dataframe tbody tr th:only-of-type {\n",
              "        vertical-align: middle;\n",
              "    }\n",
              "\n",
              "    .dataframe tbody tr th {\n",
              "        vertical-align: top;\n",
              "    }\n",
              "\n",
              "    .dataframe thead th {\n",
              "        text-align: right;\n",
              "    }\n",
              "</style>\n",
              "<table border=\"1\" class=\"dataframe\">\n",
              "  <thead>\n",
              "    <tr style=\"text-align: right;\">\n",
              "      <th></th>\n",
              "      <th>city</th>\n",
              "      <th>total_events</th>\n",
              "    </tr>\n",
              "  </thead>\n",
              "  <tbody>\n",
              "    <tr>\n",
              "      <th>149</th>\n",
              "      <td>Kaliningrad</td>\n",
              "      <td>31776</td>\n",
              "    </tr>\n",
              "    <tr>\n",
              "      <th>299</th>\n",
              "      <td>Saint Petersburg</td>\n",
              "      <td>30006</td>\n",
              "    </tr>\n",
              "    <tr>\n",
              "      <th>222</th>\n",
              "      <td>Moscow</td>\n",
              "      <td>19154</td>\n",
              "    </tr>\n",
              "    <tr>\n",
              "      <th>324</th>\n",
              "      <td>Sochi</td>\n",
              "      <td>15286</td>\n",
              "    </tr>\n",
              "    <tr>\n",
              "      <th>139</th>\n",
              "      <td>Istanbul</td>\n",
              "      <td>14087</td>\n",
              "    </tr>\n",
              "    <tr>\n",
              "      <th>91</th>\n",
              "      <td>Dubai</td>\n",
              "      <td>10388</td>\n",
              "    </tr>\n",
              "    <tr>\n",
              "      <th>156</th>\n",
              "      <td>Kazan</td>\n",
              "      <td>10095</td>\n",
              "    </tr>\n",
              "    <tr>\n",
              "      <th>59</th>\n",
              "      <td>Budapest</td>\n",
              "      <td>9958</td>\n",
              "    </tr>\n",
              "    <tr>\n",
              "      <th>15</th>\n",
              "      <td>Anapa</td>\n",
              "      <td>8753</td>\n",
              "    </tr>\n",
              "    <tr>\n",
              "      <th>164</th>\n",
              "      <td>Kislovodsk</td>\n",
              "      <td>7800</td>\n",
              "    </tr>\n",
              "  </tbody>\n",
              "</table>\n",
              "</div>"
            ],
            "text/plain": [
              "                 city  total_events\n",
              "149       Kaliningrad         31776\n",
              "299  Saint Petersburg         30006\n",
              "222            Moscow         19154\n",
              "324             Sochi         15286\n",
              "139          Istanbul         14087\n",
              "91              Dubai         10388\n",
              "156             Kazan         10095\n",
              "59           Budapest          9958\n",
              "15              Anapa          8753\n",
              "164        Kislovodsk          7800"
            ]
          },
          "execution_count": 90,
          "metadata": {},
          "output_type": "execute_result"
        }
      ],
      "source": [
        "# Топ 10 городов, в которых больше всего пользуются фильтрами по кол-ву событий\n",
        "top_10_cities = using_filters_info_groupped_by_city.sort_values('total_events', ascending=False).head(10)\n",
        "top_10_cities"
      ]
    },
    {
      "cell_type": "code",
      "execution_count": null,
      "metadata": {
        "id": "cAe3iPxGVqd6",
        "outputId": "495da412-40cb-4dca-a976-fdbccaf4f754"
      },
      "outputs": [
        {
          "data": {
            "text/html": [
              "<div>\n",
              "<style scoped>\n",
              "    .dataframe tbody tr th:only-of-type {\n",
              "        vertical-align: middle;\n",
              "    }\n",
              "\n",
              "    .dataframe tbody tr th {\n",
              "        vertical-align: top;\n",
              "    }\n",
              "\n",
              "    .dataframe thead th {\n",
              "        text-align: right;\n",
              "    }\n",
              "</style>\n",
              "<table border=\"1\" class=\"dataframe\">\n",
              "  <thead>\n",
              "    <tr style=\"text-align: right;\">\n",
              "      <th></th>\n",
              "      <th>city</th>\n",
              "      <th>unique_events</th>\n",
              "    </tr>\n",
              "  </thead>\n",
              "  <tbody>\n",
              "    <tr>\n",
              "      <th>71</th>\n",
              "      <td>Chambery</td>\n",
              "      <td>1</td>\n",
              "    </tr>\n",
              "    <tr>\n",
              "      <th>262</th>\n",
              "      <td>Pechory</td>\n",
              "      <td>1</td>\n",
              "    </tr>\n",
              "    <tr>\n",
              "      <th>49</th>\n",
              "      <td>Bonn</td>\n",
              "      <td>1</td>\n",
              "    </tr>\n",
              "    <tr>\n",
              "      <th>251</th>\n",
              "      <td>Orlando</td>\n",
              "      <td>1</td>\n",
              "    </tr>\n",
              "    <tr>\n",
              "      <th>339</th>\n",
              "      <td>Sydney</td>\n",
              "      <td>1</td>\n",
              "    </tr>\n",
              "    <tr>\n",
              "      <th>288</th>\n",
              "      <td>Rio de Janeiro</td>\n",
              "      <td>1</td>\n",
              "    </tr>\n",
              "    <tr>\n",
              "      <th>241</th>\n",
              "      <td>Noginsk</td>\n",
              "      <td>1</td>\n",
              "    </tr>\n",
              "    <tr>\n",
              "      <th>129</th>\n",
              "      <td>Herzliya</td>\n",
              "      <td>1</td>\n",
              "    </tr>\n",
              "    <tr>\n",
              "      <th>55</th>\n",
              "      <td>Bruges</td>\n",
              "      <td>1</td>\n",
              "    </tr>\n",
              "    <tr>\n",
              "      <th>130</th>\n",
              "      <td>Hluboká nad Vltavou</td>\n",
              "      <td>1</td>\n",
              "    </tr>\n",
              "  </tbody>\n",
              "</table>\n",
              "</div>"
            ],
            "text/plain": [
              "                    city  unique_events\n",
              "71              Chambery              1\n",
              "262              Pechory              1\n",
              "49                  Bonn              1\n",
              "251              Orlando              1\n",
              "339               Sydney              1\n",
              "288       Rio de Janeiro              1\n",
              "241              Noginsk              1\n",
              "129             Herzliya              1\n",
              "55                Bruges              1\n",
              "130  Hluboká nad Vltavou              1"
            ]
          },
          "execution_count": 40,
          "metadata": {},
          "output_type": "execute_result"
        }
      ],
      "source": [
        "# Топ 10 городов, в которых меньше всего пользуются фильтрами по кол-ву событий\n",
        "using_filters_info_groupped_by_city.sort_values('unique_events').head(10)"
      ]
    },
    {
      "cell_type": "code",
      "execution_count": null,
      "metadata": {
        "id": "bZ1a_cZ8Vqd6"
      },
      "outputs": [],
      "source": [
        "# Какие фильтры используют в топ городах больше всего"
      ]
    },
    {
      "cell_type": "code",
      "execution_count": null,
      "metadata": {
        "id": "ixLD91waVqd7"
      },
      "outputs": [],
      "source": [
        "FILTERS_TO_ANALYZE = set(['ticket-type_checkbox', 'start_date_click', 'end_date_click', 'dates_filter_mobile', 'price_first', 'price_second', 'price_third', 'pay-type_checkbox'])"
      ]
    },
    {
      "cell_type": "code",
      "execution_count": null,
      "metadata": {
        "id": "AfhfWnzEVqd7",
        "outputId": "bfabc07d-eca4-400b-8f82-b5a017657792"
      },
      "outputs": [
        {
          "data": {
            "text/plain": [
              "array(['Kaliningrad', 'Saint Petersburg', 'Moscow', 'Sochi', 'Istanbul',\n",
              "       'Dubai', 'Kazan', 'Budapest', 'Anapa', 'Kislovodsk'], dtype=object)"
            ]
          },
          "execution_count": 91,
          "metadata": {},
          "output_type": "execute_result"
        }
      ],
      "source": [
        "TOP_CITIES = top_10_cities.city.values\n",
        "TOP_CITIES"
      ]
    },
    {
      "cell_type": "code",
      "execution_count": null,
      "metadata": {
        "id": "rAt8kdtGVqd7"
      },
      "outputs": [],
      "source": [
        "cities_filters_to_analyze = data[data.event_action.apply(lambda x: x in FILTERS_TO_ANALYZE)]"
      ]
    },
    {
      "cell_type": "code",
      "execution_count": null,
      "metadata": {
        "id": "Lm8eCT7NVqd8"
      },
      "outputs": [],
      "source": [
        "cities_filters_to_analyze = city_data_filter_to_analyze[city_data_filter_to_analyze.city.apply(lambda x: x in TOP_CITIES)]"
      ]
    },
    {
      "cell_type": "code",
      "execution_count": null,
      "metadata": {
        "scrolled": true,
        "id": "Hk14lpJoVqd8",
        "outputId": "968bc16d-1b6c-4e65-daf6-1b418515424d"
      },
      "outputs": [
        {
          "data": {
            "text/html": [
              "<div>\n",
              "<style scoped>\n",
              "    .dataframe tbody tr th:only-of-type {\n",
              "        vertical-align: middle;\n",
              "    }\n",
              "\n",
              "    .dataframe tbody tr th {\n",
              "        vertical-align: top;\n",
              "    }\n",
              "\n",
              "    .dataframe thead th {\n",
              "        text-align: right;\n",
              "    }\n",
              "</style>\n",
              "<table border=\"1\" class=\"dataframe\">\n",
              "  <thead>\n",
              "    <tr style=\"text-align: right;\">\n",
              "      <th></th>\n",
              "      <th>event_category</th>\n",
              "      <th>event_action</th>\n",
              "      <th>event_label</th>\n",
              "      <th>total_events</th>\n",
              "      <th>unique_events</th>\n",
              "      <th>city</th>\n",
              "    </tr>\n",
              "  </thead>\n",
              "  <tbody>\n",
              "    <tr>\n",
              "      <th>45</th>\n",
              "      <td>city_landing</td>\n",
              "      <td>price_third</td>\n",
              "      <td>Saint Petersburg</td>\n",
              "      <td>186</td>\n",
              "      <td>94</td>\n",
              "      <td>Saint Petersburg</td>\n",
              "    </tr>\n",
              "    <tr>\n",
              "      <th>100</th>\n",
              "      <td>city_landing</td>\n",
              "      <td>dates_filter_mobile</td>\n",
              "      <td>Moscow / Today</td>\n",
              "      <td>1</td>\n",
              "      <td>1</td>\n",
              "      <td>Moscow</td>\n",
              "    </tr>\n",
              "    <tr>\n",
              "      <th>253</th>\n",
              "      <td>city_landing</td>\n",
              "      <td>price_second</td>\n",
              "      <td>Kislovodsk</td>\n",
              "      <td>55</td>\n",
              "      <td>35</td>\n",
              "      <td>Kislovodsk</td>\n",
              "    </tr>\n",
              "    <tr>\n",
              "      <th>468</th>\n",
              "      <td>city_landing</td>\n",
              "      <td>end_date_click</td>\n",
              "      <td>Istanbul</td>\n",
              "      <td>522</td>\n",
              "      <td>407</td>\n",
              "      <td>Istanbul</td>\n",
              "    </tr>\n",
              "    <tr>\n",
              "      <th>520</th>\n",
              "      <td>city_landing</td>\n",
              "      <td>dates_filter_mobile</td>\n",
              "      <td>Anapa / Завтра</td>\n",
              "      <td>181</td>\n",
              "      <td>146</td>\n",
              "      <td>Anapa</td>\n",
              "    </tr>\n",
              "    <tr>\n",
              "      <th>...</th>\n",
              "      <td>...</td>\n",
              "      <td>...</td>\n",
              "      <td>...</td>\n",
              "      <td>...</td>\n",
              "      <td>...</td>\n",
              "      <td>...</td>\n",
              "    </tr>\n",
              "    <tr>\n",
              "      <th>17900</th>\n",
              "      <td>city_landing</td>\n",
              "      <td>pay-type_checkbox</td>\n",
              "      <td>Budapest / Оплата на месте (без предоплаты)</td>\n",
              "      <td>242</td>\n",
              "      <td>186</td>\n",
              "      <td>Budapest</td>\n",
              "    </tr>\n",
              "    <tr>\n",
              "      <th>17948</th>\n",
              "      <td>city_landing</td>\n",
              "      <td>price_second</td>\n",
              "      <td>Anapa</td>\n",
              "      <td>98</td>\n",
              "      <td>74</td>\n",
              "      <td>Anapa</td>\n",
              "    </tr>\n",
              "    <tr>\n",
              "      <th>17959</th>\n",
              "      <td>city_landing</td>\n",
              "      <td>dates_filter_mobile</td>\n",
              "      <td>Istanbul / Сегодня</td>\n",
              "      <td>203</td>\n",
              "      <td>153</td>\n",
              "      <td>Istanbul</td>\n",
              "    </tr>\n",
              "    <tr>\n",
              "      <th>18110</th>\n",
              "      <td>city_landing</td>\n",
              "      <td>price_first</td>\n",
              "      <td>Istanbul</td>\n",
              "      <td>489</td>\n",
              "      <td>367</td>\n",
              "      <td>Istanbul</td>\n",
              "    </tr>\n",
              "    <tr>\n",
              "      <th>18692</th>\n",
              "      <td>city_landing</td>\n",
              "      <td>dates_filter_mobile</td>\n",
              "      <td>Istanbul / Завтра</td>\n",
              "      <td>265</td>\n",
              "      <td>208</td>\n",
              "      <td>Istanbul</td>\n",
              "    </tr>\n",
              "  </tbody>\n",
              "</table>\n",
              "<p>136 rows × 6 columns</p>\n",
              "</div>"
            ],
            "text/plain": [
              "      event_category         event_action  \\\n",
              "45      city_landing          price_third   \n",
              "100     city_landing  dates_filter_mobile   \n",
              "253     city_landing         price_second   \n",
              "468     city_landing       end_date_click   \n",
              "520     city_landing  dates_filter_mobile   \n",
              "...              ...                  ...   \n",
              "17900   city_landing    pay-type_checkbox   \n",
              "17948   city_landing         price_second   \n",
              "17959   city_landing  dates_filter_mobile   \n",
              "18110   city_landing          price_first   \n",
              "18692   city_landing  dates_filter_mobile   \n",
              "\n",
              "                                       event_label  total_events  \\\n",
              "45                                Saint Petersburg           186   \n",
              "100                                 Moscow / Today             1   \n",
              "253                                     Kislovodsk            55   \n",
              "468                                       Istanbul           522   \n",
              "520                                 Anapa / Завтра           181   \n",
              "...                                            ...           ...   \n",
              "17900  Budapest / Оплата на месте (без предоплаты)           242   \n",
              "17948                                        Anapa            98   \n",
              "17959                           Istanbul / Сегодня           203   \n",
              "18110                                     Istanbul           489   \n",
              "18692                            Istanbul / Завтра           265   \n",
              "\n",
              "       unique_events              city  \n",
              "45                94  Saint Petersburg  \n",
              "100                1            Moscow  \n",
              "253               35        Kislovodsk  \n",
              "468              407          Istanbul  \n",
              "520              146             Anapa  \n",
              "...              ...               ...  \n",
              "17900            186          Budapest  \n",
              "17948             74             Anapa  \n",
              "17959            153          Istanbul  \n",
              "18110            367          Istanbul  \n",
              "18692            208          Istanbul  \n",
              "\n",
              "[136 rows x 6 columns]"
            ]
          },
          "execution_count": 106,
          "metadata": {},
          "output_type": "execute_result"
        }
      ],
      "source": [
        "cities_filters_to_analyze"
      ]
    },
    {
      "cell_type": "code",
      "execution_count": null,
      "metadata": {
        "scrolled": true,
        "id": "CLNwUquEVqd8",
        "outputId": "ee988d45-e1b1-47e1-9d17-848004279af8"
      },
      "outputs": [
        {
          "data": {
            "text/html": [
              "<div>\n",
              "<style scoped>\n",
              "    .dataframe tbody tr th:only-of-type {\n",
              "        vertical-align: middle;\n",
              "    }\n",
              "\n",
              "    .dataframe tbody tr th {\n",
              "        vertical-align: top;\n",
              "    }\n",
              "\n",
              "    .dataframe thead th {\n",
              "        text-align: right;\n",
              "    }\n",
              "</style>\n",
              "<table border=\"1\" class=\"dataframe\">\n",
              "  <thead>\n",
              "    <tr style=\"text-align: right;\">\n",
              "      <th></th>\n",
              "      <th>city</th>\n",
              "      <th>event_action</th>\n",
              "      <th>total_events</th>\n",
              "      <th>total_events_agg</th>\n",
              "    </tr>\n",
              "  </thead>\n",
              "  <tbody>\n",
              "    <tr>\n",
              "      <th>39</th>\n",
              "      <td>Kaliningrad</td>\n",
              "      <td>ticket-type_checkbox</td>\n",
              "      <td>1954</td>\n",
              "      <td>31776</td>\n",
              "    </tr>\n",
              "    <tr>\n",
              "      <th>38</th>\n",
              "      <td>Kaliningrad</td>\n",
              "      <td>start_date_click</td>\n",
              "      <td>1824</td>\n",
              "      <td>31776</td>\n",
              "    </tr>\n",
              "    <tr>\n",
              "      <th>32</th>\n",
              "      <td>Kaliningrad</td>\n",
              "      <td>dates_filter_mobile</td>\n",
              "      <td>1574</td>\n",
              "      <td>31776</td>\n",
              "    </tr>\n",
              "    <tr>\n",
              "      <th>33</th>\n",
              "      <td>Kaliningrad</td>\n",
              "      <td>end_date_click</td>\n",
              "      <td>1354</td>\n",
              "      <td>31776</td>\n",
              "    </tr>\n",
              "    <tr>\n",
              "      <th>35</th>\n",
              "      <td>Kaliningrad</td>\n",
              "      <td>price_first</td>\n",
              "      <td>748</td>\n",
              "      <td>31776</td>\n",
              "    </tr>\n",
              "    <tr>\n",
              "      <th>...</th>\n",
              "      <td>...</td>\n",
              "      <td>...</td>\n",
              "      <td>...</td>\n",
              "      <td>...</td>\n",
              "    </tr>\n",
              "    <tr>\n",
              "      <th>48</th>\n",
              "      <td>Kislovodsk</td>\n",
              "      <td>dates_filter_mobile</td>\n",
              "      <td>270</td>\n",
              "      <td>7800</td>\n",
              "    </tr>\n",
              "    <tr>\n",
              "      <th>51</th>\n",
              "      <td>Kislovodsk</td>\n",
              "      <td>price_first</td>\n",
              "      <td>218</td>\n",
              "      <td>7800</td>\n",
              "    </tr>\n",
              "    <tr>\n",
              "      <th>50</th>\n",
              "      <td>Kislovodsk</td>\n",
              "      <td>pay-type_checkbox</td>\n",
              "      <td>145</td>\n",
              "      <td>7800</td>\n",
              "    </tr>\n",
              "    <tr>\n",
              "      <th>52</th>\n",
              "      <td>Kislovodsk</td>\n",
              "      <td>price_second</td>\n",
              "      <td>55</td>\n",
              "      <td>7800</td>\n",
              "    </tr>\n",
              "    <tr>\n",
              "      <th>53</th>\n",
              "      <td>Kislovodsk</td>\n",
              "      <td>price_third</td>\n",
              "      <td>25</td>\n",
              "      <td>7800</td>\n",
              "    </tr>\n",
              "  </tbody>\n",
              "</table>\n",
              "<p>80 rows × 4 columns</p>\n",
              "</div>"
            ],
            "text/plain": [
              "           city          event_action  total_events  total_events_agg\n",
              "39  Kaliningrad  ticket-type_checkbox          1954             31776\n",
              "38  Kaliningrad      start_date_click          1824             31776\n",
              "32  Kaliningrad   dates_filter_mobile          1574             31776\n",
              "33  Kaliningrad        end_date_click          1354             31776\n",
              "35  Kaliningrad           price_first           748             31776\n",
              "..          ...                   ...           ...               ...\n",
              "48   Kislovodsk   dates_filter_mobile           270              7800\n",
              "51   Kislovodsk           price_first           218              7800\n",
              "50   Kislovodsk     pay-type_checkbox           145              7800\n",
              "52   Kislovodsk          price_second            55              7800\n",
              "53   Kislovodsk           price_third            25              7800\n",
              "\n",
              "[80 rows x 4 columns]"
            ]
          },
          "execution_count": 132,
          "metadata": {},
          "output_type": "execute_result"
        }
      ],
      "source": [
        "cities_filters_to_analyze_grouped = cities_filters_to_analyze.groupby(['city', 'event_action'], as_index=False).total_events.sum()\n",
        "cities_filters_to_analyze_grouped = cities_filters_to_analyze_grouped.merge(top_10_cities, how='left', on='city').rename(columns={'total_events_x':'total_events', 'total_events_y': 'total_events_agg'})\n",
        "cities_filters_to_analyze_grouped_sorted = cities_filters_to_analyze_grouped.sort_values(['total_events_agg', 'total_events'], ascending=[False, False])\n",
        "cities_filters_to_analyze_grouped_sorted"
      ]
    },
    {
      "cell_type": "code",
      "execution_count": null,
      "metadata": {
        "id": "LKzRITmBVqd9",
        "outputId": "1217daab-78ee-4d26-bb5b-0f873a8f2f82"
      },
      "outputs": [
        {
          "data": {
            "text/plain": [
              "<matplotlib.axes._subplots.AxesSubplot at 0x7f2bf7efe4a8>"
            ]
          },
          "execution_count": 140,
          "metadata": {},
          "output_type": "execute_result"
        },
        {
          "data": {
            "image/png": "[encoded data removed]",
            "text/plain": [
              "<Figure size 720x720 with 1 Axes>"
            ]
          },
          "metadata": {
            "needs_background": "light"
          },
          "output_type": "display_data"
        }
      ],
      "source": [
        "plt.figure(figsize=(10, 10))\n",
        "plt.grid()\n",
        "plt.title('Количество использования фильтров по типам фильтров в топ-10 городах')\n",
        "sns.barplot(data=cities_filters_to_analyze_grouped_sorted, x='total_events', y='city', hue='event_action')"
      ]
    },
    {
      "cell_type": "code",
      "execution_count": null,
      "metadata": {
        "id": "ydhlu8v6Vqd-"
      },
      "outputs": [],
      "source": []
    },
    {
      "cell_type": "code",
      "execution_count": null,
      "metadata": {
        "id": "gRfD2pNIVqd-"
      },
      "outputs": [],
      "source": []
    },
    {
      "cell_type": "code",
      "execution_count": null,
      "metadata": {
        "id": "QPrPx5YIVqd-"
      },
      "outputs": [],
      "source": [
        "# 3. Какие разделы фильтров наиболее востребованы? “фильтры”, “сортировка”, “категории”?\n",
        "# По кол-ву событий"
      ]
    },
    {
      "cell_type": "code",
      "execution_count": null,
      "metadata": {
        "id": "j6IxMfDHVqd-"
      },
      "outputs": [],
      "source": [
        "# Разделы - “фильтры”, “сортировка”, “категории”"
      ]
    },
    {
      "cell_type": "code",
      "execution_count": null,
      "metadata": {
        "id": "NkLXEzP7Vqd_"
      },
      "outputs": [],
      "source": [
        "categories_and_sorts = data[(data.event_action == 'filters-categories_click') & (data.event_action != 'search-tools-button_open')].copy()"
      ]
    },
    {
      "cell_type": "code",
      "execution_count": null,
      "metadata": {
        "id": "N-OGCo8FVqd_",
        "outputId": "ab1092ed-4c8c-4e2c-9db3-f9715963d7f4"
      },
      "outputs": [
        {
          "data": {
            "text/html": [
              "<div>\n",
              "<style scoped>\n",
              "    .dataframe tbody tr th:only-of-type {\n",
              "        vertical-align: middle;\n",
              "    }\n",
              "\n",
              "    .dataframe tbody tr th {\n",
              "        vertical-align: top;\n",
              "    }\n",
              "\n",
              "    .dataframe thead th {\n",
              "        text-align: right;\n",
              "    }\n",
              "</style>\n",
              "<table border=\"1\" class=\"dataframe\">\n",
              "  <thead>\n",
              "    <tr style=\"text-align: right;\">\n",
              "      <th></th>\n",
              "      <th>event_category</th>\n",
              "      <th>event_action</th>\n",
              "      <th>event_label</th>\n",
              "      <th>total_events</th>\n",
              "      <th>unique_events</th>\n",
              "    </tr>\n",
              "  </thead>\n",
              "  <tbody>\n",
              "    <tr>\n",
              "      <th>3</th>\n",
              "      <td>city_landing</td>\n",
              "      <td>filters-categories_click</td>\n",
              "      <td>Gelendzhik / ЭКСКУРСИИ В ГЕЛЕНДЖИКЕ ЦЕНЫ</td>\n",
              "      <td>1</td>\n",
              "      <td>1</td>\n",
              "    </tr>\n",
              "    <tr>\n",
              "      <th>9</th>\n",
              "      <td>city_landing</td>\n",
              "      <td>filters-categories_click</td>\n",
              "      <td>Krakow / Необычные</td>\n",
              "      <td>3</td>\n",
              "      <td>3</td>\n",
              "    </tr>\n",
              "    <tr>\n",
              "      <th>11</th>\n",
              "      <td>city_landing</td>\n",
              "      <td>filters-categories_click</td>\n",
              "      <td>Barcelona / Сначала самые дешевые</td>\n",
              "      <td>62</td>\n",
              "      <td>50</td>\n",
              "    </tr>\n",
              "    <tr>\n",
              "      <th>12</th>\n",
              "      <td>city_landing</td>\n",
              "      <td>filters-categories_click</td>\n",
              "      <td>Novorossiysk / Автобусные</td>\n",
              "      <td>42</td>\n",
              "      <td>32</td>\n",
              "    </tr>\n",
              "    <tr>\n",
              "      <th>15</th>\n",
              "      <td>city_landing</td>\n",
              "      <td>filters-categories_click</td>\n",
              "      <td>Sergiev Posad / Групповые</td>\n",
              "      <td>10</td>\n",
              "      <td>8</td>\n",
              "    </tr>\n",
              "  </tbody>\n",
              "</table>\n",
              "</div>"
            ],
            "text/plain": [
              "   event_category              event_action  \\\n",
              "3    city_landing  filters-categories_click   \n",
              "9    city_landing  filters-categories_click   \n",
              "11   city_landing  filters-categories_click   \n",
              "12   city_landing  filters-categories_click   \n",
              "15   city_landing  filters-categories_click   \n",
              "\n",
              "                                 event_label  total_events  unique_events  \n",
              "3   Gelendzhik / ЭКСКУРСИИ В ГЕЛЕНДЖИКЕ ЦЕНЫ             1              1  \n",
              "9                         Krakow / Необычные             3              3  \n",
              "11         Barcelona / Сначала самые дешевые            62             50  \n",
              "12                 Novorossiysk / Автобусные            42             32  \n",
              "15                 Sergiev Posad / Групповые            10              8  "
            ]
          },
          "execution_count": 194,
          "metadata": {},
          "output_type": "execute_result"
        }
      ],
      "source": [
        "categories_and_sorts.head()"
      ]
    },
    {
      "cell_type": "code",
      "execution_count": null,
      "metadata": {
        "id": "IMOFJhV7VqeK"
      },
      "outputs": [],
      "source": [
        "categories_and_sorts['filter_type']  = categories_and_sorts.event_label.str.split(' / ').str.get(1).str.lower()"
      ]
    },
    {
      "cell_type": "code",
      "execution_count": null,
      "metadata": {
        "id": "6O7tKErEVqeK",
        "outputId": "253450fc-f558-4911-85bb-84d80b2b40bf"
      },
      "outputs": [
        {
          "data": {
            "text/html": [
              "<div>\n",
              "<style scoped>\n",
              "    .dataframe tbody tr th:only-of-type {\n",
              "        vertical-align: middle;\n",
              "    }\n",
              "\n",
              "    .dataframe tbody tr th {\n",
              "        vertical-align: top;\n",
              "    }\n",
              "\n",
              "    .dataframe thead th {\n",
              "        text-align: right;\n",
              "    }\n",
              "</style>\n",
              "<table border=\"1\" class=\"dataframe\">\n",
              "  <thead>\n",
              "    <tr style=\"text-align: right;\">\n",
              "      <th></th>\n",
              "      <th>event_category</th>\n",
              "      <th>event_action</th>\n",
              "      <th>event_label</th>\n",
              "      <th>total_events</th>\n",
              "      <th>unique_events</th>\n",
              "      <th>filter_type</th>\n",
              "    </tr>\n",
              "  </thead>\n",
              "  <tbody>\n",
              "    <tr>\n",
              "      <th>3</th>\n",
              "      <td>city_landing</td>\n",
              "      <td>filters-categories_click</td>\n",
              "      <td>Gelendzhik / ЭКСКУРСИИ В ГЕЛЕНДЖИКЕ ЦЕНЫ</td>\n",
              "      <td>1</td>\n",
              "      <td>1</td>\n",
              "      <td>экскурсии в геленджике цены</td>\n",
              "    </tr>\n",
              "    <tr>\n",
              "      <th>9</th>\n",
              "      <td>city_landing</td>\n",
              "      <td>filters-categories_click</td>\n",
              "      <td>Krakow / Необычные</td>\n",
              "      <td>3</td>\n",
              "      <td>3</td>\n",
              "      <td>необычные</td>\n",
              "    </tr>\n",
              "    <tr>\n",
              "      <th>11</th>\n",
              "      <td>city_landing</td>\n",
              "      <td>filters-categories_click</td>\n",
              "      <td>Barcelona / Сначала самые дешевые</td>\n",
              "      <td>62</td>\n",
              "      <td>50</td>\n",
              "      <td>сначала самые дешевые</td>\n",
              "    </tr>\n",
              "    <tr>\n",
              "      <th>12</th>\n",
              "      <td>city_landing</td>\n",
              "      <td>filters-categories_click</td>\n",
              "      <td>Novorossiysk / Автобусные</td>\n",
              "      <td>42</td>\n",
              "      <td>32</td>\n",
              "      <td>автобусные</td>\n",
              "    </tr>\n",
              "    <tr>\n",
              "      <th>15</th>\n",
              "      <td>city_landing</td>\n",
              "      <td>filters-categories_click</td>\n",
              "      <td>Sergiev Posad / Групповые</td>\n",
              "      <td>10</td>\n",
              "      <td>8</td>\n",
              "      <td>групповые</td>\n",
              "    </tr>\n",
              "    <tr>\n",
              "      <th>23</th>\n",
              "      <td>city_landing</td>\n",
              "      <td>filters-categories_click</td>\n",
              "      <td>Saint Petersburg / СЕМЕЙНЫЕ ЭКСКУРСИИ В ПЕТЕРБ...</td>\n",
              "      <td>2</td>\n",
              "      <td>1</td>\n",
              "      <td>семейные экскурсии в петербурге</td>\n",
              "    </tr>\n",
              "    <tr>\n",
              "      <th>26</th>\n",
              "      <td>city_landing</td>\n",
              "      <td>filters-categories_click</td>\n",
              "      <td>Tula / Обзорные</td>\n",
              "      <td>23</td>\n",
              "      <td>17</td>\n",
              "      <td>обзорные</td>\n",
              "    </tr>\n",
              "    <tr>\n",
              "      <th>46</th>\n",
              "      <td>city_landing</td>\n",
              "      <td>filters-categories_click</td>\n",
              "      <td>Novosibirsk / Популярные</td>\n",
              "      <td>33</td>\n",
              "      <td>24</td>\n",
              "      <td>популярные</td>\n",
              "    </tr>\n",
              "    <tr>\n",
              "      <th>47</th>\n",
              "      <td>city_landing</td>\n",
              "      <td>filters-categories_click</td>\n",
              "      <td>Kolomna / Гастрономические</td>\n",
              "      <td>4</td>\n",
              "      <td>4</td>\n",
              "      <td>гастрономические</td>\n",
              "    </tr>\n",
              "    <tr>\n",
              "      <th>62</th>\n",
              "      <td>city_landing</td>\n",
              "      <td>filters-categories_click</td>\n",
              "      <td>Hurghada / Выездные</td>\n",
              "      <td>45</td>\n",
              "      <td>38</td>\n",
              "      <td>выездные</td>\n",
              "    </tr>\n",
              "    <tr>\n",
              "      <th>72</th>\n",
              "      <td>city_landing</td>\n",
              "      <td>filters-categories_click</td>\n",
              "      <td>Side / Выездные</td>\n",
              "      <td>7</td>\n",
              "      <td>7</td>\n",
              "      <td>выездные</td>\n",
              "    </tr>\n",
              "    <tr>\n",
              "      <th>90</th>\n",
              "      <td>city_landing</td>\n",
              "      <td>filters-categories_click</td>\n",
              "      <td>Moscow / ЭКСКУРСИИ ПО Г МОСКВА</td>\n",
              "      <td>1</td>\n",
              "      <td>1</td>\n",
              "      <td>экскурсии по г москва</td>\n",
              "    </tr>\n",
              "    <tr>\n",
              "      <th>93</th>\n",
              "      <td>city_landing</td>\n",
              "      <td>filters-categories_click</td>\n",
              "      <td>Istanbul / Фотопрогулки</td>\n",
              "      <td>58</td>\n",
              "      <td>48</td>\n",
              "      <td>фотопрогулки</td>\n",
              "    </tr>\n",
              "    <tr>\n",
              "      <th>107</th>\n",
              "      <td>city_landing</td>\n",
              "      <td>filters-categories_click</td>\n",
              "      <td>Krasnodar / Гастрономические</td>\n",
              "      <td>15</td>\n",
              "      <td>11</td>\n",
              "      <td>гастрономические</td>\n",
              "    </tr>\n",
              "    <tr>\n",
              "      <th>122</th>\n",
              "      <td>city_landing</td>\n",
              "      <td>filters-categories_click</td>\n",
              "      <td>Krakow / Пешеходные</td>\n",
              "      <td>5</td>\n",
              "      <td>4</td>\n",
              "      <td>пешеходные</td>\n",
              "    </tr>\n",
              "    <tr>\n",
              "      <th>127</th>\n",
              "      <td>city_landing</td>\n",
              "      <td>filters-categories_click</td>\n",
              "      <td>Abu Dhabi / Индивидуальные</td>\n",
              "      <td>1</td>\n",
              "      <td>1</td>\n",
              "      <td>индивидуальные</td>\n",
              "    </tr>\n",
              "    <tr>\n",
              "      <th>130</th>\n",
              "      <td>city_landing</td>\n",
              "      <td>filters-categories_click</td>\n",
              "      <td>Florence / По рейтингу</td>\n",
              "      <td>2</td>\n",
              "      <td>2</td>\n",
              "      <td>по рейтингу</td>\n",
              "    </tr>\n",
              "    <tr>\n",
              "      <th>141</th>\n",
              "      <td>city_landing</td>\n",
              "      <td>filters-categories_click</td>\n",
              "      <td>Krakow / Обзорные</td>\n",
              "      <td>2</td>\n",
              "      <td>2</td>\n",
              "      <td>обзорные</td>\n",
              "    </tr>\n",
              "    <tr>\n",
              "      <th>151</th>\n",
              "      <td>city_landing</td>\n",
              "      <td>filters-categories_click</td>\n",
              "      <td>Pyatigorsk / Вечерние экскурсии</td>\n",
              "      <td>24</td>\n",
              "      <td>18</td>\n",
              "      <td>вечерние экскурсии</td>\n",
              "    </tr>\n",
              "    <tr>\n",
              "      <th>159</th>\n",
              "      <td>city_landing</td>\n",
              "      <td>filters-categories_click</td>\n",
              "      <td>Yalta / Выездные</td>\n",
              "      <td>24</td>\n",
              "      <td>20</td>\n",
              "      <td>выездные</td>\n",
              "    </tr>\n",
              "    <tr>\n",
              "      <th>184</th>\n",
              "      <td>city_landing</td>\n",
              "      <td>filters-categories_click</td>\n",
              "      <td>Saratov / Саратовский лимонарий</td>\n",
              "      <td>1</td>\n",
              "      <td>1</td>\n",
              "      <td>саратовский лимонарий</td>\n",
              "    </tr>\n",
              "    <tr>\n",
              "      <th>191</th>\n",
              "      <td>city_landing</td>\n",
              "      <td>filters-categories_click</td>\n",
              "      <td>Kyiv / автобусні</td>\n",
              "      <td>1</td>\n",
              "      <td>1</td>\n",
              "      <td>автобусні</td>\n",
              "    </tr>\n",
              "    <tr>\n",
              "      <th>193</th>\n",
              "      <td>city_landing</td>\n",
              "      <td>filters-categories_click</td>\n",
              "      <td>Bryansk / Сначала самые популярные</td>\n",
              "      <td>1</td>\n",
              "      <td>1</td>\n",
              "      <td>сначала самые популярные</td>\n",
              "    </tr>\n",
              "    <tr>\n",
              "      <th>197</th>\n",
              "      <td>city_landing</td>\n",
              "      <td>filters-categories_click</td>\n",
              "      <td>Ekaterinburg / Вечерние экскурсии</td>\n",
              "      <td>26</td>\n",
              "      <td>22</td>\n",
              "      <td>вечерние экскурсии</td>\n",
              "    </tr>\n",
              "    <tr>\n",
              "      <th>204</th>\n",
              "      <td>city_landing</td>\n",
              "      <td>filters-categories_click</td>\n",
              "      <td>Kazan / ВОДНЫЕ ЭКСКУРСИИ В КАЗАНИ</td>\n",
              "      <td>1</td>\n",
              "      <td>1</td>\n",
              "      <td>водные экскурсии в казани</td>\n",
              "    </tr>\n",
              "  </tbody>\n",
              "</table>\n",
              "</div>"
            ],
            "text/plain": [
              "    event_category              event_action  \\\n",
              "3     city_landing  filters-categories_click   \n",
              "9     city_landing  filters-categories_click   \n",
              "11    city_landing  filters-categories_click   \n",
              "12    city_landing  filters-categories_click   \n",
              "15    city_landing  filters-categories_click   \n",
              "23    city_landing  filters-categories_click   \n",
              "26    city_landing  filters-categories_click   \n",
              "46    city_landing  filters-categories_click   \n",
              "47    city_landing  filters-categories_click   \n",
              "62    city_landing  filters-categories_click   \n",
              "72    city_landing  filters-categories_click   \n",
              "90    city_landing  filters-categories_click   \n",
              "93    city_landing  filters-categories_click   \n",
              "107   city_landing  filters-categories_click   \n",
              "122   city_landing  filters-categories_click   \n",
              "127   city_landing  filters-categories_click   \n",
              "130   city_landing  filters-categories_click   \n",
              "141   city_landing  filters-categories_click   \n",
              "151   city_landing  filters-categories_click   \n",
              "159   city_landing  filters-categories_click   \n",
              "184   city_landing  filters-categories_click   \n",
              "191   city_landing  filters-categories_click   \n",
              "193   city_landing  filters-categories_click   \n",
              "197   city_landing  filters-categories_click   \n",
              "204   city_landing  filters-categories_click   \n",
              "\n",
              "                                           event_label  total_events  \\\n",
              "3             Gelendzhik / ЭКСКУРСИИ В ГЕЛЕНДЖИКЕ ЦЕНЫ             1   \n",
              "9                                   Krakow / Необычные             3   \n",
              "11                   Barcelona / Сначала самые дешевые            62   \n",
              "12                           Novorossiysk / Автобусные            42   \n",
              "15                           Sergiev Posad / Групповые            10   \n",
              "23   Saint Petersburg / СЕМЕЙНЫЕ ЭКСКУРСИИ В ПЕТЕРБ...             2   \n",
              "26                                     Tula / Обзорные            23   \n",
              "46                            Novosibirsk / Популярные            33   \n",
              "47                          Kolomna / Гастрономические             4   \n",
              "62                                 Hurghada / Выездные            45   \n",
              "72                                     Side / Выездные             7   \n",
              "90                      Moscow / ЭКСКУРСИИ ПО Г МОСКВА             1   \n",
              "93                             Istanbul / Фотопрогулки            58   \n",
              "107                       Krasnodar / Гастрономические            15   \n",
              "122                                Krakow / Пешеходные             5   \n",
              "127                         Abu Dhabi / Индивидуальные             1   \n",
              "130                             Florence / По рейтингу             2   \n",
              "141                                  Krakow / Обзорные             2   \n",
              "151                    Pyatigorsk / Вечерние экскурсии            24   \n",
              "159                                   Yalta / Выездные            24   \n",
              "184                    Saratov / Саратовский лимонарий             1   \n",
              "191                                   Kyiv / автобусні             1   \n",
              "193                 Bryansk / Сначала самые популярные             1   \n",
              "197                  Ekaterinburg / Вечерние экскурсии            26   \n",
              "204                  Kazan / ВОДНЫЕ ЭКСКУРСИИ В КАЗАНИ             1   \n",
              "\n",
              "     unique_events                      filter_type  \n",
              "3                1      экскурсии в геленджике цены  \n",
              "9                3                        необычные  \n",
              "11              50            сначала самые дешевые  \n",
              "12              32                       автобусные  \n",
              "15               8                        групповые  \n",
              "23               1  семейные экскурсии в петербурге  \n",
              "26              17                         обзорные  \n",
              "46              24                       популярные  \n",
              "47               4                 гастрономические  \n",
              "62              38                         выездные  \n",
              "72               7                         выездные  \n",
              "90               1            экскурсии по г москва  \n",
              "93              48                     фотопрогулки  \n",
              "107             11                 гастрономические  \n",
              "122              4                       пешеходные  \n",
              "127              1                   индивидуальные  \n",
              "130              2                      по рейтингу  \n",
              "141              2                         обзорные  \n",
              "151             18               вечерние экскурсии  \n",
              "159             20                         выездные  \n",
              "184              1            саратовский лимонарий  \n",
              "191              1                        автобусні  \n",
              "193              1         сначала самые популярные  \n",
              "197             22               вечерние экскурсии  \n",
              "204              1        водные экскурсии в казани  "
            ]
          },
          "execution_count": 196,
          "metadata": {},
          "output_type": "execute_result"
        }
      ],
      "source": [
        "categories_and_sorts.head(25)"
      ]
    },
    {
      "cell_type": "code",
      "execution_count": null,
      "metadata": {
        "id": "kw-guQ7KVqeL",
        "outputId": "13095dab-dc6a-4d77-e5ad-1ff0980bfaaa"
      },
      "outputs": [
        {
          "data": {
            "text/plain": [
              "array(['экскурсии в геленджике цены', 'необычные',\n",
              "       'сначала самые дешевые', 'автобусные', 'групповые',\n",
              "       'семейные экскурсии в петербурге', 'обзорные', 'популярные',\n",
              "       'гастрономические', 'выездные', 'экскурсии по г москва',\n",
              "       'фотопрогулки', 'пешеходные', 'индивидуальные', 'по рейтингу',\n",
              "       'вечерние экскурсии', 'саратовский лимонарий', 'автобусні',\n",
              "       'сначала самые популярные', 'водные экскурсии в казани',\n",
              "       'светлогорск', 'история и культура', 'авторские',\n",
              "       'экскурсии в нижнем новгороде цены',\n",
              "       'обзорная экскурсия по новосибирску', 'однодневные', 'музеи',\n",
              "       'по уралу', 'для детей', 'экскурсии по шарм эль шейху',\n",
              "       'парк цветов', 'билеты без очереди', 'ночные экскурсии',\n",
              "       'заказать экскурсию в нижнем новгороде', 'экскурсии будапешт',\n",
              "       'экскурсия по суздалю заказать',\n",
              "       'прага достопримечательности экскурсии',\n",
              "       'калининград экскурсии по городу',\n",
              "       'однодневные экскурсии из твери на автобусе',\n",
              "       'обзорная экскурсия по светлогорску', 'производство', 'трансферы',\n",
              "       'пермь мистическая экскурсия',\n",
              "       'автобусные экскурсии по нижнему новгороду',\n",
              "       'автобусная экскурсия будапешт', 'пирамиды', 'храмы и соборы',\n",
              "       'автомобильные', 'шхеры ладожского озера экскурсия из сортавала',\n",
              "       'водные', 'голубые озёра', 'джип сафари дубай цена',\n",
              "       'гид в будапеште на русском языке', 'входной билет',\n",
              "       'экскурсия в болгар', 'экскурсия в пятигорск из кисловодска',\n",
              "       'главные достопримечательности', 'на 7 дней',\n",
              "       'экскурсии из махачкалы 2021', 'день вмф',\n",
              "       'обзорная экскурсия по пятигорску',\n",
              "       'какие экскурсии из кисловодска', 'ростов великий экскурсии',\n",
              "       'на новый год и рождество', 'со скидками',\n",
              "       'экскурсии в сиде турция', 'эль-гуна', 'экскурсии стамбул цены',\n",
              "       'джиппинг', 'природа', 'термальные источники',\n",
              "       'экскурсии по владивостоку', 'экскурсии в грозном',\n",
              "       'пушкин (царское село)', 'казанский кремль', 'в крым',\n",
              "       'рим экскурсии', 'индивидульные', 'дельфинарий',\n",
              "       'морские экскурсии на теплоходе из алушты', 'активный отдых',\n",
              "       'псков достопримечательности и экскурсии',\n",
              "       'обзорная экскурсия по калининграду на автобусе', 'пляжи',\n",
              "       'в новочеркасск', 'экскурсии из владикавказа в ингушетию',\n",
              "       'пляжные', 'ереван достопримечательности экскурсии',\n",
              "       'экскурсии по будапешту на русском языке', 'экскурсии в минске',\n",
              "       'вулканы', 'несвиж', 'псков экскурсии по городу и области',\n",
              "       'הפופולרי ביותר ראשון', 'экстремальные', 'теплоходные прогулки',\n",
              "       'мистика', 'тульский кремль', 'экскурсия москва', 'шоппинг',\n",
              "       'дневная экскурсия по москве', 'экскурсии в алании турция',\n",
              "       'экскурсии в пскове', 'адлер лучшие экскурсии отзывы',\n",
              "       'экскурсии по вене на русском', 'дудутки', 'в бурятию',\n",
              "       'история и архитектура', 'парки аттракционов', 'усадьбы и парки',\n",
              "       'off the beaten track', 'экскурсии по храмам и монастырям москвы',\n",
              "       'для школьников', 'экскурсии в адыгею из краснодара', 'sputnik 8',\n",
              "       'кострома экскурсии по городу', 'популярный',\n",
              "       'групповые экскурсии из владикавказа',\n",
              "       'экскурсии по петербургу на английском',\n",
              "       'экскурсии по рязани и рязанской области', 'йошкар-ола',\n",
              "       'по области', 'индивидуальные экскурсии по москве',\n",
              "       'из алании в стамбул экскурсия цена', 'парк монрепо',\n",
              "       'переславль залесский экскурсии по городу пешком',\n",
              "       'экскурсии екатеринбург', 'экскурсии рим',\n",
              "       'экскурсии выходного дня', 'грановитая палата',\n",
              "       'экскурсии в дубае', 'ладожские шхеры экскурсия из сортавала',\n",
              "       'дешевые экскурсии в дубае', 'коломна экскурсии',\n",
              "       'лучшие экскурсии из пятигорска', 'расписание экскурсий казань',\n",
              "       'по городу', 'замки', 'туры по дагестану', 'сырные',\n",
              "       'обзорная экскурсия по коломне', 'лассити', 'речные прогулки',\n",
              "       'экскурсии из кемера', 'памуккале', 'по пригородам', 'форт 11',\n",
              "       'экскурсия по калининграду', 'individual',\n",
              "       'экскурсии в ереване на русском языке', 'новогодние',\n",
              "       'храм гарни и монастырь гегард', 'севастополь экскурсии по городу',\n",
              "       'гамсутль', 'рыбалка', 'экскурсии по дагестану из махачкалы 2021',\n",
              "       'ночной калининград экскурсия', 'валаам',\n",
              "       'экскурсия псков изборск',\n",
              "       'экскурсии в ласточкино гнездо из алушты',\n",
              "       'обзорная экскурсия по севастополю на автобусе',\n",
              "       'экскурсии в стамбуле групповые', 'автобусные экскурсии',\n",
              "       'кахетия', 'кивач', 'конные прогулки',\n",
              "       'незабываемая москва экскурсии по москве расписание',\n",
              "       'романтические', 'на 3 дня', 'экскурсии в вене', 'город мертвых',\n",
              "       'food and drinks', 'пивные туры в праге',\n",
              "       'индивидуальные экскурсии по великому новгороду',\n",
              "       'спутник экскурсии', 'кемер экскурсии', 'экскурсия в стамбул',\n",
              "       'магия и мистика', 'русскоговорящие гиды в будапеште',\n",
              "       'ладожские шхеры', 'выборг', 'альпийские луга', 'гид по тбилиси',\n",
              "       'пешеходная экскурсия по калининграду', 'морские прогулки',\n",
              "       'развлечения', 'экскурсия по калининграду на автобусе',\n",
              "       'эльбрус и приэльбрусье',\n",
              "       'однодневная экскурсия на валаам из сортавалы',\n",
              "       'интересные экскурсии в екатеринбурге',\n",
              "       'лучшие экскурсии в калининграде', 'by rating',\n",
              "       'экскурсия на корабле алания', 'в горы',\n",
              "       'водопады карелии экскурсии из сортавала', 'экскурсии в суздале',\n",
              "       'круизы и теплоходные прогулки', 'групповые экскурсии по суздалю',\n",
              "       'экскурсии из анапы',\n",
              "       'обзорная экскурсия по владимиру на автобусе',\n",
              "       'обзорная экскурсия по сортавала',\n",
              "       'экскурсии в городе сиде турция',\n",
              "       'экскурсии из зеленоградска калининградской области',\n",
              "       'экскурсии из агиос николаос крит', 'по кавказу',\n",
              "       'экскурсия в татев из еревана цена', 'мосты',\n",
              "       'анталия достопримечательности экскурсии', 'квадроциклы',\n",
              "       'ереван экскурсии', 'экскурсии прага', 'бурдж-халифа', 'речные',\n",
              "       'экскурсии на куршскую косу из зеленоградска', 'музей пастилы',\n",
              "       'сортавала экскурсии', 'вертолетные',\n",
              "       \"tickets to st. isaac's cathedral\", 'по бункерам',\n",
              "       'history & architecture', 'экскурсии ночью в москве',\n",
              "       'экскурсии из петрозаводска по карелии',\n",
              "       'экскурсии в будапеште на русском языке', 'экскурсии по москве',\n",
              "       'дайвинг', 'сулакский каньон', 'на хобой',\n",
              "       'экскурсии по калининграду', 'лувр', 'на катере', 'римские замки',\n",
              "       'замки и дворцы', 'автобусная экскурсия в выборг', 'ловозеро',\n",
              "       'экскурсии по калининграду и калининградской области',\n",
              "       'золотое кольцо', 'экскурсии в казани', 'озеро рица',\n",
              "       'самые популярные сначала', 'северо-запад',\n",
              "       'экскурсии из ханьи крит', 'экскурсии из кисловодска цены',\n",
              "       'vip-туры', 'нальчик экскурсии в приэльбрусье', 'сиде экскурсии',\n",
              "       'хаски питомник', 'обзорная экскурсия по геленджику',\n",
              "       'экскурсии по суздалю цены', 'пушкинские горы', 'нессельбек',\n",
              "       'экскурсии по калининграду цены', 'экскурсии краснодар',\n",
              "       'экскурсия по барам петербурга', 'дворцы крыма',\n",
              "       'красный двухэтажный автобус', 'рускеала',\n",
              "       'цены на экскурсии в сочи 2021', 'экскурсии по твери на автобусе',\n",
              "       'дворец топкапы в стамбуле экскурсия',\n",
              "       'вечерний кисловодск экскурсия', 'новинки',\n",
              "       'пешая экскурсия по москве', 'экскурсия подземный петербург',\n",
              "       'групповые экскурсии в ереване', 'экскурсии сочи', 'балтийск',\n",
              "       'куршская коса', 'на квадроциклах',\n",
              "       'фиолент экскурсия из севастополя',\n",
              "       'национальные парки и животные', 'туры из москвы',\n",
              "       'экскурсии из евпатории по крыму', 'храм на крови',\n",
              "       'собор святой софии', 'минск экскурсии', 'зимние экскурсии',\n",
              "       'обзорная экскурсия по суздалю',\n",
              "       'экскурсии по будапешту на русском языке групповые',\n",
              "       'гарри поттер', 'most popular first', 'история и литература',\n",
              "       'romantic', 'лаго-наки', 'водопады', 'зеленоградск',\n",
              "       'кремль и красная площадь',\n",
              "       'печерский монастырь в пскове экскурсия', 'авторские прогулки',\n",
              "       'марциальные воды', 'обзорная экскурсия по иркутску',\n",
              "       'зимние туры', 'по италии', 'аудиогиды', 'каир',\n",
              "       'янтарная комната', 'вечерние экскурсии по москве', 'квесты',\n",
              "       'винный тур', 'ханья', 'экскурсия в сочи', 'в карелию',\n",
              "       'экскурсии по петербургу на мотоцикле', 'экскурсии псков',\n",
              "       'экскурсия в киностудии в москве', 'в старочеркасск', 'мцхета',\n",
              "       'экскурсии пятигорск', 'экскурсии железноводск', 'винодельни',\n",
              "       'стоимость экскурсий в адлере', 'вологодский кремль',\n",
              "       'водные экскурсии в нижнем новгороде',\n",
              "       'экскурсия псков пушкинские горы 1 день',\n",
              "       'экскурсии из петрозаводска', 'геленджик экскурсия по городу',\n",
              "       'экскурсии по великому новгороду', 'изборск и печоры',\n",
              "       'самый дешевый первый', 'пешеходная экскурсия по светлогорску',\n",
              "       'мемориальный комплекс «хатынь»', 'экскурсии по барам спб',\n",
              "       'экскурсии по дубаю', 'экскурсия по кисловодску обзорная',\n",
              "       'красная поляна', 'балтийская коса', 'popular', 'церкви и храмы',\n",
              "       'алания экскурсии', 'золотое кольцо из москвы', 'воздушные шары',\n",
              "       'экскурсия псков изборск печоры пушкинские горы',\n",
              "       'экскурсии стамбул', 'экскурсии в будапеште',\n",
              "       'экскурсии в калининграде 2021',\n",
              "       'экскурсии из светлогорска в калининград', 'аквариум',\n",
              "       'экскурсии в геленджике', 'янтарный', 'лучшие экскурсии по москве',\n",
              "       'калининград 11 форт экскурсия', 'дивногорье',\n",
              "       'мини-группы до 10 чел', 'в азов',\n",
              "       'экскурсия в абрау дюрсо из геленджика', 'познавательные',\n",
              "       'казань недорогие экскурсии', 'село гуниб',\n",
              "       'хургада луксор экскурсия цена',\n",
              "       'экскурсия по праге на русском языке', 'боголюбово',\n",
              "       'дубай марина', 'обзорная экскурсия по севастополю',\n",
              "       'экскурсия в балаклаву из ялты',\n",
              "       'валаам экскурсия из сортавала цена', 'туры в карелию',\n",
              "       'экскурсии в калининграде', 'принцевы острова', 'водные прогулки',\n",
              "       'экскурсии из тбилиси', 'искусство и литература',\n",
              "       'экскурсии ессентуки', 'суздаль экскурсии по городу',\n",
              "       'экскурсии по тбилиси на автобусе',\n",
              "       'однодневные экскурсии по крыму из севастополя',\n",
              "       'обзорная экскурсия по нижнему новгороду', 'экскурсия по праге',\n",
              "       'экскурсии по волге в нижнем новгороде', 'ussr',\n",
              "       'экскурсии в пскове и псковской области', 'cheapest first',\n",
              "       'летом', 'экскурсия на эльбрус из нальчика', 'палатин',\n",
              "       'обзорная экскурсия по пскову', 'популярні',\n",
              "       'чегемские водопады экскурсия из нальчика',\n",
              "       'экскурсии в дубае цены', 'сафари дубай',\n",
              "       'индивидуальные экскурсии екатеринбург',\n",
              "       'ночная экскурсия в метро москвы', 'туры из хужира',\n",
              "       'самара экскурсии по области',\n",
              "       'суздаль экскурсии по городу индивидуальные',\n",
              "       'экскурсии по реке в нижнем новгороде',\n",
              "       'балтийск, янтарный, светлогорск', 'семёнов',\n",
              "       'владимир экскурсии по городу', 'православные туры',\n",
              "       'экстремальные экскурсии в спб',\n",
              "       'куда сходить на экскурсию в москве', 'треккинг и походы',\n",
              "       'константиново', 'экскурсии из железноводска', 'экскурсии иркутск',\n",
              "       'христианские', 'печоры', 'атамань',\n",
              "       'мурманск обзорная экскурсия по городу',\n",
              "       'морские экскурсии в анапе', 'джилы су ессентуки экскурсия',\n",
              "       'пешие экскурсии по санкт петербургу', 'экскурсии в греции крит',\n",
              "       'крепость пиллау', 'витославлицы', 'экскурсии в тбилиси',\n",
              "       'калининград замки экскурсии', 'на воздушной подушке',\n",
              "       'нижний новгород обзорная экскурсия по городу', 'бункер сталина',\n",
              "       'египет экскурсии из шарм эль',\n",
              "       'однодневные экскурсии по пермскому краю из перми', 'сыроварни',\n",
              "       'пещеры', 'мамаев курган', 'ереван экскурсии на русском',\n",
              "       'на снегоходах', 'экскурсии нальчик',\n",
              "       'групповые экскурсии калининград', 'экскурсии по новосибирску',\n",
              "       'махачкала экскурсии в горы', 'экскурсии по крыму из севастополя',\n",
              "       'экскурсии из махачкалы', 'экскурсии из мурманска',\n",
              "       'морские экскурсии геленджик', 'форты калининграда экскурсия',\n",
              "       'экскурсии из алании', 'экскурсия на эльбрус из пятигорска',\n",
              "       'индивидуальные экскурсии в тбилиси на русском языке',\n",
              "       'экскурсия в каппадокию из аланьи',\n",
              "       'экскурсия в дербент из махачкалы',\n",
              "       'экскурсия по великому новгороду что посмотреть',\n",
              "       'экскурсии в абрау дюрсо из краснодара', 'район кадыкей',\n",
              "       'тула экскурсии', 'экскурсия шарм эль шейх пирамиды цена',\n",
              "       'северное сияние', 'красноярские столбы', 'на сигвее',\n",
              "       'круизы и речные прогулки', 'мирский замок',\n",
              "       'экскурсии из еревана по армении',\n",
              "       'каппадокия воздушные шары экскурсия', 'мастер-классы',\n",
              "       'замок шато-эркен', 'обзорная экскурсия по твери',\n",
              "       'чегемские водопады', 'экскурсии из зеленоградска',\n",
              "       'интересные экскурсии в геленджике',\n",
              "       'обзорная экскурсия по стамбулу',\n",
              "       'обзорная экскурсия по волгограду', 'экскурсии в ереване',\n",
              "       'самостоятельные экскурсии в адлере', 'полеты',\n",
              "       'экскурсии в костроме', 'амалиенау', 'многодневные экскурсии',\n",
              "       'сафари в пустыне',\n",
              "       'экскурсии по калининграду и области из калининграда',\n",
              "       'экскурсии из кисловодска', 'экскурсии по мурманску и области',\n",
              "       'карелия', 'кисловодск экскурсии в горы', 'экскурсии в пятигорске',\n",
              "       'интересные экскурсии в адлере', 'осетия',\n",
              "       'мидаграбинские водопады', 'экскурсии зеленоградск',\n",
              "       'выборг экскурсии цены', 'экскурсии в анапе',\n",
              "       'экскурсия на озеро рица из гагры', 'кириллов и ферапонтово',\n",
              "       'морские экскурсии в кемере', 'на домбай', 'экскурсии в ялте',\n",
              "       'золотое кольцо абхазии', 'брест',\n",
              "       'экскурсии в риме на русском языке',\n",
              "       'обзорная экскурсия по самаре', 'экскурсии из кисловодска отзывы',\n",
              "       'адлер экскурсии и развлечения', 'абхазия', 'мыс рока',\n",
              "       'экскурсии в волгограде', 'военно-исторические', 'калининград',\n",
              "       'на яхте', 'туры по испании', 'экскурсия в каппадокию из кемера',\n",
              "       'завод бмв', 'экскурсия в гегард и гарни из еревана',\n",
              "       'купальни и спа', 'экскурсии в осетию из ессентуков', 'свияжск',\n",
              "       'выборг экскурсии', 'самые интересные экскурсии в калининграде',\n",
              "       'севастополь экскурсии', 'каналы амстердама',\n",
              "       'экскурсии по нижнему новгороду 1 день',\n",
              "       'групповые экскурсии по будапешту', 'экскурсии из воронежа',\n",
              "       'экскурсии из краснодара', 'байкал', 'экскурсии в шарм эль шейхе',\n",
              "       'алушта водные экскурсии', 'развод мостов', 'абу-даби',\n",
              "       'экскурсии из ессентуков на медовые водопады',\n",
              "       'экскурсия на пирамиды из шарм эль шейха', 'экскурсия по москве',\n",
              "       'коньячный завод арарат', 'рафтинг', 'москва экскурсии',\n",
              "       'успенский собор', 'прогулки по босфору', 'на велосипеде',\n",
              "       'замок коварства и любви', 'на 5 дней', 'куликово поле',\n",
              "       'экскурсии на крите', 'экскурсии из сиде',\n",
              "       'квадроциклы анапа экскурсии', 'золотые ворота',\n",
              "       'коломна калачная экскурсия', 'речные экскурсии казань',\n",
              "       'экскурсии по стамбулу', 'эксклюзив', 'кольский полуостров',\n",
              "       'экскурсии нижний новгород', 'салтинский водопад',\n",
              "       'экскурсия по большому театру в москве', 'долина нарзанов',\n",
              "       'на слонах', 'петербург экскурсии на метеоре',\n",
              "       'обзорная экскурсия по тбилиси', 'из тбилиси по грузии',\n",
              "       'полуостров рыбачий', 'экскурсии из нальчика', 'озеро севан',\n",
              "       'литература и искусство', 'экскурсия по севастополю цена',\n",
              "       'православные экскурсии по москве', 'стамбул экскурсия по городу',\n",
              "       'пригород', 'экскурсии по калуге', 'новый свет', 'велосипедные',\n",
              "       'экскурсии тбилиси', 'на материке', 'калининград экскурсии',\n",
              "       'минск пешеходная экскурсия', 'кисловодск экскурсии', 'кремль',\n",
              "       'кижи', 'гора арарат', 'экскурсии в горы из пятигорска',\n",
              "       'мечети и соборы', 'weekend', 'архитектура и культура',\n",
              "       'остров русский', 'суздальский кремль',\n",
              "       'обзорная экскурсия по махачкале', 'кутаиси', 'мечеть кул шариф',\n",
              "       'экскурсии по казани цены', 'экскурсии алании', 'арзамас',\n",
              "       'интересные экскурсии в анапе', 'по крышам',\n",
              "       'обзорная экскурсия по ростову великому',\n",
              "       'обзорная экскурсия по владимиру', 'экскурсии в великом новгороде',\n",
              "       'экскурсии по нижнему новгороду', 'петергоф',\n",
              "       'обзорная экскурсия по краснодару на автобусе',\n",
              "       'экскурсии в алании цены', 'луксор', 'озеро байкал',\n",
              "       'экскурсия пятигорск', 'музей калача',\n",
              "       'экскурсии в калининграде отзывы', 'ретимно', 'гид в вене',\n",
              "       'обзорная экскурсия по великому новгороду', 'нальчик экскурсии',\n",
              "       'ночные экскурсии спб', 'спутник экскурсии по будапешту',\n",
              "       'грозный экскурсии в горы', 'териберка', 'курорт ялова',\n",
              "       'кронштадт', 'экскурсии в стамбуле',\n",
              "       'экскурсия на пирамиды из хургады', 'transfer',\n",
              "       'экскурсии владикавказ', 'экскурсии из калининграда',\n",
              "       'из шарм эль шейха в петру', 'экскурсии в кемере турция',\n",
              "       'петербург кронштадт экскурсия', 'городец', 'петра',\n",
              "       'спочатку найпопулярніші', 'колизей',\n",
              "       'ночной владивосток экскурсия', 'экскурсия будапешт',\n",
              "       'великий новгород экскурсии', 'санкт петербург экскурсии',\n",
              "       'экскурсия по вечернему калининграду',\n",
              "       'каппадокия турция воздушные шары экскурсия',\n",
              "       'в другие города европы', 'ночные экскурсии по москве',\n",
              "       'экскурсии дубай', 'экскурсии волгоград', 'тематические экскурсии',\n",
              "       'спутник экскурсии по москве',\n",
              "       'индивидуальные экскурсии в стамбуле на русском языке',\n",
              "       'экскурсии из владикавказа', 'кбжд',\n",
              "       'экскурсии по нижнему новгороду на автобусе',\n",
              "       'обзорная экскурсия по москве', 'билеты в исаакиевский собор',\n",
              "       'экскурсии в самаре', 'гид в стамбуле', 'пивные',\n",
              "       'кабардино-балкария', 'владикавказ экскурсии в горы', 'боржоми',\n",
              "       'музей-заповедник \"старая сарепта\"', 'анапа экскурсии',\n",
              "       'трамвай экскурсия спб', 'нетуристический город',\n",
              "       'водопады в геленджике экскурсии цены',\n",
              "       'квест экскурсии петербург', 'впервые в городе',\n",
              "       'экскурсии из дербента', 'мурманск экскурсии по городу',\n",
              "       'экскурсии в стамбуле самостоятельно', 'пушкинские горы экскурсии',\n",
              "       'прогулки по москве-реке', 'раифа и свияжск',\n",
              "       'экскурсии на острове крит',\n",
              "       'экскурсии из шарм эль шейха в израиль',\n",
              "       'экскурсия на валаам из сортавала', 'авторские туры',\n",
              "       'экскурсии стамбула', 'экскурсии г адлер',\n",
              "       'обзорная экскурсия по краснодару',\n",
              "       'куда можно сходить на экскурсию в москве', 'экскурсии по москва',\n",
              "       'верблюды', 'экскурсии в праге', 'ипатьевский монастырь',\n",
              "       'suburbs', 'беловежская пуща', 'старый город',\n",
              "       'морские экскурсии из алушты', 'экскурсия в новый афон из гагры',\n",
              "       'шарм эль шейх экскурсии цены 2021', 'сигнахи',\n",
              "       'какие экскурсии в москве', 'коломна кремль экскурсии',\n",
              "       'туры из иркутска', 'по северной осетии',\n",
              "       'экскурсия рыбалка в кемере', 'онлайн экскурсии',\n",
              "       'рим экскурсионный автобус', 'дивногорск', 'экскурсии в будапешт',\n",
              "       'на 2 дня', 'рязань групповые экскурсии', 'экскурсии в хургаде',\n",
              "       'экскурсия по крышам москвы', 'какие экскурсии в адлере',\n",
              "       'каппадокия', 'подземные', 'санторини',\n",
              "       'обзорная экскурсия по калининграду', 'казбеги',\n",
              "       'абрау дюрсо экскурсия из анапы', 'рим гид экскурсии', 'гора ахун',\n",
              "       'экскурсии по воронежу и воронежской области', 'на острова',\n",
              "       'экскурсии в массандру в ялте', 'экскурсии из ессентуков',\n",
              "       'великая отечественная война', 'самара автобусная экскурсия',\n",
              "       'нальчик экскурсии цены', 'экскурсия по казани',\n",
              "       'обзорная экскурсия по вене', 'форты', 'рас-мохаммед',\n",
              "       'село кубачи', 'булгар', 'экскурсии по казани', 'бермамыт',\n",
              "       'экскурсии ессентуках цены', 'экскурсия в туле', 'аршан',\n",
              "       'тверь экскурсии по городу', 'лучшие экскурсии в адлере',\n",
              "       'дмитриевский собор', 'экскурсия по вене', 'copyright',\n",
              "       'экскурсии крит', 'экскурсия на остров кижи из петрозаводска',\n",
              "       'болдино', 'экскурсия в памуккале из кемера',\n",
              "       'экскурсии калининграда', 'владимир суздаль экскурсия',\n",
              "       'по ярославской области',\n",
              "       'чегемские водопады экскурсии из ессентуков',\n",
              "       'свияжск на теплоходе',\n",
              "       'пятигорск достопримечательности экскурсии цены', 'уллу-тау',\n",
              "       'экскурсии минск', 'автобусные экскурсии по калининграду',\n",
              "       'шарм экскурсии', 'талабские острова', 'лучшие экскурсии в казани',\n",
              "       'куршская коса индивидуальные', 'экскурсии по владивостоку цены',\n",
              "       'обзорная автобусная экскурсия по нижнему новгороду',\n",
              "       'пешеходные экскурсии по москве', 'highlights', 'на автомобиле',\n",
              "       'экскурсия на балос крит', 'эрмитаж',\n",
              "       'экскурсии в будапеште на русском', 'экскурсия по босфору',\n",
              "       'раифский монастырь', 'экскурсии из анапы в крым',\n",
              "       'экскурсии в москве', 'cулакский каньон', 'баренцево море',\n",
              "       'монастырь хор вирап', 'нарын кала', 'яффо', 'будапешт экскурсии',\n",
              "       'boat trips', 'экскурсии по туле', 'великолепный век',\n",
              "       'экскурсия по монастырям москвы', 'сборные экскурсии псков',\n",
              "       'будапешт где купить экскурсии', 'музей \"ясная поляна\"',\n",
              "       'история и культура татар', 'реки и каналы', 'экскурсии из алушты',\n",
              "       'бархан сарыкум', 'literature & art', 'наровчат',\n",
              "       'автобусные экскурсии по новосибирску', 'экраноплан «лунь»',\n",
              "       'замок шаакен', 'ватикан', 'карадахская теснина',\n",
              "       'индивидуальные экскурсии пятигорск',\n",
              "       'экскурсии в дагестане из махачкалы', 'эйфелева башня',\n",
              "       'экскурсия в каппадокию из сиде', 'доступная среда',\n",
              "       'экскурсии по тбилиси', 'адыгея', 'цейское ущелье',\n",
              "       'стамбул экскурсии на русском', 'тальцы', 'на байдарках',\n",
              "       'кармадонское ущелье', 'экскурсия по городу афины', 'абрау-дюрсо',\n",
              "       'вечерний владивосток экскурсия', 'интересные экскурсии в москве',\n",
              "       'экскурсии по дунаю в будапеште',\n",
              "       'экскурсии по воде в нижнем новгороде',\n",
              "       'автобусные экскурсии в тбилиси', 'экскурсия призраки москвы',\n",
              "       'экскурсии в адлере', 'минск достопримечательности экскурсии',\n",
              "       'экскурсии по заброшенным местам спб', 'ялта экскурсии цены',\n",
              "       'экскурсии переулки москвы', 'пермь экскурсии выходного дня',\n",
              "       'экскурсии казань', 'стамбул экскурсионный автобус',\n",
              "       'экскурсия гастрономический петербург', 'гуамское ущелье',\n",
              "       'sup прогулки', 'экскурсии по новосибирску на автобусе',\n",
              "       'экскурсии в мурманске', 'экскурсии по казани с гидом',\n",
              "       'ингушетия', 'экскурсии калининград',\n",
              "       'экскурсии из махачкалы по дагестану цены', 'туры в рускеалу',\n",
              "       'рыбинск экскурсии', 'экскурсии на фабрики', 'hermitage',\n",
              "       'тбилиси экскурсии', 'экскурсия в грозный из махачкалы',\n",
              "       'гид в ереване', 'экскурсии из праги', 'экскурсии светлогорск',\n",
              "       'экскурсии из гагры по абхазии 2021 цены', 'голубые озера',\n",
              "       'экскурсия в териберку из мурманска',\n",
              "       'ночная экскурсия по москве маршрут', 'тарханы',\n",
              "       'морские экскурсии из алушты 2021',\n",
              "       'индивидуальные экскурсии по калининграду',\n",
              "       'экскурсии по кавказу из пятигорска',\n",
              "       'верхняя балкария экскурсия из нальчика',\n",
              "       'экскурсии в дубае на русском языке', 'город кисловодск экскурсии',\n",
              "       'групповые экскурсии из кисловодска', 'коломенский кремль',\n",
              "       'белое море', 'исторические', 'литературные экскурсии по москве',\n",
              "       'сергиев посад экскурсии', 'экскурсии в сочи самостоятельно',\n",
              "       'турция аланья экскурсии', 'ираклион', 'экскурсии из евпатории',\n",
              "       'оленья ферма', 'экскурсии пермь', 'дача сталина',\n",
              "       'софийская сторона', 'экскурсии по иркутску на автобусе',\n",
              "       'экскурсия ужасы петербурга', 'обзорная экскурсия по мурманску',\n",
              "       'абу даби экскурсии', 'будапешт гиды экскурсии на русском языке',\n",
              "       'дворец топкапы', 'экскурсии в махачкале и окрестностях цены',\n",
              "       'петербург гостиный двор экскурсии', 'на джипах',\n",
              "       'индивидуальные экскурсии в мурманске', 'местным от местных',\n",
              "       'анталья экскурсии', 'хамам', 'экскурсии в архыз из пятигорска',\n",
              "       'skip-the-line tickets', 'красноярская гэс', 'москва-сити',\n",
              "       'лучшие экскурсии в шарм эль шейхе', 'вечерняя анапа экскурсия',\n",
              "       'новгородский кремль', 'обзорная экскурсия по перми на автобусе',\n",
              "       'отдых в адлере экскурсии',\n",
              "       'экскурсии в стамбуле на русском языке цена', 'экскурсии москва'],\n",
              "      dtype=object)"
            ]
          },
          "execution_count": 197,
          "metadata": {},
          "output_type": "execute_result"
        }
      ],
      "source": [
        "categories_and_sorts.filter_type.unique()"
      ]
    },
    {
      "cell_type": "code",
      "execution_count": null,
      "metadata": {
        "id": "0hqiek1FVqeL"
      },
      "outputs": [],
      "source": [
        "SORT_TYPES = set(['по рейтингу', 'сначала самые дешевые', 'сначала самые популярные', 'by rating', 'cheapest first', 'most popular first','הפופולרי ביותר ראשון'])"
      ]
    },
    {
      "cell_type": "code",
      "execution_count": null,
      "metadata": {
        "id": "gWxC9VXWVqeL"
      },
      "outputs": [],
      "source": [
        "categories = categories_and_sorts[categories_and_sorts.filter_type.apply(lambda x: x not in SORT_TYPES)]"
      ]
    },
    {
      "cell_type": "code",
      "execution_count": null,
      "metadata": {
        "id": "yvGnqE1EVqeM",
        "outputId": "3ba3b520-935c-4663-972f-306b4a242e9d"
      },
      "outputs": [
        {
          "data": {
            "text/html": [
              "<div>\n",
              "<style scoped>\n",
              "    .dataframe tbody tr th:only-of-type {\n",
              "        vertical-align: middle;\n",
              "    }\n",
              "\n",
              "    .dataframe tbody tr th {\n",
              "        vertical-align: top;\n",
              "    }\n",
              "\n",
              "    .dataframe thead th {\n",
              "        text-align: right;\n",
              "    }\n",
              "</style>\n",
              "<table border=\"1\" class=\"dataframe\">\n",
              "  <thead>\n",
              "    <tr style=\"text-align: right;\">\n",
              "      <th></th>\n",
              "      <th>event_category</th>\n",
              "      <th>event_action</th>\n",
              "      <th>event_label</th>\n",
              "      <th>total_events</th>\n",
              "      <th>unique_events</th>\n",
              "      <th>filter_type</th>\n",
              "    </tr>\n",
              "  </thead>\n",
              "  <tbody>\n",
              "    <tr>\n",
              "      <th>3</th>\n",
              "      <td>city_landing</td>\n",
              "      <td>filters-categories_click</td>\n",
              "      <td>Gelendzhik / ЭКСКУРСИИ В ГЕЛЕНДЖИКЕ ЦЕНЫ</td>\n",
              "      <td>1</td>\n",
              "      <td>1</td>\n",
              "      <td>экскурсии в геленджике цены</td>\n",
              "    </tr>\n",
              "    <tr>\n",
              "      <th>9</th>\n",
              "      <td>city_landing</td>\n",
              "      <td>filters-categories_click</td>\n",
              "      <td>Krakow / Необычные</td>\n",
              "      <td>3</td>\n",
              "      <td>3</td>\n",
              "      <td>необычные</td>\n",
              "    </tr>\n",
              "    <tr>\n",
              "      <th>12</th>\n",
              "      <td>city_landing</td>\n",
              "      <td>filters-categories_click</td>\n",
              "      <td>Novorossiysk / Автобусные</td>\n",
              "      <td>42</td>\n",
              "      <td>32</td>\n",
              "      <td>автобусные</td>\n",
              "    </tr>\n",
              "    <tr>\n",
              "      <th>15</th>\n",
              "      <td>city_landing</td>\n",
              "      <td>filters-categories_click</td>\n",
              "      <td>Sergiev Posad / Групповые</td>\n",
              "      <td>10</td>\n",
              "      <td>8</td>\n",
              "      <td>групповые</td>\n",
              "    </tr>\n",
              "    <tr>\n",
              "      <th>23</th>\n",
              "      <td>city_landing</td>\n",
              "      <td>filters-categories_click</td>\n",
              "      <td>Saint Petersburg / СЕМЕЙНЫЕ ЭКСКУРСИИ В ПЕТЕРБ...</td>\n",
              "      <td>2</td>\n",
              "      <td>1</td>\n",
              "      <td>семейные экскурсии в петербурге</td>\n",
              "    </tr>\n",
              "    <tr>\n",
              "      <th>...</th>\n",
              "      <td>...</td>\n",
              "      <td>...</td>\n",
              "      <td>...</td>\n",
              "      <td>...</td>\n",
              "      <td>...</td>\n",
              "      <td>...</td>\n",
              "    </tr>\n",
              "    <tr>\n",
              "      <th>19074</th>\n",
              "      <td>city_landing</td>\n",
              "      <td>filters-categories_click</td>\n",
              "      <td>Belek / Для детей</td>\n",
              "      <td>21</td>\n",
              "      <td>15</td>\n",
              "      <td>для детей</td>\n",
              "    </tr>\n",
              "    <tr>\n",
              "      <th>19075</th>\n",
              "      <td>city_landing</td>\n",
              "      <td>filters-categories_click</td>\n",
              "      <td>Rome / На сигвее</td>\n",
              "      <td>1</td>\n",
              "      <td>1</td>\n",
              "      <td>на сигвее</td>\n",
              "    </tr>\n",
              "    <tr>\n",
              "      <th>19080</th>\n",
              "      <td>city_landing</td>\n",
              "      <td>filters-categories_click</td>\n",
              "      <td>Istanbul / ЭКСКУРСИИ В СТАМБУЛЕ НА РУССКОМ ЯЗЫ...</td>\n",
              "      <td>1</td>\n",
              "      <td>1</td>\n",
              "      <td>экскурсии в стамбуле на русском языке цена</td>\n",
              "    </tr>\n",
              "    <tr>\n",
              "      <th>19083</th>\n",
              "      <td>city_landing</td>\n",
              "      <td>filters-categories_click</td>\n",
              "      <td>Moscow / ЭКСКУРСИИ МОСКВА</td>\n",
              "      <td>14</td>\n",
              "      <td>10</td>\n",
              "      <td>экскурсии москва</td>\n",
              "    </tr>\n",
              "    <tr>\n",
              "      <th>19088</th>\n",
              "      <td>city_landing</td>\n",
              "      <td>filters-categories_click</td>\n",
              "      <td>Ufa / Пешеходные</td>\n",
              "      <td>3</td>\n",
              "      <td>3</td>\n",
              "      <td>пешеходные</td>\n",
              "    </tr>\n",
              "  </tbody>\n",
              "</table>\n",
              "<p>2658 rows × 6 columns</p>\n",
              "</div>"
            ],
            "text/plain": [
              "      event_category              event_action  \\\n",
              "3       city_landing  filters-categories_click   \n",
              "9       city_landing  filters-categories_click   \n",
              "12      city_landing  filters-categories_click   \n",
              "15      city_landing  filters-categories_click   \n",
              "23      city_landing  filters-categories_click   \n",
              "...              ...                       ...   \n",
              "19074   city_landing  filters-categories_click   \n",
              "19075   city_landing  filters-categories_click   \n",
              "19080   city_landing  filters-categories_click   \n",
              "19083   city_landing  filters-categories_click   \n",
              "19088   city_landing  filters-categories_click   \n",
              "\n",
              "                                             event_label  total_events  \\\n",
              "3               Gelendzhik / ЭКСКУРСИИ В ГЕЛЕНДЖИКЕ ЦЕНЫ             1   \n",
              "9                                     Krakow / Необычные             3   \n",
              "12                             Novorossiysk / Автобусные            42   \n",
              "15                             Sergiev Posad / Групповые            10   \n",
              "23     Saint Petersburg / СЕМЕЙНЫЕ ЭКСКУРСИИ В ПЕТЕРБ...             2   \n",
              "...                                                  ...           ...   \n",
              "19074                                  Belek / Для детей            21   \n",
              "19075                                   Rome / На сигвее             1   \n",
              "19080  Istanbul / ЭКСКУРСИИ В СТАМБУЛЕ НА РУССКОМ ЯЗЫ...             1   \n",
              "19083                          Moscow / ЭКСКУРСИИ МОСКВА            14   \n",
              "19088                                   Ufa / Пешеходные             3   \n",
              "\n",
              "       unique_events                                 filter_type  \n",
              "3                  1                 экскурсии в геленджике цены  \n",
              "9                  3                                   необычные  \n",
              "12                32                                  автобусные  \n",
              "15                 8                                   групповые  \n",
              "23                 1             семейные экскурсии в петербурге  \n",
              "...              ...                                         ...  \n",
              "19074             15                                   для детей  \n",
              "19075              1                                   на сигвее  \n",
              "19080              1  экскурсии в стамбуле на русском языке цена  \n",
              "19083             10                            экскурсии москва  \n",
              "19088              3                                  пешеходные  \n",
              "\n",
              "[2658 rows x 6 columns]"
            ]
          },
          "execution_count": 201,
          "metadata": {},
          "output_type": "execute_result"
        }
      ],
      "source": [
        "categories"
      ]
    },
    {
      "cell_type": "code",
      "execution_count": null,
      "metadata": {
        "id": "ZE0YAWb_VqeM"
      },
      "outputs": [],
      "source": [
        "sorts = categories_and_sorts[categories_and_sorts.filter_type.apply(lambda x: x in SORT_TYPES)]"
      ]
    },
    {
      "cell_type": "code",
      "execution_count": null,
      "metadata": {
        "id": "RqYDs4JxVqeM",
        "outputId": "aecb4017-11fc-4851-f48b-6ff418a36253"
      },
      "outputs": [
        {
          "data": {
            "text/html": [
              "<div>\n",
              "<style scoped>\n",
              "    .dataframe tbody tr th:only-of-type {\n",
              "        vertical-align: middle;\n",
              "    }\n",
              "\n",
              "    .dataframe tbody tr th {\n",
              "        vertical-align: top;\n",
              "    }\n",
              "\n",
              "    .dataframe thead th {\n",
              "        text-align: right;\n",
              "    }\n",
              "</style>\n",
              "<table border=\"1\" class=\"dataframe\">\n",
              "  <thead>\n",
              "    <tr style=\"text-align: right;\">\n",
              "      <th></th>\n",
              "      <th>event_category</th>\n",
              "      <th>event_action</th>\n",
              "      <th>event_label</th>\n",
              "      <th>total_events</th>\n",
              "      <th>unique_events</th>\n",
              "      <th>filter_type</th>\n",
              "    </tr>\n",
              "  </thead>\n",
              "  <tbody>\n",
              "    <tr>\n",
              "      <th>11</th>\n",
              "      <td>city_landing</td>\n",
              "      <td>filters-categories_click</td>\n",
              "      <td>Barcelona / Сначала самые дешевые</td>\n",
              "      <td>62</td>\n",
              "      <td>50</td>\n",
              "      <td>сначала самые дешевые</td>\n",
              "    </tr>\n",
              "    <tr>\n",
              "      <th>130</th>\n",
              "      <td>city_landing</td>\n",
              "      <td>filters-categories_click</td>\n",
              "      <td>Florence / По рейтингу</td>\n",
              "      <td>2</td>\n",
              "      <td>2</td>\n",
              "      <td>по рейтингу</td>\n",
              "    </tr>\n",
              "    <tr>\n",
              "      <th>193</th>\n",
              "      <td>city_landing</td>\n",
              "      <td>filters-categories_click</td>\n",
              "      <td>Bryansk / Сначала самые популярные</td>\n",
              "      <td>1</td>\n",
              "      <td>1</td>\n",
              "      <td>сначала самые популярные</td>\n",
              "    </tr>\n",
              "    <tr>\n",
              "      <th>266</th>\n",
              "      <td>city_landing</td>\n",
              "      <td>filters-categories_click</td>\n",
              "      <td>Grozny / Сначала самые дешевые</td>\n",
              "      <td>22</td>\n",
              "      <td>20</td>\n",
              "      <td>сначала самые дешевые</td>\n",
              "    </tr>\n",
              "    <tr>\n",
              "      <th>288</th>\n",
              "      <td>city_landing</td>\n",
              "      <td>filters-categories_click</td>\n",
              "      <td>Thessaloniki / Сначала самые дешевые</td>\n",
              "      <td>3</td>\n",
              "      <td>3</td>\n",
              "      <td>сначала самые дешевые</td>\n",
              "    </tr>\n",
              "    <tr>\n",
              "      <th>...</th>\n",
              "      <td>...</td>\n",
              "      <td>...</td>\n",
              "      <td>...</td>\n",
              "      <td>...</td>\n",
              "      <td>...</td>\n",
              "      <td>...</td>\n",
              "    </tr>\n",
              "    <tr>\n",
              "      <th>19011</th>\n",
              "      <td>city_landing</td>\n",
              "      <td>filters-categories_click</td>\n",
              "      <td>Saint Petersburg / Сначала самые популярные</td>\n",
              "      <td>798</td>\n",
              "      <td>482</td>\n",
              "      <td>сначала самые популярные</td>\n",
              "    </tr>\n",
              "    <tr>\n",
              "      <th>19034</th>\n",
              "      <td>city_landing</td>\n",
              "      <td>filters-categories_click</td>\n",
              "      <td>Sharm-el-Sheikh / Сначала самые популярные</td>\n",
              "      <td>245</td>\n",
              "      <td>224</td>\n",
              "      <td>сначала самые популярные</td>\n",
              "    </tr>\n",
              "    <tr>\n",
              "      <th>19050</th>\n",
              "      <td>city_landing</td>\n",
              "      <td>filters-categories_click</td>\n",
              "      <td>Belgrade / По рейтингу</td>\n",
              "      <td>5</td>\n",
              "      <td>5</td>\n",
              "      <td>по рейтингу</td>\n",
              "    </tr>\n",
              "    <tr>\n",
              "      <th>19060</th>\n",
              "      <td>city_landing</td>\n",
              "      <td>filters-categories_click</td>\n",
              "      <td>Omsk / Сначала самые популярные</td>\n",
              "      <td>3</td>\n",
              "      <td>3</td>\n",
              "      <td>сначала самые популярные</td>\n",
              "    </tr>\n",
              "    <tr>\n",
              "      <th>19069</th>\n",
              "      <td>city_landing</td>\n",
              "      <td>filters-categories_click</td>\n",
              "      <td>Taganrog / Сначала самые популярные</td>\n",
              "      <td>2</td>\n",
              "      <td>2</td>\n",
              "      <td>сначала самые популярные</td>\n",
              "    </tr>\n",
              "  </tbody>\n",
              "</table>\n",
              "<p>694 rows × 6 columns</p>\n",
              "</div>"
            ],
            "text/plain": [
              "      event_category              event_action  \\\n",
              "11      city_landing  filters-categories_click   \n",
              "130     city_landing  filters-categories_click   \n",
              "193     city_landing  filters-categories_click   \n",
              "266     city_landing  filters-categories_click   \n",
              "288     city_landing  filters-categories_click   \n",
              "...              ...                       ...   \n",
              "19011   city_landing  filters-categories_click   \n",
              "19034   city_landing  filters-categories_click   \n",
              "19050   city_landing  filters-categories_click   \n",
              "19060   city_landing  filters-categories_click   \n",
              "19069   city_landing  filters-categories_click   \n",
              "\n",
              "                                       event_label  total_events  \\\n",
              "11               Barcelona / Сначала самые дешевые            62   \n",
              "130                         Florence / По рейтингу             2   \n",
              "193             Bryansk / Сначала самые популярные             1   \n",
              "266                 Grozny / Сначала самые дешевые            22   \n",
              "288           Thessaloniki / Сначала самые дешевые             3   \n",
              "...                                            ...           ...   \n",
              "19011  Saint Petersburg / Сначала самые популярные           798   \n",
              "19034   Sharm-el-Sheikh / Сначала самые популярные           245   \n",
              "19050                       Belgrade / По рейтингу             5   \n",
              "19060              Omsk / Сначала самые популярные             3   \n",
              "19069          Taganrog / Сначала самые популярные             2   \n",
              "\n",
              "       unique_events               filter_type  \n",
              "11                50     сначала самые дешевые  \n",
              "130                2               по рейтингу  \n",
              "193                1  сначала самые популярные  \n",
              "266               20     сначала самые дешевые  \n",
              "288                3     сначала самые дешевые  \n",
              "...              ...                       ...  \n",
              "19011            482  сначала самые популярные  \n",
              "19034            224  сначала самые популярные  \n",
              "19050              5               по рейтингу  \n",
              "19060              3  сначала самые популярные  \n",
              "19069              2  сначала самые популярные  \n",
              "\n",
              "[694 rows x 6 columns]"
            ]
          },
          "execution_count": 203,
          "metadata": {},
          "output_type": "execute_result"
        }
      ],
      "source": [
        "sorts"
      ]
    },
    {
      "cell_type": "code",
      "execution_count": null,
      "metadata": {
        "id": "HRis2KhwVqeM"
      },
      "outputs": [],
      "source": [
        "filters = data[(data.event_action != 'Page Visit') & (data.event_action != 'filters-categories_click') & (data.event_action != 'search-tools-button_open')]"
      ]
    },
    {
      "cell_type": "code",
      "execution_count": null,
      "metadata": {
        "id": "hV8SbhuVVqeN",
        "outputId": "2b3f4489-a9d9-4842-ff24-17b359371034"
      },
      "outputs": [
        {
          "data": {
            "text/html": [
              "<div>\n",
              "<style scoped>\n",
              "    .dataframe tbody tr th:only-of-type {\n",
              "        vertical-align: middle;\n",
              "    }\n",
              "\n",
              "    .dataframe tbody tr th {\n",
              "        vertical-align: top;\n",
              "    }\n",
              "\n",
              "    .dataframe thead th {\n",
              "        text-align: right;\n",
              "    }\n",
              "</style>\n",
              "<table border=\"1\" class=\"dataframe\">\n",
              "  <thead>\n",
              "    <tr style=\"text-align: right;\">\n",
              "      <th></th>\n",
              "      <th>event_category</th>\n",
              "      <th>event_action</th>\n",
              "      <th>event_label</th>\n",
              "      <th>total_events</th>\n",
              "      <th>unique_events</th>\n",
              "    </tr>\n",
              "  </thead>\n",
              "  <tbody>\n",
              "    <tr>\n",
              "      <th>0</th>\n",
              "      <td>city_landing</td>\n",
              "      <td>price_button_submit</td>\n",
              "      <td>Tula / Показать предложения (11)</td>\n",
              "      <td>8</td>\n",
              "      <td>7</td>\n",
              "    </tr>\n",
              "    <tr>\n",
              "      <th>1</th>\n",
              "      <td>city_landing</td>\n",
              "      <td>price_button_submit</td>\n",
              "      <td>Sochi / Показать предложения (39)</td>\n",
              "      <td>12</td>\n",
              "      <td>10</td>\n",
              "    </tr>\n",
              "    <tr>\n",
              "      <th>4</th>\n",
              "      <td>city_landing</td>\n",
              "      <td>price_button_submit</td>\n",
              "      <td>Moscow / Показать предложения (345)</td>\n",
              "      <td>2</td>\n",
              "      <td>2</td>\n",
              "    </tr>\n",
              "    <tr>\n",
              "      <th>5</th>\n",
              "      <td>city_landing</td>\n",
              "      <td>clear_filter_mobile</td>\n",
              "      <td>Vienna</td>\n",
              "      <td>12</td>\n",
              "      <td>11</td>\n",
              "    </tr>\n",
              "    <tr>\n",
              "      <th>6</th>\n",
              "      <td>city_landing</td>\n",
              "      <td>start_date_click</td>\n",
              "      <td>Vilnius</td>\n",
              "      <td>9</td>\n",
              "      <td>4</td>\n",
              "    </tr>\n",
              "    <tr>\n",
              "      <th>...</th>\n",
              "      <td>...</td>\n",
              "      <td>...</td>\n",
              "      <td>...</td>\n",
              "      <td>...</td>\n",
              "      <td>...</td>\n",
              "    </tr>\n",
              "    <tr>\n",
              "      <th>19082</th>\n",
              "      <td>city_landing</td>\n",
              "      <td>price_button_submit</td>\n",
              "      <td>Istanbul / Показать предложения (195)</td>\n",
              "      <td>1</td>\n",
              "      <td>1</td>\n",
              "    </tr>\n",
              "    <tr>\n",
              "      <th>19084</th>\n",
              "      <td>city_landing</td>\n",
              "      <td>pay-type_checkbox</td>\n",
              "      <td>Alushta / Оплата на месте (без предоплаты)</td>\n",
              "      <td>63</td>\n",
              "      <td>52</td>\n",
              "    </tr>\n",
              "    <tr>\n",
              "      <th>19085</th>\n",
              "      <td>city_landing</td>\n",
              "      <td>ticket-type_checkbox</td>\n",
              "      <td>Gorokhovets / Мини-группа</td>\n",
              "      <td>1</td>\n",
              "      <td>1</td>\n",
              "    </tr>\n",
              "    <tr>\n",
              "      <th>19086</th>\n",
              "      <td>city_landing</td>\n",
              "      <td>ticket-type_checkbox</td>\n",
              "      <td>Smolensk / Групповая</td>\n",
              "      <td>22</td>\n",
              "      <td>17</td>\n",
              "    </tr>\n",
              "    <tr>\n",
              "      <th>19090</th>\n",
              "      <td>city_landing</td>\n",
              "      <td>price_button_submit</td>\n",
              "      <td>Pskov / Показать предложения (35)</td>\n",
              "      <td>7</td>\n",
              "      <td>7</td>\n",
              "    </tr>\n",
              "  </tbody>\n",
              "</table>\n",
              "<p>10241 rows × 5 columns</p>\n",
              "</div>"
            ],
            "text/plain": [
              "      event_category          event_action  \\\n",
              "0       city_landing   price_button_submit   \n",
              "1       city_landing   price_button_submit   \n",
              "4       city_landing   price_button_submit   \n",
              "5       city_landing   clear_filter_mobile   \n",
              "6       city_landing      start_date_click   \n",
              "...              ...                   ...   \n",
              "19082   city_landing   price_button_submit   \n",
              "19084   city_landing     pay-type_checkbox   \n",
              "19085   city_landing  ticket-type_checkbox   \n",
              "19086   city_landing  ticket-type_checkbox   \n",
              "19090   city_landing   price_button_submit   \n",
              "\n",
              "                                      event_label  total_events  unique_events  \n",
              "0                Tula / Показать предложения (11)             8              7  \n",
              "1               Sochi / Показать предложения (39)            12             10  \n",
              "4             Moscow / Показать предложения (345)             2              2  \n",
              "5                                          Vienna            12             11  \n",
              "6                                         Vilnius             9              4  \n",
              "...                                           ...           ...            ...  \n",
              "19082       Istanbul / Показать предложения (195)             1              1  \n",
              "19084  Alushta / Оплата на месте (без предоплаты)            63             52  \n",
              "19085                   Gorokhovets / Мини-группа             1              1  \n",
              "19086                        Smolensk / Групповая            22             17  \n",
              "19090           Pskov / Показать предложения (35)             7              7  \n",
              "\n",
              "[10241 rows x 5 columns]"
            ]
          },
          "execution_count": 217,
          "metadata": {},
          "output_type": "execute_result"
        }
      ],
      "source": [
        "filters"
      ]
    },
    {
      "cell_type": "code",
      "execution_count": null,
      "metadata": {
        "id": "g32vq5xxVqeN",
        "outputId": "1a9f5da2-4633-45fb-a40c-b5e8fdc953e6"
      },
      "outputs": [
        {
          "name": "stdout",
          "output_type": "stream",
          "text": [
            "59612 20453 179856\n"
          ]
        }
      ],
      "source": [
        "print(\n",
        "    categories.total_events.sum(),\n",
        "    sorts.total_events.sum(),\n",
        "    filters.total_events.sum(),\n",
        ")"
      ]
    },
    {
      "cell_type": "code",
      "execution_count": null,
      "metadata": {
        "id": "IUoggCC-VqeN",
        "outputId": "4d46eaef-836c-40c9-f153-4898824c6fad"
      },
      "outputs": [
        {
          "data": {
            "text/html": [
              "<div>\n",
              "<style scoped>\n",
              "    .dataframe tbody tr th:only-of-type {\n",
              "        vertical-align: middle;\n",
              "    }\n",
              "\n",
              "    .dataframe tbody tr th {\n",
              "        vertical-align: top;\n",
              "    }\n",
              "\n",
              "    .dataframe thead th {\n",
              "        text-align: right;\n",
              "    }\n",
              "</style>\n",
              "<table border=\"1\" class=\"dataframe\">\n",
              "  <thead>\n",
              "    <tr style=\"text-align: right;\">\n",
              "      <th></th>\n",
              "      <th>event_category</th>\n",
              "      <th>event_action</th>\n",
              "      <th>event_label</th>\n",
              "      <th>total_events</th>\n",
              "      <th>unique_events</th>\n",
              "    </tr>\n",
              "  </thead>\n",
              "  <tbody>\n",
              "    <tr>\n",
              "      <th>2</th>\n",
              "      <td>city_landing</td>\n",
              "      <td>search-tools-button_open</td>\n",
              "      <td>Penza / Сортировка</td>\n",
              "      <td>2</td>\n",
              "      <td>2</td>\n",
              "    </tr>\n",
              "    <tr>\n",
              "      <th>13</th>\n",
              "      <td>city_landing</td>\n",
              "      <td>search-tools-button_open</td>\n",
              "      <td>Crete / Фильтры Выбрано: 1</td>\n",
              "      <td>9</td>\n",
              "      <td>9</td>\n",
              "    </tr>\n",
              "    <tr>\n",
              "      <th>18</th>\n",
              "      <td>city_landing</td>\n",
              "      <td>search-tools-button_open</td>\n",
              "      <td>Irkutsk / КБЖД</td>\n",
              "      <td>2</td>\n",
              "      <td>2</td>\n",
              "    </tr>\n",
              "    <tr>\n",
              "      <th>22</th>\n",
              "      <td>city_landing</td>\n",
              "      <td>search-tools-button_open</td>\n",
              "      <td>Adler / КАКИЕ ЭКСКУРСИИ В АДЛЕРЕ</td>\n",
              "      <td>1</td>\n",
              "      <td>1</td>\n",
              "    </tr>\n",
              "    <tr>\n",
              "      <th>27</th>\n",
              "      <td>city_landing</td>\n",
              "      <td>search-tools-button_open</td>\n",
              "      <td>Haifa / Категории Все</td>\n",
              "      <td>4</td>\n",
              "      <td>4</td>\n",
              "    </tr>\n",
              "    <tr>\n",
              "      <th>...</th>\n",
              "      <td>...</td>\n",
              "      <td>...</td>\n",
              "      <td>...</td>\n",
              "      <td>...</td>\n",
              "      <td>...</td>\n",
              "    </tr>\n",
              "    <tr>\n",
              "      <th>19068</th>\n",
              "      <td>city_landing</td>\n",
              "      <td>search-tools-button_open</td>\n",
              "      <td>Tbilisi / Категории Обзорные</td>\n",
              "      <td>1</td>\n",
              "      <td>1</td>\n",
              "    </tr>\n",
              "    <tr>\n",
              "      <th>19070</th>\n",
              "      <td>city_landing</td>\n",
              "      <td>search-tools-button_open</td>\n",
              "      <td>Alanya / Морские прогулки</td>\n",
              "      <td>6</td>\n",
              "      <td>5</td>\n",
              "    </tr>\n",
              "    <tr>\n",
              "      <th>19079</th>\n",
              "      <td>city_landing</td>\n",
              "      <td>search-tools-button_open</td>\n",
              "      <td>Anapa / В Крым</td>\n",
              "      <td>5</td>\n",
              "      <td>4</td>\n",
              "    </tr>\n",
              "    <tr>\n",
              "      <th>19087</th>\n",
              "      <td>city_landing</td>\n",
              "      <td>search-tools-button_open</td>\n",
              "      <td>Istanbul / ЭКСКУРСИИ В СТАМБУЛЕ</td>\n",
              "      <td>38</td>\n",
              "      <td>32</td>\n",
              "    </tr>\n",
              "    <tr>\n",
              "      <th>19089</th>\n",
              "      <td>city_landing</td>\n",
              "      <td>search-tools-button_open</td>\n",
              "      <td>Yerevan / Фильтры Выбрано: 0</td>\n",
              "      <td>16</td>\n",
              "      <td>16</td>\n",
              "    </tr>\n",
              "  </tbody>\n",
              "</table>\n",
              "<p>4848 rows × 5 columns</p>\n",
              "</div>"
            ],
            "text/plain": [
              "      event_category              event_action  \\\n",
              "2       city_landing  search-tools-button_open   \n",
              "13      city_landing  search-tools-button_open   \n",
              "18      city_landing  search-tools-button_open   \n",
              "22      city_landing  search-tools-button_open   \n",
              "27      city_landing  search-tools-button_open   \n",
              "...              ...                       ...   \n",
              "19068   city_landing  search-tools-button_open   \n",
              "19070   city_landing  search-tools-button_open   \n",
              "19079   city_landing  search-tools-button_open   \n",
              "19087   city_landing  search-tools-button_open   \n",
              "19089   city_landing  search-tools-button_open   \n",
              "\n",
              "                            event_label  total_events  unique_events  \n",
              "2                    Penza / Сортировка             2              2  \n",
              "13           Crete / Фильтры Выбрано: 1             9              9  \n",
              "18                       Irkutsk / КБЖД             2              2  \n",
              "22     Adler / КАКИЕ ЭКСКУРСИИ В АДЛЕРЕ             1              1  \n",
              "27                Haifa / Категории Все             4              4  \n",
              "...                                 ...           ...            ...  \n",
              "19068      Tbilisi / Категории Обзорные             1              1  \n",
              "19070         Alanya / Морские прогулки             6              5  \n",
              "19079                    Anapa / В Крым             5              4  \n",
              "19087   Istanbul / ЭКСКУРСИИ В СТАМБУЛЕ            38             32  \n",
              "19089      Yerevan / Фильтры Выбрано: 0            16             16  \n",
              "\n",
              "[4848 rows x 5 columns]"
            ]
          },
          "execution_count": 192,
          "metadata": {},
          "output_type": "execute_result"
        }
      ],
      "source": [
        "data[data['event_action'] == 'search-tools-button_open']"
      ]
    },
    {
      "cell_type": "code",
      "execution_count": null,
      "metadata": {
        "id": "kgU5lqeFVqeO"
      },
      "outputs": [],
      "source": [
        "# 4. Как часто люди пользуются выбором цены?\n",
        "# Отавлю фильтры, которые относятся к настройке цены"
      ]
    },
    {
      "cell_type": "code",
      "execution_count": null,
      "metadata": {
        "id": "N0FLA7EhVqeO"
      },
      "outputs": [],
      "source": [
        "PRICES_LABELS = set(['price_first', 'price_second', 'price_third'])"
      ]
    },
    {
      "cell_type": "code",
      "execution_count": null,
      "metadata": {
        "id": "b-FApTCdVqeO"
      },
      "outputs": [],
      "source": [
        "price_filter_only = data[data.event_action.apply(lambda x: x in PRICES_LABELS)]"
      ]
    },
    {
      "cell_type": "code",
      "execution_count": null,
      "metadata": {
        "id": "acBSHSfsVqeP",
        "outputId": "c6c303d6-00e4-4cbb-87d0-9cb932810255"
      },
      "outputs": [
        {
          "data": {
            "text/html": [
              "<div>\n",
              "<style scoped>\n",
              "    .dataframe tbody tr th:only-of-type {\n",
              "        vertical-align: middle;\n",
              "    }\n",
              "\n",
              "    .dataframe tbody tr th {\n",
              "        vertical-align: top;\n",
              "    }\n",
              "\n",
              "    .dataframe thead th {\n",
              "        text-align: right;\n",
              "    }\n",
              "</style>\n",
              "<table border=\"1\" class=\"dataframe\">\n",
              "  <thead>\n",
              "    <tr style=\"text-align: right;\">\n",
              "      <th></th>\n",
              "      <th>event_category</th>\n",
              "      <th>event_action</th>\n",
              "      <th>event_label</th>\n",
              "      <th>total_events</th>\n",
              "      <th>unique_events</th>\n",
              "    </tr>\n",
              "  </thead>\n",
              "  <tbody>\n",
              "    <tr>\n",
              "      <th>21</th>\n",
              "      <td>city_landing</td>\n",
              "      <td>price_third</td>\n",
              "      <td>Petrozavodsk</td>\n",
              "      <td>6</td>\n",
              "      <td>4</td>\n",
              "    </tr>\n",
              "    <tr>\n",
              "      <th>45</th>\n",
              "      <td>city_landing</td>\n",
              "      <td>price_third</td>\n",
              "      <td>Saint Petersburg</td>\n",
              "      <td>186</td>\n",
              "      <td>94</td>\n",
              "    </tr>\n",
              "    <tr>\n",
              "      <th>49</th>\n",
              "      <td>city_landing</td>\n",
              "      <td>price_second</td>\n",
              "      <td>Thessaloniki</td>\n",
              "      <td>3</td>\n",
              "      <td>1</td>\n",
              "    </tr>\n",
              "    <tr>\n",
              "      <th>132</th>\n",
              "      <td>city_landing</td>\n",
              "      <td>price_third</td>\n",
              "      <td>Makhachkala</td>\n",
              "      <td>4</td>\n",
              "      <td>3</td>\n",
              "    </tr>\n",
              "    <tr>\n",
              "      <th>253</th>\n",
              "      <td>city_landing</td>\n",
              "      <td>price_second</td>\n",
              "      <td>Kislovodsk</td>\n",
              "      <td>55</td>\n",
              "      <td>35</td>\n",
              "    </tr>\n",
              "    <tr>\n",
              "      <th>...</th>\n",
              "      <td>...</td>\n",
              "      <td>...</td>\n",
              "      <td>...</td>\n",
              "      <td>...</td>\n",
              "      <td>...</td>\n",
              "    </tr>\n",
              "    <tr>\n",
              "      <th>18914</th>\n",
              "      <td>city_landing</td>\n",
              "      <td>price_second</td>\n",
              "      <td>Alushta</td>\n",
              "      <td>30</td>\n",
              "      <td>20</td>\n",
              "    </tr>\n",
              "    <tr>\n",
              "      <th>18982</th>\n",
              "      <td>city_landing</td>\n",
              "      <td>price_second</td>\n",
              "      <td>Tver</td>\n",
              "      <td>4</td>\n",
              "      <td>4</td>\n",
              "    </tr>\n",
              "    <tr>\n",
              "      <th>18996</th>\n",
              "      <td>city_landing</td>\n",
              "      <td>price_first</td>\n",
              "      <td>Stockholm</td>\n",
              "      <td>2</td>\n",
              "      <td>2</td>\n",
              "    </tr>\n",
              "    <tr>\n",
              "      <th>19001</th>\n",
              "      <td>city_landing</td>\n",
              "      <td>price_first</td>\n",
              "      <td>Pskov</td>\n",
              "      <td>68</td>\n",
              "      <td>52</td>\n",
              "    </tr>\n",
              "    <tr>\n",
              "      <th>19020</th>\n",
              "      <td>city_landing</td>\n",
              "      <td>price_first</td>\n",
              "      <td>Tel Aviv</td>\n",
              "      <td>8</td>\n",
              "      <td>7</td>\n",
              "    </tr>\n",
              "  </tbody>\n",
              "</table>\n",
              "<p>413 rows × 5 columns</p>\n",
              "</div>"
            ],
            "text/plain": [
              "      event_category  event_action       event_label  total_events  \\\n",
              "21      city_landing   price_third      Petrozavodsk             6   \n",
              "45      city_landing   price_third  Saint Petersburg           186   \n",
              "49      city_landing  price_second      Thessaloniki             3   \n",
              "132     city_landing   price_third       Makhachkala             4   \n",
              "253     city_landing  price_second        Kislovodsk            55   \n",
              "...              ...           ...               ...           ...   \n",
              "18914   city_landing  price_second           Alushta            30   \n",
              "18982   city_landing  price_second              Tver             4   \n",
              "18996   city_landing   price_first         Stockholm             2   \n",
              "19001   city_landing   price_first             Pskov            68   \n",
              "19020   city_landing   price_first          Tel Aviv             8   \n",
              "\n",
              "       unique_events  \n",
              "21                 4  \n",
              "45                94  \n",
              "49                 1  \n",
              "132                3  \n",
              "253               35  \n",
              "...              ...  \n",
              "18914             20  \n",
              "18982              4  \n",
              "18996              2  \n",
              "19001             52  \n",
              "19020              7  \n",
              "\n",
              "[413 rows x 5 columns]"
            ]
          },
          "execution_count": 213,
          "metadata": {},
          "output_type": "execute_result"
        }
      ],
      "source": [
        "price_filter_only"
      ]
    },
    {
      "cell_type": "code",
      "execution_count": null,
      "metadata": {
        "id": "YBbqUfkhVqeP"
      },
      "outputs": [],
      "source": [
        "price_filters_total_events = price_filter_only.total_events.sum()"
      ]
    },
    {
      "cell_type": "code",
      "execution_count": null,
      "metadata": {
        "id": "rb8yDeUDVqeP",
        "outputId": "a3dc7162-62e0-45c9-bc69-b15ccff9c500"
      },
      "outputs": [
        {
          "data": {
            "text/plain": [
              "6.84"
            ]
          },
          "execution_count": 220,
          "metadata": {},
          "output_type": "execute_result"
        }
      ],
      "source": [
        "np.round(price_filters_total_events / filters.total_events.sum() * 100, 2)"
      ]
    },
    {
      "cell_type": "code",
      "execution_count": null,
      "metadata": {
        "id": "cvbltVXXVqeQ",
        "outputId": "715e3443-b79d-4b97-f7fd-eb6faea2db5d"
      },
      "outputs": [
        {
          "data": {
            "text/plain": [
              "4.73"
            ]
          },
          "execution_count": 221,
          "metadata": {},
          "output_type": "execute_result"
        }
      ],
      "source": [
        "np.round(price_filters_total_events / (filters.total_events.sum() + sorts.total_events.sum() + categories.total_events.sum())* 100, 2)"
      ]
    },
    {
      "cell_type": "code",
      "execution_count": null,
      "metadata": {
        "id": "4pURa5thVqeQ"
      },
      "outputs": [],
      "source": []
    },
    {
      "cell_type": "code",
      "execution_count": null,
      "metadata": {
        "id": "xifftP_bVqeQ"
      },
      "outputs": [],
      "source": []
    },
    {
      "cell_type": "code",
      "execution_count": null,
      "metadata": {
        "id": "8iLhq1HzVqeQ"
      },
      "outputs": [],
      "source": []
    },
    {
      "cell_type": "markdown",
      "metadata": {
        "id": "inea75q4VqeR"
      },
      "source": [
        "# Задание 2"
      ]
    },
    {
      "cell_type": "markdown",
      "metadata": {
        "id": "oZ-N2HROVqeR"
      },
      "source": [
        "## Проверить гипотезу о том, что добавление нового фильтра увеличивает количество бронирований.\n",
        "## Результат, который мы хотим достичь с помощью нового фильтра, - это увеличение количества бронирований."
      ]
    },
    {
      "cell_type": "markdown",
      "metadata": {
        "id": "NxLSVYnyVqeR"
      },
      "source": [
        "## Целевая метрика для сравнения контрольной и тестовой групп - конверсия в бронирование после перехода на сайт, так как количество переходов на сайт одинаковое в группах\n",
        "## Конверсия = кол-во бронирований / кол-во заходов на сайт"
      ]
    },
    {
      "cell_type": "code",
      "execution_count": 1,
      "metadata": {
        "id": "aT4yTW3lVqeR"
      },
      "outputs": [],
      "source": [
        "count1 = 450\n",
        "n1 = 5000\n",
        "count2 = 300\n",
        "n2 = n1"
      ]
    },
    {
      "cell_type": "code",
      "execution_count": 2,
      "metadata": {
        "colab": {
          "base_uri": "https://localhost:8080/"
        },
        "id": "ABYyYlWtVqeS",
        "outputId": "e304d69b-51b4-41be-b788-f86d8fb8be4d"
      },
      "outputs": [
        {
          "output_type": "execute_result",
          "data": {
            "text/plain": [
              "0.06"
            ]
          },
          "metadata": {},
          "execution_count": 2
        }
      ],
      "source": [
        "# Конверсия в группе А\n",
        "conversion_a = count2 / n2\n",
        "conversion_a"
      ]
    },
    {
      "cell_type": "code",
      "execution_count": 3,
      "metadata": {
        "colab": {
          "base_uri": "https://localhost:8080/"
        },
        "id": "_X8wLf7TVqeS",
        "outputId": "9443e262-6d9f-4ed5-e34f-7d07931308d7"
      },
      "outputs": [
        {
          "output_type": "execute_result",
          "data": {
            "text/plain": [
              "0.09"
            ]
          },
          "metadata": {},
          "execution_count": 3
        }
      ],
      "source": [
        "# Конверсия в группе Б\n",
        "conversion_b = count1 / n1\n",
        "conversion_b"
      ]
    },
    {
      "cell_type": "markdown",
      "source": [
        "# Проверим несколькими способами, значимо ли различие конверсий в группе А и группе Б, где гипотезы:\n",
        "  # H0: conversion_b = conversion_a\n",
        "  # H1: conversion_b > conversion_a"
      ],
      "metadata": {
        "id": "-bkyptUmYgJm"
      }
    },
    {
      "cell_type": "code",
      "execution_count": null,
      "metadata": {
        "id": "cOfmFTFCVqeS"
      },
      "outputs": [],
      "source": [
        "from statsmodels.stats.proportion import proportions_ztest"
      ]
    },
    {
      "cell_type": "code",
      "execution_count": null,
      "metadata": {
        "id": "kaAYvJQQVqeT",
        "outputId": "ad5f60ae-e918-44fe-84d0-8cb7f5c31e3a"
      },
      "outputs": [
        {
          "name": "stdout",
          "output_type": "stream",
          "text": [
            "One-sided z-test: z = 5.6949, p value = 0.0000\n"
          ]
        },
        {
          "data": {
            "text/plain": [
              "6.170477315681293e-09"
            ]
          },
          "execution_count": 26,
          "metadata": {},
          "output_type": "execute_result"
        }
      ],
      "source": [
        "success_cnts = np.array([count1, count2])\n",
        "total_cnts = np.array([n1, n2])\n",
        "test_stat, pval = proportions_ztest(count=success_cnts, nobs=total_cnts, alternative='larger')\n",
        "print('One-sided z-test: z = {:.4f}, p value = {:.4f}'.format(test_stat, pval))\n",
        "pval"
      ]
    },
    {
      "cell_type": "markdown",
      "source": [
        "p value < 0,05 => Отвергаем H0. Различия стат значимы и конверсия в группе Б больше, чем конверсия в группе А."
      ],
      "metadata": {
        "id": "cJHcRHgBY0nB"
      }
    },
    {
      "cell_type": "markdown",
      "source": [
        "#Посмотрим на 95% доверительные интервалы каждой конверсии"
      ],
      "metadata": {
        "id": "D8Uzbh5kaaer"
      }
    },
    {
      "cell_type": "code",
      "execution_count": 5,
      "metadata": {
        "id": "8beJK7C1VqeT"
      },
      "outputs": [],
      "source": [
        "import statsmodels.api as sm"
      ]
    },
    {
      "cell_type": "code",
      "execution_count": null,
      "metadata": {
        "id": "fTLRAj1JVqeT"
      },
      "outputs": [],
      "source": [
        "low_a, high_a = sm.stats.proportion_confint(count=count2, nobs=n2, alpha=0.05, method='wilson')"
      ]
    },
    {
      "cell_type": "code",
      "execution_count": null,
      "metadata": {
        "id": "cDl7szDoVqeU",
        "outputId": "7efa1158-0ab8-4339-8ccf-396d90329ccd"
      },
      "outputs": [
        {
          "name": "stdout",
          "output_type": "stream",
          "text": [
            "0.05374897325570841 0.06692660445594185\n"
          ]
        }
      ],
      "source": [
        "print(low_a, high_a)"
      ]
    },
    {
      "cell_type": "code",
      "execution_count": null,
      "metadata": {
        "id": "nVo0ftWvVqeU"
      },
      "outputs": [],
      "source": [
        "low_b, high_b = sm.stats.proportion_confint(count=count1, nobs=n1, alpha=0.05, method='wilson')"
      ]
    },
    {
      "cell_type": "code",
      "execution_count": null,
      "metadata": {
        "id": "Xb-J92-VVqeU",
        "outputId": "ebc46ac6-0aed-404b-c395-020c7eb5e1bf"
      },
      "outputs": [
        {
          "name": "stdout",
          "output_type": "stream",
          "text": [
            "0.08237915058874333 0.0982503650062035\n"
          ]
        }
      ],
      "source": [
        "print(low_b, high_b)"
      ]
    },
    {
      "cell_type": "markdown",
      "source": [
        "#95% доверительные интервалы [0.054; 0.067] и [0.082; 0.098] не пересекаются, что также говорит о стат значимом различии коверсий в двух группах."
      ],
      "metadata": {
        "id": "sttF6ZMfailQ"
      }
    },
    {
      "cell_type": "code",
      "execution_count": null,
      "metadata": {
        "id": "P8ottUhqVqeV"
      },
      "outputs": [],
      "source": [
        "# 99% доверительный интервал."
      ]
    },
    {
      "cell_type": "code",
      "execution_count": 6,
      "metadata": {
        "colab": {
          "base_uri": "https://localhost:8080/"
        },
        "id": "OV-TmuISVqeW",
        "outputId": "d0b42c23-b37f-48cb-9853-bdcd14437cb2"
      },
      "outputs": [
        {
          "output_type": "execute_result",
          "data": {
            "text/plain": [
              "(0.0519180839145652, 0.06924811037151357)"
            ]
          },
          "metadata": {},
          "execution_count": 6
        }
      ],
      "source": [
        "sm.stats.proportion_confint(count=300, nobs=5000, alpha=0.01, method='wilson')"
      ]
    },
    {
      "cell_type": "code",
      "execution_count": 7,
      "metadata": {
        "colab": {
          "base_uri": "https://localhost:8080/"
        },
        "id": "wHl_WsApVqeW",
        "outputId": "d574b0cf-b6a1-4a88-cc72-e16cdc963c60"
      },
      "outputs": [
        {
          "output_type": "execute_result",
          "data": {
            "text/plain": [
              "(0.0801111403311763, 0.10097554070812434)"
            ]
          },
          "metadata": {},
          "execution_count": 7
        }
      ],
      "source": [
        "sm.stats.proportion_confint(count=450, nobs=5000, alpha=0.01, method='wilson')"
      ]
    },
    {
      "cell_type": "code",
      "execution_count": null,
      "metadata": {
        "id": "GYLDoBTNVqeW"
      },
      "outputs": [],
      "source": [
        "# Истинное значение вероятности оформления бронирования в группе А лежит между 5,2% - 6,7%, если бы мы провели эксперимент много раз\n",
        "# Истинное значение вероятности оформления бронирования в группе Б лежит между 8% - 10,1%, если бы мы провели эксперимент много раз"
      ]
    },
    {
      "cell_type": "markdown",
      "source": [
        "#Другие способы проверить различия конверсий"
      ],
      "metadata": {
        "id": "hyj9vqRBeORH"
      }
    },
    {
      "cell_type": "code",
      "source": [
        "# 1. chi2-тест"
      ],
      "metadata": {
        "id": "2lS5f2LleWZa"
      },
      "execution_count": null,
      "outputs": []
    },
    {
      "cell_type": "code",
      "execution_count": 11,
      "metadata": {
        "id": "Rg8KA1AKVqeY"
      },
      "outputs": [],
      "source": [
        "import scipy.stats as ss"
      ]
    },
    {
      "cell_type": "code",
      "execution_count": 26,
      "metadata": {
        "id": "S71uMeAaVqeX"
      },
      "outputs": [],
      "source": [
        "res = ss.chi2_contingency([[300, 4700], [450, 4550]])"
      ]
    },
    {
      "cell_type": "code",
      "source": [
        "res"
      ],
      "metadata": {
        "colab": {
          "base_uri": "https://localhost:8080/"
        },
        "id": "jjthucqFiDoJ",
        "outputId": "4e9334bc-1315-4599-df8b-279b13727787"
      },
      "execution_count": 27,
      "outputs": [
        {
          "output_type": "execute_result",
          "data": {
            "text/plain": [
              "Chi2ContingencyResult(statistic=np.float64(32.00144144144144), pvalue=np.float64(1.5405822299465274e-08), dof=1, expected_freq=array([[ 375., 4625.],\n",
              "       [ 375., 4625.]]))"
            ]
          },
          "metadata": {},
          "execution_count": 27
        }
      ]
    },
    {
      "cell_type": "code",
      "execution_count": null,
      "metadata": {
        "id": "VvTz2IUBVqeX"
      },
      "outputs": [],
      "source": [
        "# p_value < 0.05 => Отвергаем нулевую гипотезу, то есть различия стат значимы и добаление нового фильтра на сайт имеет эффект"
      ]
    },
    {
      "cell_type": "code",
      "source": [],
      "metadata": {
        "id": "dsTDqDDwfO5W"
      },
      "execution_count": null,
      "outputs": []
    },
    {
      "cell_type": "code",
      "source": [
        "# 2.Тест Барнарда\n",
        "# p1 - сайт с фильтром (группа Б)\n",
        "# p2 - сайт без фильтра (группа А)"
      ],
      "metadata": {
        "id": "y_axpj5_bKgu"
      },
      "execution_count": null,
      "outputs": []
    },
    {
      "cell_type": "code",
      "execution_count": null,
      "metadata": {
        "id": "4XbpI0WaVqeY"
      },
      "outputs": [],
      "source": [
        "# Проверка 1\n",
        "# H0: p1 <= p2\n",
        "# H1: p1 > p2"
      ]
    },
    {
      "cell_type": "code",
      "execution_count": null,
      "metadata": {
        "id": "J0CxPf63VqeZ"
      },
      "outputs": [],
      "source": [
        "res = ss.barnard_exact([[450, 300], [4550, 4700]], alternative=\"greater\")"
      ]
    },
    {
      "cell_type": "code",
      "execution_count": null,
      "metadata": {
        "id": "Quc3MlcHVqeZ",
        "outputId": "ca3f967c-b2d1-45a5-9878-5f6ef35973bd"
      },
      "outputs": [
        {
          "data": {
            "text/plain": [
              "5.694947974514993"
            ]
          },
          "execution_count": 44,
          "metadata": {},
          "output_type": "execute_result"
        }
      ],
      "source": [
        "res.statistic"
      ]
    },
    {
      "cell_type": "code",
      "execution_count": null,
      "metadata": {
        "id": "C0AUJajFVqeZ",
        "outputId": "04100579-6c9a-45d4-84fc-8cf484ac84f3"
      },
      "outputs": [
        {
          "data": {
            "text/plain": [
              "6.296795408748488e-09"
            ]
          },
          "execution_count": 45,
          "metadata": {},
          "output_type": "execute_result"
        }
      ],
      "source": [
        "res.pvalue"
      ]
    },
    {
      "cell_type": "code",
      "execution_count": null,
      "metadata": {
        "id": "FiGYJCwlVqea"
      },
      "outputs": [],
      "source": [
        "# p-value < 0.05 => отклоняем H0 и принимаем H1, то есть p1 > p2 и новый фильтр увеличивает число бронирований"
      ]
    },
    {
      "cell_type": "code",
      "execution_count": null,
      "metadata": {
        "id": "gXNUSkSSVqea"
      },
      "outputs": [],
      "source": [
        "# Проверка 2\n",
        "# H0: p1 > p2\n",
        "# H1: p1 <= p2"
      ]
    },
    {
      "cell_type": "code",
      "execution_count": null,
      "metadata": {
        "id": "YdZIwIFfVqea"
      },
      "outputs": [],
      "source": [
        "res_2 = ss.barnard_exact([[450, 300], [4550, 4700]], alternative=\"less\")"
      ]
    },
    {
      "cell_type": "code",
      "execution_count": null,
      "metadata": {
        "id": "KcTVMly-Vqea",
        "outputId": "d9226c90-9331-46b0-f746-eadd5fa7eb34"
      },
      "outputs": [
        {
          "data": {
            "text/plain": [
              "5.694947974514993"
            ]
          },
          "execution_count": 5,
          "metadata": {},
          "output_type": "execute_result"
        }
      ],
      "source": [
        "res_2.statistic"
      ]
    },
    {
      "cell_type": "code",
      "execution_count": null,
      "metadata": {
        "id": "cS2885juVqeb",
        "outputId": "f8c06bd6-bc16-4e5e-b80a-49d3c1815110"
      },
      "outputs": [
        {
          "data": {
            "text/plain": [
              "1.0"
            ]
          },
          "execution_count": 4,
          "metadata": {},
          "output_type": "execute_result"
        }
      ],
      "source": [
        "res_2.pvalue"
      ]
    },
    {
      "cell_type": "code",
      "execution_count": null,
      "metadata": {
        "id": "2d4LBq9aVqeb"
      },
      "outputs": [],
      "source": [
        "# p-value > 0.05 => принимаем H0, то есть p1 > p2 и новый фильтр увеличивает число бронирований"
      ]
    },
    {
      "cell_type": "code",
      "source": [
        "#3. Тест Фишера (точный)\n",
        "# p1 - сайт с фильтром (группа Б)\n",
        "# p2 - сайт без фильтра (группа А)"
      ],
      "metadata": {
        "id": "ZBT2omejetWl"
      },
      "execution_count": null,
      "outputs": []
    },
    {
      "cell_type": "code",
      "source": [
        "# Проверка 1\n",
        "# H0: p1 <= p2\n",
        "# H1: p1 > p2"
      ],
      "metadata": {
        "id": "vffOiYmZfTi7"
      },
      "execution_count": null,
      "outputs": []
    },
    {
      "cell_type": "code",
      "execution_count": null,
      "metadata": {
        "id": "62l7fUhvVqeb"
      },
      "outputs": [],
      "source": [
        "res_fischer = ss.fisher_exact([[450, 300], [4550, 4700]], alternative='greater')"
      ]
    },
    {
      "cell_type": "code",
      "execution_count": null,
      "metadata": {
        "id": "_a5IJx61Vqeb",
        "outputId": "a1047123-02ec-4fc4-eb1f-63f3e6dd00e2"
      },
      "outputs": [
        {
          "data": {
            "text/plain": [
              "(1.5494505494505495, 6.9788288850709e-09)"
            ]
          },
          "execution_count": 8,
          "metadata": {},
          "output_type": "execute_result"
        }
      ],
      "source": [
        "res_fischer"
      ]
    },
    {
      "cell_type": "code",
      "source": [
        "# p-value < 0.05 => отклоняем H0 и принимаем H1, то есть p1 > p2 и новый фильтр увеличивает число бронирований"
      ],
      "metadata": {
        "id": "-pLa0vmhfVwn"
      },
      "execution_count": null,
      "outputs": []
    },
    {
      "cell_type": "code",
      "source": [
        "# Проверка 2\n",
        "# H0: p1 > p2\n",
        "# H1: p1 <= p2"
      ],
      "metadata": {
        "id": "xH9UU0xNfY0f"
      },
      "execution_count": null,
      "outputs": []
    },
    {
      "cell_type": "code",
      "execution_count": null,
      "metadata": {
        "id": "wWH-4UCpVqec"
      },
      "outputs": [],
      "source": [
        "res_fischer = ss.fisher_exact([[450, 300], [4550, 4700]], alternative='less')"
      ]
    },
    {
      "cell_type": "code",
      "execution_count": null,
      "metadata": {
        "id": "37Dta0NbVqec",
        "outputId": "d8ec8d12-905e-4c7c-d991-d7cbd89cb2ee"
      },
      "outputs": [
        {
          "data": {
            "text/plain": [
              "(1.5494505494505495, 0.9999999955301234)"
            ]
          },
          "execution_count": 10,
          "metadata": {},
          "output_type": "execute_result"
        }
      ],
      "source": [
        "res_fischer"
      ]
    },
    {
      "cell_type": "code",
      "source": [
        "# p-value > 0.05 => принимаем H0, то есть p1 > p2 и новый фильтр увеличивает число бронирований"
      ],
      "metadata": {
        "id": "t8KlSJHKfc-D"
      },
      "execution_count": null,
      "outputs": []
    },
    {
      "cell_type": "code",
      "source": [],
      "metadata": {
        "id": "je4VEfO0fhpC"
      },
      "execution_count": null,
      "outputs": []
    },
    {
      "cell_type": "code",
      "execution_count": null,
      "metadata": {
        "id": "XnhkWpQNVqec"
      },
      "outputs": [],
      "source": [
        "# 4. Расчет z-критерия"
      ]
    },
    {
      "cell_type": "code",
      "execution_count": null,
      "metadata": {
        "id": "4ypwxBE7Vqed"
      },
      "outputs": [],
      "source": [
        "import scipy.stats.distributions as dist\n",
        "import numpy as np\n",
        "\n",
        "def z_test_2_sample_proportions(x1, x2, n1, n2, two_tailed=True):\n",
        "    '''\n",
        "    Calculate the test statistic for a z-test on 2 proportions from independent samples\n",
        "    x1, x2: number of successes in group 1 and 2\n",
        "    n1, n2: total number of observations in group 1 and 2\n",
        "    Returns: test statistic (z), and p-value\n",
        "    '''\n",
        "    avg_p = (x1 + x2) / (n1 + n2)\n",
        "    z_val = (x1/n1 - x2/n2) / np.sqrt(avg_p * (1-avg_p) * (1/n1 + 1/n2))\n",
        "    z_prob = dist.norm.cdf(-np.abs(z_val))\n",
        "\n",
        "    if two_tailed:\n",
        "        return z_val, 2*z_prob\n",
        "\n",
        "    else:\n",
        "        return z_val, z_prob"
      ]
    },
    {
      "cell_type": "code",
      "execution_count": null,
      "metadata": {
        "id": "0nZW7Lt4Vqed"
      },
      "outputs": [],
      "source": [
        "z_val, z_prob = z_test_2_sample_proportions(450, 300, 5000, 5000, two_tailed=False)"
      ]
    },
    {
      "cell_type": "code",
      "execution_count": null,
      "metadata": {
        "id": "RQ_2xcPdVqed",
        "outputId": "9e7e8351-6529-42be-9bf8-2e6758d3a331"
      },
      "outputs": [
        {
          "data": {
            "text/plain": [
              "5.694947974514993"
            ]
          },
          "execution_count": 15,
          "metadata": {},
          "output_type": "execute_result"
        }
      ],
      "source": [
        "z_val"
      ]
    },
    {
      "cell_type": "code",
      "execution_count": null,
      "metadata": {
        "id": "8KTVBOmrVqed",
        "outputId": "d4c45aff-b130-4bb0-9714-8acec75459bf"
      },
      "outputs": [
        {
          "data": {
            "text/plain": [
              "6.170477315681293e-09"
            ]
          },
          "execution_count": 16,
          "metadata": {},
          "output_type": "execute_result"
        }
      ],
      "source": [
        "z_prob"
      ]
    },
    {
      "cell_type": "code",
      "source": [
        "z_ctitical = 1.96"
      ],
      "metadata": {
        "id": "9nu8jVRagoen"
      },
      "execution_count": null,
      "outputs": []
    },
    {
      "cell_type": "code",
      "execution_count": null,
      "metadata": {
        "id": "QvcgVPL4Vqee"
      },
      "outputs": [],
      "source": [
        "# Отвергаем нулевую гипотезу, так как z_val > z_ctitical\n",
        "# => различия стат значимы, то есть добаление нового фильтра на сайт имеет эффект"
      ]
    },
    {
      "cell_type": "code",
      "source": [],
      "metadata": {
        "id": "nXTUxUCEgx2h"
      },
      "execution_count": null,
      "outputs": []
    },
    {
      "cell_type": "code",
      "execution_count": null,
      "metadata": {
        "id": "aI6rnEOkVqee"
      },
      "outputs": [],
      "source": [
        "# 5. 95% доверительный интервал для разности (p1 - p2)"
      ]
    },
    {
      "cell_type": "code",
      "execution_count": null,
      "metadata": {
        "id": "Z5tes2yxVqee"
      },
      "outputs": [],
      "source": [
        "from statsmodels import stats as st"
      ]
    },
    {
      "cell_type": "code",
      "execution_count": null,
      "metadata": {
        "id": "GZdS90IUVqee"
      },
      "outputs": [],
      "source": [
        "low, upp = st.proportion.confint_proportions_2indep(450, 5000, 300, 5000, method='wald', compare='diff', alpha=0.05, correction=True)"
      ]
    },
    {
      "cell_type": "code",
      "execution_count": null,
      "metadata": {
        "id": "ZjKAcpnOVqef",
        "outputId": "002ab3e6-065e-4298-8f3f-badd81d8d127"
      },
      "outputs": [
        {
          "name": "stdout",
          "output_type": "stream",
          "text": [
            "0.019692005482131864 0.04030799451786814\n"
          ]
        }
      ],
      "source": [
        "print(low, upp)"
      ]
    },
    {
      "cell_type": "code",
      "execution_count": null,
      "metadata": {
        "id": "T6JsOD36Vqef"
      },
      "outputs": [],
      "source": [
        "# Доверительный интервал для разности (p1 - p2) не захватывает 0, значит, различия стат значимы"
      ]
    }
  ],
  "metadata": {
    "kernelspec": {
      "display_name": "Python 3",
      "language": "python",
      "name": "python3"
    },
    "language_info": {
      "codemirror_mode": {
        "name": "ipython",
        "version": 3
      },
      "file_extension": ".py",
      "mimetype": "text/x-python",
      "name": "python",
      "nbconvert_exporter": "python",
      "pygments_lexer": "ipython3",
      "version": "3.7.3"
    },
    "colab": {
      "provenance": []
    }
  },
  "nbformat": 4,
  "nbformat_minor": 0
}