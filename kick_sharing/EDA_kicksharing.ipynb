{
 "cells": [
  {
   "cell_type": "code",
   "execution_count": 75,
   "metadata": {},
   "outputs": [],
   "source": [
    "import pandas as pd\n",
    "import numpy as np\n",
    "import matplotlib.pyplot as plt\n",
    "import seaborn as sns\n",
    "import datetime as dt"
   ]
  },
  {
   "cell_type": "markdown",
   "metadata": {},
   "source": [
    "## 1. Чтение данных"
   ]
  },
  {
   "cell_type": "code",
   "execution_count": 65,
   "metadata": {},
   "outputs": [],
   "source": [
    "df = pd.read_csv('kicksharing.csv', parse_dates=['created_dttm', 'book_start_dttm', 'book_end_dttm', 'local_book_start_dttm'])"
   ]
  },
  {
   "cell_type": "code",
   "execution_count": 66,
   "metadata": {},
   "outputs": [
    {
     "data": {
      "text/html": [
       "<div>\n",
       "<style scoped>\n",
       "    .dataframe tbody tr th:only-of-type {\n",
       "        vertical-align: middle;\n",
       "    }\n",
       "\n",
       "    .dataframe tbody tr th {\n",
       "        vertical-align: top;\n",
       "    }\n",
       "\n",
       "    .dataframe thead th {\n",
       "        text-align: right;\n",
       "    }\n",
       "</style>\n",
       "<table border=\"1\" class=\"dataframe\">\n",
       "  <thead>\n",
       "    <tr style=\"text-align: right;\">\n",
       "      <th></th>\n",
       "      <th>order_rk</th>\n",
       "      <th>party_rk</th>\n",
       "      <th>gender_cd</th>\n",
       "      <th>age</th>\n",
       "      <th>education_level_cd</th>\n",
       "      <th>marital_status_cd</th>\n",
       "      <th>lvn_state_nm</th>\n",
       "      <th>minute_cost</th>\n",
       "      <th>activation_cost</th>\n",
       "      <th>hold_amount</th>\n",
       "      <th>transport_model</th>\n",
       "      <th>distance_km</th>\n",
       "      <th>created_dttm</th>\n",
       "      <th>book_start_dttm</th>\n",
       "      <th>book_end_dttm</th>\n",
       "      <th>book_time_zone_cd</th>\n",
       "      <th>local_book_start_dttm</th>\n",
       "      <th>nominal_price_rub_amt</th>\n",
       "      <th>loyalty_accrual_rub_amt</th>\n",
       "      <th>loyalty_accrual_bns_amt</th>\n",
       "    </tr>\n",
       "  </thead>\n",
       "  <tbody>\n",
       "    <tr>\n",
       "      <th>0</th>\n",
       "      <td>266071307</td>\n",
       "      <td>761067705</td>\n",
       "      <td>M</td>\n",
       "      <td>40</td>\n",
       "      <td>UGR</td>\n",
       "      <td>DIV</td>\n",
       "      <td>ТЮМЕНСКАЯ ОБЛ</td>\n",
       "      <td>4.99</td>\n",
       "      <td>30.0</td>\n",
       "      <td>300.0</td>\n",
       "      <td>SL</td>\n",
       "      <td>3.690479</td>\n",
       "      <td>2024-08-07 09:47:25</td>\n",
       "      <td>2024-08-07 09:47:29.325252</td>\n",
       "      <td>2024-08-07 10:07:59.339524</td>\n",
       "      <td>5</td>\n",
       "      <td>2024-08-07 11:47:29.325252</td>\n",
       "      <td>134.79</td>\n",
       "      <td>19.48</td>\n",
       "      <td>NaN</td>\n",
       "    </tr>\n",
       "    <tr>\n",
       "      <th>1</th>\n",
       "      <td>355113920</td>\n",
       "      <td>614049469</td>\n",
       "      <td>F</td>\n",
       "      <td>30</td>\n",
       "      <td>GRD</td>\n",
       "      <td>MAR</td>\n",
       "      <td>РОСТОВСКАЯ ОБЛ</td>\n",
       "      <td>8.49</td>\n",
       "      <td>50.0</td>\n",
       "      <td>300.0</td>\n",
       "      <td>SL</td>\n",
       "      <td>1.114912</td>\n",
       "      <td>2024-10-17 14:57:20</td>\n",
       "      <td>2024-10-17 14:57:24.586000</td>\n",
       "      <td>2024-10-17 15:04:19.419607</td>\n",
       "      <td>3</td>\n",
       "      <td>2024-10-17 14:57:24.586000</td>\n",
       "      <td>109.43</td>\n",
       "      <td>40.30</td>\n",
       "      <td>NaN</td>\n",
       "    </tr>\n",
       "    <tr>\n",
       "      <th>2</th>\n",
       "      <td>347424551</td>\n",
       "      <td>757583701</td>\n",
       "      <td>M</td>\n",
       "      <td>28</td>\n",
       "      <td>UGR</td>\n",
       "      <td>UNM</td>\n",
       "      <td>СВЕРДЛОВСКАЯ ОБЛ</td>\n",
       "      <td>5.99</td>\n",
       "      <td>30.0</td>\n",
       "      <td>300.0</td>\n",
       "      <td>E</td>\n",
       "      <td>1.515612</td>\n",
       "      <td>2024-09-19 05:31:41</td>\n",
       "      <td>2024-09-19 05:34:59.476000</td>\n",
       "      <td>2024-09-19 05:41:50.164372</td>\n",
       "      <td>5</td>\n",
       "      <td>2024-09-19 07:34:59.476000</td>\n",
       "      <td>71.93</td>\n",
       "      <td>10.79</td>\n",
       "      <td>NaN</td>\n",
       "    </tr>\n",
       "    <tr>\n",
       "      <th>3</th>\n",
       "      <td>351562959</td>\n",
       "      <td>541367366</td>\n",
       "      <td>M</td>\n",
       "      <td>24</td>\n",
       "      <td>GRD</td>\n",
       "      <td>UNM</td>\n",
       "      <td>Г МОСКВА</td>\n",
       "      <td>8.99</td>\n",
       "      <td>50.0</td>\n",
       "      <td>300.0</td>\n",
       "      <td>SL</td>\n",
       "      <td>0.499411</td>\n",
       "      <td>2024-10-04 16:05:09</td>\n",
       "      <td>2024-10-04 16:05:13.162000</td>\n",
       "      <td>2024-10-04 16:07:31.724918</td>\n",
       "      <td>3</td>\n",
       "      <td>2024-10-04 16:05:13.162000</td>\n",
       "      <td>76.97</td>\n",
       "      <td>7.70</td>\n",
       "      <td>NaN</td>\n",
       "    </tr>\n",
       "    <tr>\n",
       "      <th>4</th>\n",
       "      <td>258647149</td>\n",
       "      <td>238473615</td>\n",
       "      <td>M</td>\n",
       "      <td>34</td>\n",
       "      <td>NaN</td>\n",
       "      <td>NaN</td>\n",
       "      <td>Г МОСКВА</td>\n",
       "      <td>6.99</td>\n",
       "      <td>50.0</td>\n",
       "      <td>300.0</td>\n",
       "      <td>SL</td>\n",
       "      <td>2.602028</td>\n",
       "      <td>2024-07-10 06:57:40</td>\n",
       "      <td>2024-07-10 06:57:43.017125</td>\n",
       "      <td>2024-07-10 07:07:48.446462</td>\n",
       "      <td>3</td>\n",
       "      <td>2024-07-10 06:57:43.017125</td>\n",
       "      <td>126.89</td>\n",
       "      <td>25.38</td>\n",
       "      <td>NaN</td>\n",
       "    </tr>\n",
       "    <tr>\n",
       "      <th>5</th>\n",
       "      <td>277397094</td>\n",
       "      <td>5247768</td>\n",
       "      <td>M</td>\n",
       "      <td>42</td>\n",
       "      <td>NaN</td>\n",
       "      <td>NaN</td>\n",
       "      <td>МОСКВА</td>\n",
       "      <td>7.49</td>\n",
       "      <td>50.0</td>\n",
       "      <td>300.0</td>\n",
       "      <td>SL</td>\n",
       "      <td>0.016090</td>\n",
       "      <td>2024-09-10 09:40:18</td>\n",
       "      <td>2024-09-10 09:40:24.036000</td>\n",
       "      <td>2024-09-10 09:41:03.644495</td>\n",
       "      <td>3</td>\n",
       "      <td>2024-09-10 09:40:24.036000</td>\n",
       "      <td>0.00</td>\n",
       "      <td>NaN</td>\n",
       "      <td>NaN</td>\n",
       "    </tr>\n",
       "    <tr>\n",
       "      <th>6</th>\n",
       "      <td>273528957</td>\n",
       "      <td>801272780</td>\n",
       "      <td>F</td>\n",
       "      <td>19</td>\n",
       "      <td>NaN</td>\n",
       "      <td>NaN</td>\n",
       "      <td>РЕСП ТАТАРСТАН</td>\n",
       "      <td>7.49</td>\n",
       "      <td>30.0</td>\n",
       "      <td>300.0</td>\n",
       "      <td>SL</td>\n",
       "      <td>4.086853</td>\n",
       "      <td>2024-09-03 14:10:29</td>\n",
       "      <td>2024-09-03 14:10:34.524349</td>\n",
       "      <td>2024-09-03 14:21:25.119585</td>\n",
       "      <td>3</td>\n",
       "      <td>2024-09-03 14:10:34.524349</td>\n",
       "      <td>112.39</td>\n",
       "      <td>28.00</td>\n",
       "      <td>NaN</td>\n",
       "    </tr>\n",
       "    <tr>\n",
       "      <th>7</th>\n",
       "      <td>265062394</td>\n",
       "      <td>866880584</td>\n",
       "      <td>M</td>\n",
       "      <td>38</td>\n",
       "      <td>NaN</td>\n",
       "      <td>NaN</td>\n",
       "      <td>СВЕРДЛОВСКАЯ ОБЛ</td>\n",
       "      <td>5.99</td>\n",
       "      <td>30.0</td>\n",
       "      <td>300.0</td>\n",
       "      <td>E</td>\n",
       "      <td>2.370597</td>\n",
       "      <td>2024-08-03 03:09:35</td>\n",
       "      <td>2024-08-03 03:09:38.493851</td>\n",
       "      <td>2024-08-03 03:18:47.841493</td>\n",
       "      <td>5</td>\n",
       "      <td>2024-08-03 05:09:38.493851</td>\n",
       "      <td>89.90</td>\n",
       "      <td>12.99</td>\n",
       "      <td>NaN</td>\n",
       "    </tr>\n",
       "    <tr>\n",
       "      <th>8</th>\n",
       "      <td>351562880</td>\n",
       "      <td>762053500</td>\n",
       "      <td>M</td>\n",
       "      <td>19</td>\n",
       "      <td>NaN</td>\n",
       "      <td>NaN</td>\n",
       "      <td>НОВОСИБИРСКАЯ ОБЛ</td>\n",
       "      <td>5.99</td>\n",
       "      <td>30.0</td>\n",
       "      <td>300.0</td>\n",
       "      <td>E</td>\n",
       "      <td>0.101272</td>\n",
       "      <td>2024-10-04 10:45:16</td>\n",
       "      <td>2024-10-04 10:45:20.457000</td>\n",
       "      <td>2024-10-04 10:47:39.863967</td>\n",
       "      <td>7</td>\n",
       "      <td>2024-10-04 14:45:20.457000</td>\n",
       "      <td>47.97</td>\n",
       "      <td>4.80</td>\n",
       "      <td>NaN</td>\n",
       "    </tr>\n",
       "    <tr>\n",
       "      <th>9</th>\n",
       "      <td>269365210</td>\n",
       "      <td>161703813</td>\n",
       "      <td>M</td>\n",
       "      <td>31</td>\n",
       "      <td>UGR</td>\n",
       "      <td>MAR</td>\n",
       "      <td>ЧЕЛЯБИНСКАЯ ОБЛ</td>\n",
       "      <td>6.49</td>\n",
       "      <td>30.0</td>\n",
       "      <td>300.0</td>\n",
       "      <td>E</td>\n",
       "      <td>1.487792</td>\n",
       "      <td>2024-08-19 14:35:17</td>\n",
       "      <td>2024-08-19 14:35:20.199325</td>\n",
       "      <td>2024-08-19 14:42:53.835731</td>\n",
       "      <td>5</td>\n",
       "      <td>2024-08-19 16:35:20.199325</td>\n",
       "      <td>81.92</td>\n",
       "      <td>81.92</td>\n",
       "      <td>NaN</td>\n",
       "    </tr>\n",
       "  </tbody>\n",
       "</table>\n",
       "</div>"
      ],
      "text/plain": [
       "    order_rk   party_rk gender_cd  age education_level_cd marital_status_cd  \\\n",
       "0  266071307  761067705         M   40                UGR               DIV   \n",
       "1  355113920  614049469         F   30                GRD               MAR   \n",
       "2  347424551  757583701         M   28                UGR               UNM   \n",
       "3  351562959  541367366         M   24                GRD               UNM   \n",
       "4  258647149  238473615         M   34                NaN               NaN   \n",
       "5  277397094    5247768         M   42                NaN               NaN   \n",
       "6  273528957  801272780         F   19                NaN               NaN   \n",
       "7  265062394  866880584         M   38                NaN               NaN   \n",
       "8  351562880  762053500         M   19                NaN               NaN   \n",
       "9  269365210  161703813         M   31                UGR               MAR   \n",
       "\n",
       "        lvn_state_nm  minute_cost  activation_cost  hold_amount  \\\n",
       "0      ТЮМЕНСКАЯ ОБЛ         4.99             30.0        300.0   \n",
       "1     РОСТОВСКАЯ ОБЛ         8.49             50.0        300.0   \n",
       "2   СВЕРДЛОВСКАЯ ОБЛ         5.99             30.0        300.0   \n",
       "3           Г МОСКВА         8.99             50.0        300.0   \n",
       "4           Г МОСКВА         6.99             50.0        300.0   \n",
       "5             МОСКВА         7.49             50.0        300.0   \n",
       "6     РЕСП ТАТАРСТАН         7.49             30.0        300.0   \n",
       "7   СВЕРДЛОВСКАЯ ОБЛ         5.99             30.0        300.0   \n",
       "8  НОВОСИБИРСКАЯ ОБЛ         5.99             30.0        300.0   \n",
       "9    ЧЕЛЯБИНСКАЯ ОБЛ         6.49             30.0        300.0   \n",
       "\n",
       "  transport_model  distance_km        created_dttm            book_start_dttm  \\\n",
       "0              SL     3.690479 2024-08-07 09:47:25 2024-08-07 09:47:29.325252   \n",
       "1              SL     1.114912 2024-10-17 14:57:20 2024-10-17 14:57:24.586000   \n",
       "2               E     1.515612 2024-09-19 05:31:41 2024-09-19 05:34:59.476000   \n",
       "3              SL     0.499411 2024-10-04 16:05:09 2024-10-04 16:05:13.162000   \n",
       "4              SL     2.602028 2024-07-10 06:57:40 2024-07-10 06:57:43.017125   \n",
       "5              SL     0.016090 2024-09-10 09:40:18 2024-09-10 09:40:24.036000   \n",
       "6              SL     4.086853 2024-09-03 14:10:29 2024-09-03 14:10:34.524349   \n",
       "7               E     2.370597 2024-08-03 03:09:35 2024-08-03 03:09:38.493851   \n",
       "8               E     0.101272 2024-10-04 10:45:16 2024-10-04 10:45:20.457000   \n",
       "9               E     1.487792 2024-08-19 14:35:17 2024-08-19 14:35:20.199325   \n",
       "\n",
       "               book_end_dttm  book_time_zone_cd      local_book_start_dttm  \\\n",
       "0 2024-08-07 10:07:59.339524                  5 2024-08-07 11:47:29.325252   \n",
       "1 2024-10-17 15:04:19.419607                  3 2024-10-17 14:57:24.586000   \n",
       "2 2024-09-19 05:41:50.164372                  5 2024-09-19 07:34:59.476000   \n",
       "3 2024-10-04 16:07:31.724918                  3 2024-10-04 16:05:13.162000   \n",
       "4 2024-07-10 07:07:48.446462                  3 2024-07-10 06:57:43.017125   \n",
       "5 2024-09-10 09:41:03.644495                  3 2024-09-10 09:40:24.036000   \n",
       "6 2024-09-03 14:21:25.119585                  3 2024-09-03 14:10:34.524349   \n",
       "7 2024-08-03 03:18:47.841493                  5 2024-08-03 05:09:38.493851   \n",
       "8 2024-10-04 10:47:39.863967                  7 2024-10-04 14:45:20.457000   \n",
       "9 2024-08-19 14:42:53.835731                  5 2024-08-19 16:35:20.199325   \n",
       "\n",
       "   nominal_price_rub_amt  loyalty_accrual_rub_amt  loyalty_accrual_bns_amt  \n",
       "0                 134.79                    19.48                      NaN  \n",
       "1                 109.43                    40.30                      NaN  \n",
       "2                  71.93                    10.79                      NaN  \n",
       "3                  76.97                     7.70                      NaN  \n",
       "4                 126.89                    25.38                      NaN  \n",
       "5                   0.00                      NaN                      NaN  \n",
       "6                 112.39                    28.00                      NaN  \n",
       "7                  89.90                    12.99                      NaN  \n",
       "8                  47.97                     4.80                      NaN  \n",
       "9                  81.92                    81.92                      NaN  "
      ]
     },
     "execution_count": 66,
     "metadata": {},
     "output_type": "execute_result"
    }
   ],
   "source": [
    "df.head(10)"
   ]
  },
  {
   "cell_type": "markdown",
   "metadata": {},
   "source": [
    "## 2. EDA"
   ]
  },
  {
   "cell_type": "code",
   "execution_count": 17,
   "metadata": {},
   "outputs": [
    {
     "data": {
      "text/plain": [
       "(396749, 20)"
      ]
     },
     "execution_count": 17,
     "metadata": {},
     "output_type": "execute_result"
    }
   ],
   "source": [
    "df.shape"
   ]
  },
  {
   "cell_type": "code",
   "execution_count": 67,
   "metadata": {},
   "outputs": [
    {
     "name": "stdout",
     "output_type": "stream",
     "text": [
      "<class 'pandas.core.frame.DataFrame'>\n",
      "RangeIndex: 396749 entries, 0 to 396748\n",
      "Data columns (total 20 columns):\n",
      " #   Column                   Non-Null Count   Dtype         \n",
      "---  ------                   --------------   -----         \n",
      " 0   order_rk                 396749 non-null  int64         \n",
      " 1   party_rk                 396749 non-null  int64         \n",
      " 2   gender_cd                393828 non-null  object        \n",
      " 3   age                      396749 non-null  int64         \n",
      " 4   education_level_cd       190059 non-null  object        \n",
      " 5   marital_status_cd        217729 non-null  object        \n",
      " 6   lvn_state_nm             362572 non-null  object        \n",
      " 7   minute_cost              396749 non-null  float64       \n",
      " 8   activation_cost          396749 non-null  float64       \n",
      " 9   hold_amount              396749 non-null  float64       \n",
      " 10  transport_model          396749 non-null  object        \n",
      " 11  distance_km              396749 non-null  float64       \n",
      " 12  created_dttm             396749 non-null  datetime64[ns]\n",
      " 13  book_start_dttm          396749 non-null  datetime64[ns]\n",
      " 14  book_end_dttm            396749 non-null  datetime64[ns]\n",
      " 15  book_time_zone_cd        396749 non-null  int64         \n",
      " 16  local_book_start_dttm    396749 non-null  datetime64[ns]\n",
      " 17  nominal_price_rub_amt    396749 non-null  float64       \n",
      " 18  loyalty_accrual_rub_amt  366992 non-null  float64       \n",
      " 19  loyalty_accrual_bns_amt  21948 non-null   float64       \n",
      "dtypes: datetime64[ns](4), float64(7), int64(4), object(5)\n",
      "memory usage: 60.5+ MB\n"
     ]
    }
   ],
   "source": [
    "df.info()"
   ]
  },
  {
   "cell_type": "code",
   "execution_count": 19,
   "metadata": {},
   "outputs": [
    {
     "data": {
      "text/html": [
       "<div>\n",
       "<style scoped>\n",
       "    .dataframe tbody tr th:only-of-type {\n",
       "        vertical-align: middle;\n",
       "    }\n",
       "\n",
       "    .dataframe tbody tr th {\n",
       "        vertical-align: top;\n",
       "    }\n",
       "\n",
       "    .dataframe thead th {\n",
       "        text-align: right;\n",
       "    }\n",
       "</style>\n",
       "<table border=\"1\" class=\"dataframe\">\n",
       "  <thead>\n",
       "    <tr style=\"text-align: right;\">\n",
       "      <th></th>\n",
       "      <th>order_rk</th>\n",
       "      <th>party_rk</th>\n",
       "      <th>age</th>\n",
       "      <th>minute_cost</th>\n",
       "      <th>activation_cost</th>\n",
       "      <th>hold_amount</th>\n",
       "      <th>distance_km</th>\n",
       "      <th>book_time_zone_cd</th>\n",
       "      <th>nominal_price_rub_amt</th>\n",
       "      <th>loyalty_accrual_rub_amt</th>\n",
       "      <th>loyalty_accrual_bns_amt</th>\n",
       "    </tr>\n",
       "  </thead>\n",
       "  <tbody>\n",
       "    <tr>\n",
       "      <th>count</th>\n",
       "      <td>3.967490e+05</td>\n",
       "      <td>3.967490e+05</td>\n",
       "      <td>396749.000000</td>\n",
       "      <td>396749.000000</td>\n",
       "      <td>396749.000000</td>\n",
       "      <td>396749.000000</td>\n",
       "      <td>396749.000000</td>\n",
       "      <td>396749.000000</td>\n",
       "      <td>396749.000000</td>\n",
       "      <td>366992.000000</td>\n",
       "      <td>21948.000000</td>\n",
       "    </tr>\n",
       "    <tr>\n",
       "      <th>mean</th>\n",
       "      <td>2.892236e+08</td>\n",
       "      <td>5.988426e+08</td>\n",
       "      <td>31.544006</td>\n",
       "      <td>7.288688</td>\n",
       "      <td>42.593226</td>\n",
       "      <td>299.983869</td>\n",
       "      <td>3.681031</td>\n",
       "      <td>3.536155</td>\n",
       "      <td>127.647694</td>\n",
       "      <td>37.516121</td>\n",
       "      <td>127.789319</td>\n",
       "    </tr>\n",
       "    <tr>\n",
       "      <th>std</th>\n",
       "      <td>3.813458e+07</td>\n",
       "      <td>3.311675e+08</td>\n",
       "      <td>9.434545</td>\n",
       "      <td>1.289492</td>\n",
       "      <td>11.989974</td>\n",
       "      <td>1.939153</td>\n",
       "      <td>141.862349</td>\n",
       "      <td>1.209075</td>\n",
       "      <td>100.122365</td>\n",
       "      <td>75.208560</td>\n",
       "      <td>496.812143</td>\n",
       "    </tr>\n",
       "    <tr>\n",
       "      <th>min</th>\n",
       "      <td>2.526112e+08</td>\n",
       "      <td>1.471700e+04</td>\n",
       "      <td>12.000000</td>\n",
       "      <td>1.500000</td>\n",
       "      <td>0.000000</td>\n",
       "      <td>80.000000</td>\n",
       "      <td>0.000000</td>\n",
       "      <td>0.000000</td>\n",
       "      <td>0.000000</td>\n",
       "      <td>-161.940000</td>\n",
       "      <td>1.000000</td>\n",
       "    </tr>\n",
       "    <tr>\n",
       "      <th>25%</th>\n",
       "      <td>2.618150e+08</td>\n",
       "      <td>2.962323e+08</td>\n",
       "      <td>24.000000</td>\n",
       "      <td>6.490000</td>\n",
       "      <td>30.000000</td>\n",
       "      <td>300.000000</td>\n",
       "      <td>0.941054</td>\n",
       "      <td>3.000000</td>\n",
       "      <td>80.840000</td>\n",
       "      <td>11.240000</td>\n",
       "      <td>43.000000</td>\n",
       "    </tr>\n",
       "    <tr>\n",
       "      <th>50%</th>\n",
       "      <td>2.704367e+08</td>\n",
       "      <td>6.110092e+08</td>\n",
       "      <td>31.000000</td>\n",
       "      <td>7.490000</td>\n",
       "      <td>50.000000</td>\n",
       "      <td>300.000000</td>\n",
       "      <td>1.729883</td>\n",
       "      <td>3.000000</td>\n",
       "      <td>103.940000</td>\n",
       "      <td>18.730000</td>\n",
       "      <td>62.000000</td>\n",
       "    </tr>\n",
       "    <tr>\n",
       "      <th>75%</th>\n",
       "      <td>3.432678e+08</td>\n",
       "      <td>8.646921e+08</td>\n",
       "      <td>37.000000</td>\n",
       "      <td>8.220000</td>\n",
       "      <td>50.000000</td>\n",
       "      <td>300.000000</td>\n",
       "      <td>3.063694</td>\n",
       "      <td>3.000000</td>\n",
       "      <td>142.100000</td>\n",
       "      <td>35.060000</td>\n",
       "      <td>81.000000</td>\n",
       "    </tr>\n",
       "    <tr>\n",
       "      <th>max</th>\n",
       "      <td>3.562528e+08</td>\n",
       "      <td>1.301075e+09</td>\n",
       "      <td>94.000000</td>\n",
       "      <td>19.990000</td>\n",
       "      <td>50.000000</td>\n",
       "      <td>500.000000</td>\n",
       "      <td>56012.640308</td>\n",
       "      <td>12.000000</td>\n",
       "      <td>5627.640000</td>\n",
       "      <td>3185.000000</td>\n",
       "      <td>55429.360970</td>\n",
       "    </tr>\n",
       "  </tbody>\n",
       "</table>\n",
       "</div>"
      ],
      "text/plain": [
       "           order_rk      party_rk            age    minute_cost  \\\n",
       "count  3.967490e+05  3.967490e+05  396749.000000  396749.000000   \n",
       "mean   2.892236e+08  5.988426e+08      31.544006       7.288688   \n",
       "std    3.813458e+07  3.311675e+08       9.434545       1.289492   \n",
       "min    2.526112e+08  1.471700e+04      12.000000       1.500000   \n",
       "25%    2.618150e+08  2.962323e+08      24.000000       6.490000   \n",
       "50%    2.704367e+08  6.110092e+08      31.000000       7.490000   \n",
       "75%    3.432678e+08  8.646921e+08      37.000000       8.220000   \n",
       "max    3.562528e+08  1.301075e+09      94.000000      19.990000   \n",
       "\n",
       "       activation_cost    hold_amount    distance_km  book_time_zone_cd  \\\n",
       "count    396749.000000  396749.000000  396749.000000      396749.000000   \n",
       "mean         42.593226     299.983869       3.681031           3.536155   \n",
       "std          11.989974       1.939153     141.862349           1.209075   \n",
       "min           0.000000      80.000000       0.000000           0.000000   \n",
       "25%          30.000000     300.000000       0.941054           3.000000   \n",
       "50%          50.000000     300.000000       1.729883           3.000000   \n",
       "75%          50.000000     300.000000       3.063694           3.000000   \n",
       "max          50.000000     500.000000   56012.640308          12.000000   \n",
       "\n",
       "       nominal_price_rub_amt  loyalty_accrual_rub_amt  loyalty_accrual_bns_amt  \n",
       "count          396749.000000            366992.000000             21948.000000  \n",
       "mean              127.647694                37.516121               127.789319  \n",
       "std               100.122365                75.208560               496.812143  \n",
       "min                 0.000000              -161.940000                 1.000000  \n",
       "25%                80.840000                11.240000                43.000000  \n",
       "50%               103.940000                18.730000                62.000000  \n",
       "75%               142.100000                35.060000                81.000000  \n",
       "max              5627.640000              3185.000000             55429.360970  "
      ]
     },
     "execution_count": 19,
     "metadata": {},
     "output_type": "execute_result"
    }
   ],
   "source": [
    "df.describe()"
   ]
  },
  {
   "cell_type": "code",
   "execution_count": 20,
   "metadata": {},
   "outputs": [
    {
     "data": {
      "text/plain": [
       "order_rk                        0\n",
       "party_rk                        0\n",
       "gender_cd                    2921\n",
       "age                             0\n",
       "education_level_cd         206690\n",
       "marital_status_cd          179020\n",
       "lvn_state_nm                34177\n",
       "minute_cost                     0\n",
       "activation_cost                 0\n",
       "hold_amount                     0\n",
       "transport_model                 0\n",
       "distance_km                     0\n",
       "created_dttm                    0\n",
       "book_start_dttm                 0\n",
       "book_end_dttm                   0\n",
       "book_time_zone_cd               0\n",
       "local_book_start_dttm           0\n",
       "nominal_price_rub_amt           0\n",
       "loyalty_accrual_rub_amt     29757\n",
       "loyalty_accrual_bns_amt    374801\n",
       "dtype: int64"
      ]
     },
     "execution_count": 20,
     "metadata": {},
     "output_type": "execute_result"
    }
   ],
   "source": [
    "# Проверка пропусков\n",
    "df.isnull().sum()"
   ]
  },
  {
   "cell_type": "code",
   "execution_count": 36,
   "metadata": {},
   "outputs": [
    {
     "data": {
      "text/plain": [
       "order_rk                   396749\n",
       "party_rk                    64052\n",
       "gender_cd                       2\n",
       "age                            77\n",
       "education_level_cd              5\n",
       "marital_status_cd               5\n",
       "lvn_state_nm                  212\n",
       "minute_cost                   547\n",
       "activation_cost                10\n",
       "hold_amount                     3\n",
       "transport_model                14\n",
       "distance_km                384385\n",
       "created_dttm               387224\n",
       "book_start_dttm            396745\n",
       "book_end_dttm              396749\n",
       "book_time_zone_cd              13\n",
       "local_book_start_dttm      396746\n",
       "nominal_price_rub_amt       16713\n",
       "loyalty_accrual_rub_amt     18483\n",
       "loyalty_accrual_bns_amt      1858\n",
       "dtype: int64"
      ]
     },
     "execution_count": 36,
     "metadata": {},
     "output_type": "execute_result"
    }
   ],
   "source": [
    "# Проверка уникальных значений и дубликатов\n",
    "df.nunique()"
   ]
  },
  {
   "cell_type": "code",
   "execution_count": null,
   "metadata": {},
   "outputs": [],
   "source": [
    "# Посмотрю на распределение данных в датасете"
   ]
  },
  {
   "cell_type": "code",
   "execution_count": 22,
   "metadata": {},
   "outputs": [
    {
     "data": {
      "text/plain": [
       "<matplotlib.axes._subplots.AxesSubplot at 0x7f291cddb780>"
      ]
     },
     "execution_count": 22,
     "metadata": {},
     "output_type": "execute_result"
    },
    {
     "data": {
      "image/png": "[encoded data removed]",
      "text/plain": [
       "<Figure size 432x288 with 1 Axes>"
      ]
     },
     "metadata": {
      "needs_background": "light"
     },
     "output_type": "display_data"
    }
   ],
   "source": [
    "# 1. Стоимость поездки\n",
    "sns.boxplot(x=df['nominal_price_rub_amt'])"
   ]
  },
  {
   "cell_type": "code",
   "execution_count": 31,
   "metadata": {},
   "outputs": [
    {
     "data": {
      "text/plain": [
       "<seaborn.axisgrid.FacetGrid at 0x7f29156a4908>"
      ]
     },
     "execution_count": 31,
     "metadata": {},
     "output_type": "execute_result"
    },
    {
     "data": {
      "image/png": "[encoded data removed]",
      "text/plain": [
       "<Figure size 360x360 with 1 Axes>"
      ]
     },
     "metadata": {
      "needs_background": "light"
     },
     "output_type": "display_data"
    }
   ],
   "source": [
    "sns.displot(df['nominal_price_rub_amt'])"
   ]
  },
  {
   "cell_type": "code",
   "execution_count": null,
   "metadata": {},
   "outputs": [],
   "source": [
    "# Сильно скошенное вправо распределение: много пользователей платят в районе медианного значения - около 103 рублей за поездку,\n",
    "    # очень редко платят крупные суммы (более 500 рублей) и маленькие суммы (меньше медианы)\n",
    "# Значения 0 рублей - либо явные выбросы (предположительно, кто-то взял самокат и передумал ехать - завершил поездку в течение 1 минуты),\n",
    "    # либо поездка была оплачена целиком бонусами"
   ]
  },
  {
   "cell_type": "code",
   "execution_count": 55,
   "metadata": {},
   "outputs": [
    {
     "data": {
      "text/plain": [
       "<seaborn.axisgrid.FacetGrid at 0x7f28604276d8>"
      ]
     },
     "execution_count": 55,
     "metadata": {},
     "output_type": "execute_result"
    },
    {
     "data": {
      "image/png": "[encoded data removed]",
      "text/plain": [
       "<Figure size 360x360 with 1 Axes>"
      ]
     },
     "metadata": {
      "needs_background": "light"
     },
     "output_type": "display_data"
    }
   ],
   "source": [
    "# Отфильтруем \"выбросы\" для дальнейшего анализа данных\n",
    "df_nominal_price_filtered = df.query('nominal_price_rub_amt > 0 & nominal_price_rub_amt < 500')\n",
    "sns.displot(df_nominal_price_filtered['nominal_price_rub_amt'])"
   ]
  },
  {
   "cell_type": "code",
   "execution_count": 56,
   "metadata": {},
   "outputs": [
    {
     "data": {
      "text/plain": [
       "<seaborn.axisgrid.FacetGrid at 0x7f2860b72588>"
      ]
     },
     "execution_count": 56,
     "metadata": {},
     "output_type": "execute_result"
    },
    {
     "data": {
      "image/png": "[encoded data removed]",
      "text/plain": [
       "<Figure size 360x360 with 1 Axes>"
      ]
     },
     "metadata": {
      "needs_background": "light"
     },
     "output_type": "display_data"
    }
   ],
   "source": [
    "# Логарифм стоимости поездки - получение симметричного распределения\n",
    "nominal_price_filtered_log = np.log(df_nominal_price_filtered['nominal_price_rub_amt'])\n",
    "sns.displot(nominal_price_filtered_log)"
   ]
  },
  {
   "cell_type": "code",
   "execution_count": 52,
   "metadata": {},
   "outputs": [
    {
     "data": {
      "text/plain": [
       "<matplotlib.axes._subplots.AxesSubplot at 0x7f2862b23898>"
      ]
     },
     "execution_count": 52,
     "metadata": {},
     "output_type": "execute_result"
    },
    {
     "data": {
      "image/png": "[encoded data removed]",
      "text/plain": [
       "<Figure size 432x288 with 1 Axes>"
      ]
     },
     "metadata": {
      "needs_background": "light"
     },
     "output_type": "display_data"
    }
   ],
   "source": [
    "# 2. Километраж поездки\n",
    "sns.boxplot(x=df['distance_km'])              "
   ]
  },
  {
   "cell_type": "code",
   "execution_count": null,
   "metadata": {},
   "outputs": [],
   "source": [
    "# Это также сильно скошенное вправо распределение, имеющее выбросы "
   ]
  },
  {
   "cell_type": "code",
   "execution_count": 62,
   "metadata": {},
   "outputs": [
    {
     "data": {
      "text/plain": [
       "<seaborn.axisgrid.FacetGrid at 0x7f285cc03668>"
      ]
     },
     "execution_count": 62,
     "metadata": {},
     "output_type": "execute_result"
    },
    {
     "data": {
      "image/png": "[encoded data removed]",
      "text/plain": [
       "<Figure size 360x360 with 1 Axes>"
      ]
     },
     "metadata": {
      "needs_background": "light"
     },
     "output_type": "display_data"
    }
   ],
   "source": [
    "# В данных присутствуют явные выбросы - километраж поездок, измеряемый сотнями и тысячами км, а также 0 км,\n",
    "# при том, что медианное значение - около 1.7 км\n",
    "distance_km_filtered = df.query('distance_km < 30')['distance_km']\n",
    "sns.displot(distance_km_filtered)"
   ]
  },
  {
   "cell_type": "code",
   "execution_count": 23,
   "metadata": {},
   "outputs": [
    {
     "data": {
      "text/plain": [
       "<matplotlib.axes._subplots.AxesSubplot at 0x7f2925037a90>"
      ]
     },
     "execution_count": 23,
     "metadata": {},
     "output_type": "execute_result"
    },
    {
     "data": {
      "image/png": "[encoded data removed]",
      "text/plain": [
       "<Figure size 432x288 with 1 Axes>"
      ]
     },
     "metadata": {
      "needs_background": "light"
     },
     "output_type": "display_data"
    }
   ],
   "source": [
    "# 3. Стоимость активации самоката\n",
    "sns.boxplot(x=df['activation_cost'])"
   ]
  },
  {
   "cell_type": "code",
   "execution_count": 32,
   "metadata": {},
   "outputs": [
    {
     "data": {
      "text/plain": [
       "<seaborn.axisgrid.FacetGrid at 0x7f29156f6d30>"
      ]
     },
     "execution_count": 32,
     "metadata": {},
     "output_type": "execute_result"
    },
    {
     "data": {
      "image/png": "[encoded data removed]",
      "text/plain": [
       "<Figure size 360x360 with 1 Axes>"
      ]
     },
     "metadata": {
      "needs_background": "light"
     },
     "output_type": "display_data"
    }
   ],
   "source": [
    "sns.displot(df['activation_cost'])"
   ]
  },
  {
   "cell_type": "code",
   "execution_count": null,
   "metadata": {},
   "outputs": [],
   "source": [
    "# Видно, что стоимость активации самоката стоит от 30 до 50 рублей, для большинства пользователей - 50 рублей.\n",
    "# В некоторых случаях 0 рублей - скорее всего, это пользователи, которые обладают специальной подпиской."
   ]
  },
  {
   "cell_type": "code",
   "execution_count": 24,
   "metadata": {},
   "outputs": [
    {
     "data": {
      "text/plain": [
       "<matplotlib.axes._subplots.AxesSubplot at 0x7f29246b7b38>"
      ]
     },
     "execution_count": 24,
     "metadata": {},
     "output_type": "execute_result"
    },
    {
     "data": {
      "image/png": "[encoded data removed]",
      "text/plain": [
       "<Figure size 432x288 with 1 Axes>"
      ]
     },
     "metadata": {
      "needs_background": "light"
     },
     "output_type": "display_data"
    }
   ],
   "source": [
    "# Стоимость минуты\n",
    "sns.boxplot(x=df['minute_cost'])"
   ]
  },
  {
   "cell_type": "code",
   "execution_count": 33,
   "metadata": {},
   "outputs": [
    {
     "data": {
      "text/plain": [
       "<seaborn.axisgrid.FacetGrid at 0x7f2913371c88>"
      ]
     },
     "execution_count": 33,
     "metadata": {},
     "output_type": "execute_result"
    },
    {
     "data": {
      "image/png": "[encoded data removed]",
      "text/plain": [
       "<Figure size 360x360 with 1 Axes>"
      ]
     },
     "metadata": {
      "needs_background": "light"
     },
     "output_type": "display_data"
    }
   ],
   "source": [
    "sns.displot(df['minute_cost'])"
   ]
  },
  {
   "cell_type": "code",
   "execution_count": null,
   "metadata": {},
   "outputs": [],
   "source": [
    "# Медианная стоимость минуты - 7.5 рублей\n",
    "# В данных есть явные выбросы - 20 рублей и ниже 2.5 рублей"
   ]
  },
  {
   "cell_type": "code",
   "execution_count": 26,
   "metadata": {},
   "outputs": [
    {
     "data": {
      "text/plain": [
       "<matplotlib.axes._subplots.AxesSubplot at 0x7f2917c0e0b8>"
      ]
     },
     "execution_count": 26,
     "metadata": {},
     "output_type": "execute_result"
    },
    {
     "data": {
      "image/png": "[encoded data removed]",
      "text/plain": [
       "<Figure size 432x288 with 1 Axes>"
      ]
     },
     "metadata": {
      "needs_background": "light"
     },
     "output_type": "display_data"
    }
   ],
   "source": [
    "# Размер суммы, которая замораживается на счете\n",
    "sns.boxplot(x=df['hold_amount'])"
   ]
  },
  {
   "cell_type": "code",
   "execution_count": 59,
   "metadata": {},
   "outputs": [
    {
     "data": {
      "text/plain": [
       "<seaborn.axisgrid.FacetGrid at 0x7f28601cd828>"
      ]
     },
     "execution_count": 59,
     "metadata": {},
     "output_type": "execute_result"
    },
    {
     "data": {
      "image/png": "[encoded data removed]",
      "text/plain": [
       "<Figure size 360x360 with 1 Axes>"
      ]
     },
     "metadata": {
      "needs_background": "light"
     },
     "output_type": "display_data"
    }
   ],
   "source": [
    "# Это фиксированное значение - 300 рублей, с выбросами по краям\n",
    "sns.displot(df['hold_amount'])"
   ]
  },
  {
   "cell_type": "code",
   "execution_count": 29,
   "metadata": {},
   "outputs": [
    {
     "data": {
      "text/plain": [
       "<matplotlib.axes._subplots.AxesSubplot at 0x7f2915855438>"
      ]
     },
     "execution_count": 29,
     "metadata": {},
     "output_type": "execute_result"
    },
    {
     "data": {
      "image/png": "[encoded data removed]",
      "text/plain": [
       "<Figure size 432x288 with 1 Axes>"
      ]
     },
     "metadata": {
      "needs_background": "light"
     },
     "output_type": "display_data"
    }
   ],
   "source": [
    "# Размер выплаченного кэшбека\n",
    "sns.boxplot(x=df['loyalty_accrual_rub_amt'])"
   ]
  },
  {
   "cell_type": "code",
   "execution_count": 60,
   "metadata": {},
   "outputs": [
    {
     "data": {
      "text/plain": [
       "<seaborn.axisgrid.FacetGrid at 0x7f285f7505f8>"
      ]
     },
     "execution_count": 60,
     "metadata": {},
     "output_type": "execute_result"
    },
    {
     "data": {
      "image/png": "[encoded data removed]",
      "text/plain": [
       "<Figure size 360x360 with 1 Axes>"
      ]
     },
     "metadata": {
      "needs_background": "light"
     },
     "output_type": "display_data"
    }
   ],
   "source": [
    "sns.displot(df['loyalty_accrual_rub_amt'])"
   ]
  },
  {
   "cell_type": "code",
   "execution_count": null,
   "metadata": {},
   "outputs": [],
   "source": [
    "# Форма распределения похожа на стоимость поездки, что вполне логично - чем больше стоимость поездки, тем больше кэшбек"
   ]
  },
  {
   "cell_type": "code",
   "execution_count": 93,
   "metadata": {},
   "outputs": [
    {
     "name": "stderr",
     "output_type": "stream",
     "text": [
      "/opt/tljh/user/lib/python3.7/site-packages/pandas/core/series.py:726: RuntimeWarning: invalid value encountered in log\n",
      "  result = getattr(ufunc, method)(*inputs, **kwargs)\n"
     ]
    }
   ],
   "source": [
    "# Логарифм кэшбека\n",
    "loyalty_accrual_rub_amt_log = np.log(df.loyalty_accrual_rub_amt)"
   ]
  },
  {
   "cell_type": "code",
   "execution_count": 94,
   "metadata": {},
   "outputs": [
    {
     "name": "stderr",
     "output_type": "stream",
     "text": [
      "/opt/tljh/user/lib/python3.7/site-packages/seaborn/_decorators.py:43: FutureWarning: Pass the following variables as keyword args: x, y. From version 0.12, the only valid positional argument will be `data`, and passing other arguments without an explicit keyword will result in an error or misinterpretation.\n",
      "  FutureWarning\n"
     ]
    },
    {
     "data": {
      "text/plain": [
       "<matplotlib.axes._subplots.AxesSubplot at 0x7f2929cf78d0>"
      ]
     },
     "execution_count": 94,
     "metadata": {},
     "output_type": "execute_result"
    },
    {
     "data": {
      "image/png": "[encoded data removed]",
      "text/plain": [
       "<Figure size 432x288 with 1 Axes>"
      ]
     },
     "metadata": {
      "needs_background": "light"
     },
     "output_type": "display_data"
    }
   ],
   "source": [
    "sns.scatterplot(nominal_price_filtered_log, loyalty_accrual_rub_amt_log)"
   ]
  },
  {
   "cell_type": "code",
   "execution_count": null,
   "metadata": {},
   "outputs": [],
   "source": [
    "# Действительно, наблюдается положительная корреляция между стоимостью поездки и кэшбеком"
   ]
  },
  {
   "cell_type": "code",
   "execution_count": 30,
   "metadata": {},
   "outputs": [
    {
     "data": {
      "text/plain": [
       "<matplotlib.axes._subplots.AxesSubplot at 0x7f2917b52be0>"
      ]
     },
     "execution_count": 30,
     "metadata": {},
     "output_type": "execute_result"
    },
    {
     "data": {
      "image/png": "[encoded data removed]",
      "text/plain": [
       "<Figure size 432x288 with 1 Axes>"
      ]
     },
     "metadata": {
      "needs_background": "light"
     },
     "output_type": "display_data"
    }
   ],
   "source": [
    "# Размер выплаченного кэшбека в бонусах\n",
    "sns.boxplot(x=df['loyalty_accrual_bns_amt'])"
   ]
  },
  {
   "cell_type": "code",
   "execution_count": 61,
   "metadata": {},
   "outputs": [
    {
     "data": {
      "text/plain": [
       "<seaborn.axisgrid.FacetGrid at 0x7f285f750748>"
      ]
     },
     "execution_count": 61,
     "metadata": {},
     "output_type": "execute_result"
    },
    {
     "data": {
      "image/png": "[encoded data removed]",
      "text/plain": [
       "<Figure size 360x360 with 1 Axes>"
      ]
     },
     "metadata": {
      "needs_background": "light"
     },
     "output_type": "display_data"
    }
   ],
   "source": [
    "sns.displot(df['loyalty_accrual_bns_amt'])"
   ]
  },
  {
   "cell_type": "code",
   "execution_count": 64,
   "metadata": {},
   "outputs": [
    {
     "data": {
      "text/plain": [
       "<seaborn.axisgrid.FacetGrid at 0x7f292d63c320>"
      ]
     },
     "execution_count": 64,
     "metadata": {},
     "output_type": "execute_result"
    },
    {
     "data": {
      "image/png": "[encoded data removed]",
      "text/plain": [
       "<Figure size 360x360 with 1 Axes>"
      ]
     },
     "metadata": {
      "needs_background": "light"
     },
     "output_type": "display_data"
    }
   ],
   "source": [
    "loyalty_accrual_bns_amt_filtered = df.query('loyalty_accrual_bns_amt < 10000')['loyalty_accrual_bns_amt']\n",
    "sns.displot(loyalty_accrual_bns_amt_filtered)"
   ]
  },
  {
   "cell_type": "code",
   "execution_count": null,
   "metadata": {},
   "outputs": [],
   "source": [
    "# Скошенное распределение с явными выбросами"
   ]
  },
  {
   "cell_type": "markdown",
   "metadata": {},
   "source": [
    "## 3. Метрики"
   ]
  },
  {
   "cell_type": "markdown",
   "metadata": {},
   "source": [
    "### Медианное время поездки"
   ]
  },
  {
   "cell_type": "code",
   "execution_count": 68,
   "metadata": {},
   "outputs": [],
   "source": [
    "# Рассчитаю время каждой поездки, чтобы определить среднее время поездки\n",
    "df['trip_duration'] = df.book_end_dttm - df.book_start_dttm"
   ]
  },
  {
   "cell_type": "code",
   "execution_count": 69,
   "metadata": {},
   "outputs": [
    {
     "data": {
      "text/html": [
       "<div>\n",
       "<style scoped>\n",
       "    .dataframe tbody tr th:only-of-type {\n",
       "        vertical-align: middle;\n",
       "    }\n",
       "\n",
       "    .dataframe tbody tr th {\n",
       "        vertical-align: top;\n",
       "    }\n",
       "\n",
       "    .dataframe thead th {\n",
       "        text-align: right;\n",
       "    }\n",
       "</style>\n",
       "<table border=\"1\" class=\"dataframe\">\n",
       "  <thead>\n",
       "    <tr style=\"text-align: right;\">\n",
       "      <th></th>\n",
       "      <th>order_rk</th>\n",
       "      <th>party_rk</th>\n",
       "      <th>gender_cd</th>\n",
       "      <th>age</th>\n",
       "      <th>education_level_cd</th>\n",
       "      <th>marital_status_cd</th>\n",
       "      <th>lvn_state_nm</th>\n",
       "      <th>minute_cost</th>\n",
       "      <th>activation_cost</th>\n",
       "      <th>hold_amount</th>\n",
       "      <th>...</th>\n",
       "      <th>distance_km</th>\n",
       "      <th>created_dttm</th>\n",
       "      <th>book_start_dttm</th>\n",
       "      <th>book_end_dttm</th>\n",
       "      <th>book_time_zone_cd</th>\n",
       "      <th>local_book_start_dttm</th>\n",
       "      <th>nominal_price_rub_amt</th>\n",
       "      <th>loyalty_accrual_rub_amt</th>\n",
       "      <th>loyalty_accrual_bns_amt</th>\n",
       "      <th>trip_duration</th>\n",
       "    </tr>\n",
       "  </thead>\n",
       "  <tbody>\n",
       "    <tr>\n",
       "      <th>0</th>\n",
       "      <td>266071307</td>\n",
       "      <td>761067705</td>\n",
       "      <td>M</td>\n",
       "      <td>40</td>\n",
       "      <td>UGR</td>\n",
       "      <td>DIV</td>\n",
       "      <td>ТЮМЕНСКАЯ ОБЛ</td>\n",
       "      <td>4.99</td>\n",
       "      <td>30.0</td>\n",
       "      <td>300.0</td>\n",
       "      <td>...</td>\n",
       "      <td>3.690479</td>\n",
       "      <td>2024-08-07 09:47:25</td>\n",
       "      <td>2024-08-07 09:47:29.325252</td>\n",
       "      <td>2024-08-07 10:07:59.339524</td>\n",
       "      <td>5</td>\n",
       "      <td>2024-08-07 11:47:29.325252</td>\n",
       "      <td>134.79</td>\n",
       "      <td>19.48</td>\n",
       "      <td>NaN</td>\n",
       "      <td>0 days 00:20:30.014272</td>\n",
       "    </tr>\n",
       "    <tr>\n",
       "      <th>1</th>\n",
       "      <td>355113920</td>\n",
       "      <td>614049469</td>\n",
       "      <td>F</td>\n",
       "      <td>30</td>\n",
       "      <td>GRD</td>\n",
       "      <td>MAR</td>\n",
       "      <td>РОСТОВСКАЯ ОБЛ</td>\n",
       "      <td>8.49</td>\n",
       "      <td>50.0</td>\n",
       "      <td>300.0</td>\n",
       "      <td>...</td>\n",
       "      <td>1.114912</td>\n",
       "      <td>2024-10-17 14:57:20</td>\n",
       "      <td>2024-10-17 14:57:24.586000</td>\n",
       "      <td>2024-10-17 15:04:19.419607</td>\n",
       "      <td>3</td>\n",
       "      <td>2024-10-17 14:57:24.586000</td>\n",
       "      <td>109.43</td>\n",
       "      <td>40.30</td>\n",
       "      <td>NaN</td>\n",
       "      <td>0 days 00:06:54.833607</td>\n",
       "    </tr>\n",
       "    <tr>\n",
       "      <th>2</th>\n",
       "      <td>347424551</td>\n",
       "      <td>757583701</td>\n",
       "      <td>M</td>\n",
       "      <td>28</td>\n",
       "      <td>UGR</td>\n",
       "      <td>UNM</td>\n",
       "      <td>СВЕРДЛОВСКАЯ ОБЛ</td>\n",
       "      <td>5.99</td>\n",
       "      <td>30.0</td>\n",
       "      <td>300.0</td>\n",
       "      <td>...</td>\n",
       "      <td>1.515612</td>\n",
       "      <td>2024-09-19 05:31:41</td>\n",
       "      <td>2024-09-19 05:34:59.476000</td>\n",
       "      <td>2024-09-19 05:41:50.164372</td>\n",
       "      <td>5</td>\n",
       "      <td>2024-09-19 07:34:59.476000</td>\n",
       "      <td>71.93</td>\n",
       "      <td>10.79</td>\n",
       "      <td>NaN</td>\n",
       "      <td>0 days 00:06:50.688372</td>\n",
       "    </tr>\n",
       "    <tr>\n",
       "      <th>3</th>\n",
       "      <td>351562959</td>\n",
       "      <td>541367366</td>\n",
       "      <td>M</td>\n",
       "      <td>24</td>\n",
       "      <td>GRD</td>\n",
       "      <td>UNM</td>\n",
       "      <td>Г МОСКВА</td>\n",
       "      <td>8.99</td>\n",
       "      <td>50.0</td>\n",
       "      <td>300.0</td>\n",
       "      <td>...</td>\n",
       "      <td>0.499411</td>\n",
       "      <td>2024-10-04 16:05:09</td>\n",
       "      <td>2024-10-04 16:05:13.162000</td>\n",
       "      <td>2024-10-04 16:07:31.724918</td>\n",
       "      <td>3</td>\n",
       "      <td>2024-10-04 16:05:13.162000</td>\n",
       "      <td>76.97</td>\n",
       "      <td>7.70</td>\n",
       "      <td>NaN</td>\n",
       "      <td>0 days 00:02:18.562918</td>\n",
       "    </tr>\n",
       "    <tr>\n",
       "      <th>4</th>\n",
       "      <td>258647149</td>\n",
       "      <td>238473615</td>\n",
       "      <td>M</td>\n",
       "      <td>34</td>\n",
       "      <td>NaN</td>\n",
       "      <td>NaN</td>\n",
       "      <td>Г МОСКВА</td>\n",
       "      <td>6.99</td>\n",
       "      <td>50.0</td>\n",
       "      <td>300.0</td>\n",
       "      <td>...</td>\n",
       "      <td>2.602028</td>\n",
       "      <td>2024-07-10 06:57:40</td>\n",
       "      <td>2024-07-10 06:57:43.017125</td>\n",
       "      <td>2024-07-10 07:07:48.446462</td>\n",
       "      <td>3</td>\n",
       "      <td>2024-07-10 06:57:43.017125</td>\n",
       "      <td>126.89</td>\n",
       "      <td>25.38</td>\n",
       "      <td>NaN</td>\n",
       "      <td>0 days 00:10:05.429337</td>\n",
       "    </tr>\n",
       "    <tr>\n",
       "      <th>5</th>\n",
       "      <td>277397094</td>\n",
       "      <td>5247768</td>\n",
       "      <td>M</td>\n",
       "      <td>42</td>\n",
       "      <td>NaN</td>\n",
       "      <td>NaN</td>\n",
       "      <td>МОСКВА</td>\n",
       "      <td>7.49</td>\n",
       "      <td>50.0</td>\n",
       "      <td>300.0</td>\n",
       "      <td>...</td>\n",
       "      <td>0.016090</td>\n",
       "      <td>2024-09-10 09:40:18</td>\n",
       "      <td>2024-09-10 09:40:24.036000</td>\n",
       "      <td>2024-09-10 09:41:03.644495</td>\n",
       "      <td>3</td>\n",
       "      <td>2024-09-10 09:40:24.036000</td>\n",
       "      <td>0.00</td>\n",
       "      <td>NaN</td>\n",
       "      <td>NaN</td>\n",
       "      <td>0 days 00:00:39.608495</td>\n",
       "    </tr>\n",
       "    <tr>\n",
       "      <th>6</th>\n",
       "      <td>273528957</td>\n",
       "      <td>801272780</td>\n",
       "      <td>F</td>\n",
       "      <td>19</td>\n",
       "      <td>NaN</td>\n",
       "      <td>NaN</td>\n",
       "      <td>РЕСП ТАТАРСТАН</td>\n",
       "      <td>7.49</td>\n",
       "      <td>30.0</td>\n",
       "      <td>300.0</td>\n",
       "      <td>...</td>\n",
       "      <td>4.086853</td>\n",
       "      <td>2024-09-03 14:10:29</td>\n",
       "      <td>2024-09-03 14:10:34.524349</td>\n",
       "      <td>2024-09-03 14:21:25.119585</td>\n",
       "      <td>3</td>\n",
       "      <td>2024-09-03 14:10:34.524349</td>\n",
       "      <td>112.39</td>\n",
       "      <td>28.00</td>\n",
       "      <td>NaN</td>\n",
       "      <td>0 days 00:10:50.595236</td>\n",
       "    </tr>\n",
       "    <tr>\n",
       "      <th>7</th>\n",
       "      <td>265062394</td>\n",
       "      <td>866880584</td>\n",
       "      <td>M</td>\n",
       "      <td>38</td>\n",
       "      <td>NaN</td>\n",
       "      <td>NaN</td>\n",
       "      <td>СВЕРДЛОВСКАЯ ОБЛ</td>\n",
       "      <td>5.99</td>\n",
       "      <td>30.0</td>\n",
       "      <td>300.0</td>\n",
       "      <td>...</td>\n",
       "      <td>2.370597</td>\n",
       "      <td>2024-08-03 03:09:35</td>\n",
       "      <td>2024-08-03 03:09:38.493851</td>\n",
       "      <td>2024-08-03 03:18:47.841493</td>\n",
       "      <td>5</td>\n",
       "      <td>2024-08-03 05:09:38.493851</td>\n",
       "      <td>89.90</td>\n",
       "      <td>12.99</td>\n",
       "      <td>NaN</td>\n",
       "      <td>0 days 00:09:09.347642</td>\n",
       "    </tr>\n",
       "    <tr>\n",
       "      <th>8</th>\n",
       "      <td>351562880</td>\n",
       "      <td>762053500</td>\n",
       "      <td>M</td>\n",
       "      <td>19</td>\n",
       "      <td>NaN</td>\n",
       "      <td>NaN</td>\n",
       "      <td>НОВОСИБИРСКАЯ ОБЛ</td>\n",
       "      <td>5.99</td>\n",
       "      <td>30.0</td>\n",
       "      <td>300.0</td>\n",
       "      <td>...</td>\n",
       "      <td>0.101272</td>\n",
       "      <td>2024-10-04 10:45:16</td>\n",
       "      <td>2024-10-04 10:45:20.457000</td>\n",
       "      <td>2024-10-04 10:47:39.863967</td>\n",
       "      <td>7</td>\n",
       "      <td>2024-10-04 14:45:20.457000</td>\n",
       "      <td>47.97</td>\n",
       "      <td>4.80</td>\n",
       "      <td>NaN</td>\n",
       "      <td>0 days 00:02:19.406967</td>\n",
       "    </tr>\n",
       "    <tr>\n",
       "      <th>9</th>\n",
       "      <td>269365210</td>\n",
       "      <td>161703813</td>\n",
       "      <td>M</td>\n",
       "      <td>31</td>\n",
       "      <td>UGR</td>\n",
       "      <td>MAR</td>\n",
       "      <td>ЧЕЛЯБИНСКАЯ ОБЛ</td>\n",
       "      <td>6.49</td>\n",
       "      <td>30.0</td>\n",
       "      <td>300.0</td>\n",
       "      <td>...</td>\n",
       "      <td>1.487792</td>\n",
       "      <td>2024-08-19 14:35:17</td>\n",
       "      <td>2024-08-19 14:35:20.199325</td>\n",
       "      <td>2024-08-19 14:42:53.835731</td>\n",
       "      <td>5</td>\n",
       "      <td>2024-08-19 16:35:20.199325</td>\n",
       "      <td>81.92</td>\n",
       "      <td>81.92</td>\n",
       "      <td>NaN</td>\n",
       "      <td>0 days 00:07:33.636406</td>\n",
       "    </tr>\n",
       "  </tbody>\n",
       "</table>\n",
       "<p>10 rows × 21 columns</p>\n",
       "</div>"
      ],
      "text/plain": [
       "    order_rk   party_rk gender_cd  age education_level_cd marital_status_cd  \\\n",
       "0  266071307  761067705         M   40                UGR               DIV   \n",
       "1  355113920  614049469         F   30                GRD               MAR   \n",
       "2  347424551  757583701         M   28                UGR               UNM   \n",
       "3  351562959  541367366         M   24                GRD               UNM   \n",
       "4  258647149  238473615         M   34                NaN               NaN   \n",
       "5  277397094    5247768         M   42                NaN               NaN   \n",
       "6  273528957  801272780         F   19                NaN               NaN   \n",
       "7  265062394  866880584         M   38                NaN               NaN   \n",
       "8  351562880  762053500         M   19                NaN               NaN   \n",
       "9  269365210  161703813         M   31                UGR               MAR   \n",
       "\n",
       "        lvn_state_nm  minute_cost  activation_cost  hold_amount  ...  \\\n",
       "0      ТЮМЕНСКАЯ ОБЛ         4.99             30.0        300.0  ...   \n",
       "1     РОСТОВСКАЯ ОБЛ         8.49             50.0        300.0  ...   \n",
       "2   СВЕРДЛОВСКАЯ ОБЛ         5.99             30.0        300.0  ...   \n",
       "3           Г МОСКВА         8.99             50.0        300.0  ...   \n",
       "4           Г МОСКВА         6.99             50.0        300.0  ...   \n",
       "5             МОСКВА         7.49             50.0        300.0  ...   \n",
       "6     РЕСП ТАТАРСТАН         7.49             30.0        300.0  ...   \n",
       "7   СВЕРДЛОВСКАЯ ОБЛ         5.99             30.0        300.0  ...   \n",
       "8  НОВОСИБИРСКАЯ ОБЛ         5.99             30.0        300.0  ...   \n",
       "9    ЧЕЛЯБИНСКАЯ ОБЛ         6.49             30.0        300.0  ...   \n",
       "\n",
       "  distance_km        created_dttm            book_start_dttm  \\\n",
       "0    3.690479 2024-08-07 09:47:25 2024-08-07 09:47:29.325252   \n",
       "1    1.114912 2024-10-17 14:57:20 2024-10-17 14:57:24.586000   \n",
       "2    1.515612 2024-09-19 05:31:41 2024-09-19 05:34:59.476000   \n",
       "3    0.499411 2024-10-04 16:05:09 2024-10-04 16:05:13.162000   \n",
       "4    2.602028 2024-07-10 06:57:40 2024-07-10 06:57:43.017125   \n",
       "5    0.016090 2024-09-10 09:40:18 2024-09-10 09:40:24.036000   \n",
       "6    4.086853 2024-09-03 14:10:29 2024-09-03 14:10:34.524349   \n",
       "7    2.370597 2024-08-03 03:09:35 2024-08-03 03:09:38.493851   \n",
       "8    0.101272 2024-10-04 10:45:16 2024-10-04 10:45:20.457000   \n",
       "9    1.487792 2024-08-19 14:35:17 2024-08-19 14:35:20.199325   \n",
       "\n",
       "               book_end_dttm book_time_zone_cd      local_book_start_dttm  \\\n",
       "0 2024-08-07 10:07:59.339524                 5 2024-08-07 11:47:29.325252   \n",
       "1 2024-10-17 15:04:19.419607                 3 2024-10-17 14:57:24.586000   \n",
       "2 2024-09-19 05:41:50.164372                 5 2024-09-19 07:34:59.476000   \n",
       "3 2024-10-04 16:07:31.724918                 3 2024-10-04 16:05:13.162000   \n",
       "4 2024-07-10 07:07:48.446462                 3 2024-07-10 06:57:43.017125   \n",
       "5 2024-09-10 09:41:03.644495                 3 2024-09-10 09:40:24.036000   \n",
       "6 2024-09-03 14:21:25.119585                 3 2024-09-03 14:10:34.524349   \n",
       "7 2024-08-03 03:18:47.841493                 5 2024-08-03 05:09:38.493851   \n",
       "8 2024-10-04 10:47:39.863967                 7 2024-10-04 14:45:20.457000   \n",
       "9 2024-08-19 14:42:53.835731                 5 2024-08-19 16:35:20.199325   \n",
       "\n",
       "  nominal_price_rub_amt  loyalty_accrual_rub_amt  loyalty_accrual_bns_amt  \\\n",
       "0                134.79                    19.48                      NaN   \n",
       "1                109.43                    40.30                      NaN   \n",
       "2                 71.93                    10.79                      NaN   \n",
       "3                 76.97                     7.70                      NaN   \n",
       "4                126.89                    25.38                      NaN   \n",
       "5                  0.00                      NaN                      NaN   \n",
       "6                112.39                    28.00                      NaN   \n",
       "7                 89.90                    12.99                      NaN   \n",
       "8                 47.97                     4.80                      NaN   \n",
       "9                 81.92                    81.92                      NaN   \n",
       "\n",
       "           trip_duration  \n",
       "0 0 days 00:20:30.014272  \n",
       "1 0 days 00:06:54.833607  \n",
       "2 0 days 00:06:50.688372  \n",
       "3 0 days 00:02:18.562918  \n",
       "4 0 days 00:10:05.429337  \n",
       "5 0 days 00:00:39.608495  \n",
       "6 0 days 00:10:50.595236  \n",
       "7 0 days 00:09:09.347642  \n",
       "8 0 days 00:02:19.406967  \n",
       "9 0 days 00:07:33.636406  \n",
       "\n",
       "[10 rows x 21 columns]"
      ]
     },
     "execution_count": 69,
     "metadata": {},
     "output_type": "execute_result"
    }
   ],
   "source": [
    "df.head(10)"
   ]
  },
  {
   "cell_type": "code",
   "execution_count": 71,
   "metadata": {},
   "outputs": [
    {
     "data": {
      "text/plain": [
       "count                       396749\n",
       "mean     0 days 00:11:26.459336646\n",
       "std      0 days 00:13:10.490068392\n",
       "min         0 days 00:00:02.004000\n",
       "25%         0 days 00:04:45.783419\n",
       "50%         0 days 00:07:46.119018\n",
       "75%         0 days 00:13:22.262417\n",
       "max         0 days 11:55:10.332373\n",
       "Name: trip_duration, dtype: object"
      ]
     },
     "execution_count": 71,
     "metadata": {},
     "output_type": "execute_result"
    }
   ],
   "source": [
    "df['trip_duration'].describe()"
   ]
  },
  {
   "cell_type": "code",
   "execution_count": 72,
   "metadata": {},
   "outputs": [],
   "source": [
    "# Медианное время поездки составляет около 8 минут (7 мин 46 с)\n",
    "# Максимальное значение указывает на явный выброс. Предположительно, пользователь не смог/ забыл завершить поездку"
   ]
  },
  {
   "cell_type": "markdown",
   "metadata": {},
   "source": [
    "### Число поездок"
   ]
  },
  {
   "cell_type": "code",
   "execution_count": 80,
   "metadata": {},
   "outputs": [],
   "source": [
    "# Посмотрю на день недели поездки, чтобы проанализировать, в какие дни больше спрос на самокаты\n",
    "df['weekday'] = df.book_start_dttm.dt.weekday"
   ]
  },
  {
   "cell_type": "code",
   "execution_count": 81,
   "metadata": {},
   "outputs": [
    {
     "data": {
      "text/html": [
       "<div>\n",
       "<style scoped>\n",
       "    .dataframe tbody tr th:only-of-type {\n",
       "        vertical-align: middle;\n",
       "    }\n",
       "\n",
       "    .dataframe tbody tr th {\n",
       "        vertical-align: top;\n",
       "    }\n",
       "\n",
       "    .dataframe thead th {\n",
       "        text-align: right;\n",
       "    }\n",
       "</style>\n",
       "<table border=\"1\" class=\"dataframe\">\n",
       "  <thead>\n",
       "    <tr style=\"text-align: right;\">\n",
       "      <th></th>\n",
       "      <th>order_rk</th>\n",
       "      <th>party_rk</th>\n",
       "      <th>gender_cd</th>\n",
       "      <th>age</th>\n",
       "      <th>education_level_cd</th>\n",
       "      <th>marital_status_cd</th>\n",
       "      <th>lvn_state_nm</th>\n",
       "      <th>minute_cost</th>\n",
       "      <th>activation_cost</th>\n",
       "      <th>hold_amount</th>\n",
       "      <th>...</th>\n",
       "      <th>book_start_dttm</th>\n",
       "      <th>book_end_dttm</th>\n",
       "      <th>book_time_zone_cd</th>\n",
       "      <th>local_book_start_dttm</th>\n",
       "      <th>nominal_price_rub_amt</th>\n",
       "      <th>loyalty_accrual_rub_amt</th>\n",
       "      <th>loyalty_accrual_bns_amt</th>\n",
       "      <th>trip_duration</th>\n",
       "      <th>dow</th>\n",
       "      <th>weekday</th>\n",
       "    </tr>\n",
       "  </thead>\n",
       "  <tbody>\n",
       "    <tr>\n",
       "      <th>0</th>\n",
       "      <td>266071307</td>\n",
       "      <td>761067705</td>\n",
       "      <td>M</td>\n",
       "      <td>40</td>\n",
       "      <td>UGR</td>\n",
       "      <td>DIV</td>\n",
       "      <td>ТЮМЕНСКАЯ ОБЛ</td>\n",
       "      <td>4.99</td>\n",
       "      <td>30.0</td>\n",
       "      <td>300.0</td>\n",
       "      <td>...</td>\n",
       "      <td>2024-08-07 09:47:29.325252</td>\n",
       "      <td>2024-08-07 10:07:59.339524</td>\n",
       "      <td>5</td>\n",
       "      <td>2024-08-07 11:47:29.325252</td>\n",
       "      <td>134.79</td>\n",
       "      <td>19.48</td>\n",
       "      <td>NaN</td>\n",
       "      <td>0 days 00:20:30.014272</td>\n",
       "      <td>2</td>\n",
       "      <td>2</td>\n",
       "    </tr>\n",
       "    <tr>\n",
       "      <th>1</th>\n",
       "      <td>355113920</td>\n",
       "      <td>614049469</td>\n",
       "      <td>F</td>\n",
       "      <td>30</td>\n",
       "      <td>GRD</td>\n",
       "      <td>MAR</td>\n",
       "      <td>РОСТОВСКАЯ ОБЛ</td>\n",
       "      <td>8.49</td>\n",
       "      <td>50.0</td>\n",
       "      <td>300.0</td>\n",
       "      <td>...</td>\n",
       "      <td>2024-10-17 14:57:24.586000</td>\n",
       "      <td>2024-10-17 15:04:19.419607</td>\n",
       "      <td>3</td>\n",
       "      <td>2024-10-17 14:57:24.586000</td>\n",
       "      <td>109.43</td>\n",
       "      <td>40.30</td>\n",
       "      <td>NaN</td>\n",
       "      <td>0 days 00:06:54.833607</td>\n",
       "      <td>3</td>\n",
       "      <td>3</td>\n",
       "    </tr>\n",
       "    <tr>\n",
       "      <th>2</th>\n",
       "      <td>347424551</td>\n",
       "      <td>757583701</td>\n",
       "      <td>M</td>\n",
       "      <td>28</td>\n",
       "      <td>UGR</td>\n",
       "      <td>UNM</td>\n",
       "      <td>СВЕРДЛОВСКАЯ ОБЛ</td>\n",
       "      <td>5.99</td>\n",
       "      <td>30.0</td>\n",
       "      <td>300.0</td>\n",
       "      <td>...</td>\n",
       "      <td>2024-09-19 05:34:59.476000</td>\n",
       "      <td>2024-09-19 05:41:50.164372</td>\n",
       "      <td>5</td>\n",
       "      <td>2024-09-19 07:34:59.476000</td>\n",
       "      <td>71.93</td>\n",
       "      <td>10.79</td>\n",
       "      <td>NaN</td>\n",
       "      <td>0 days 00:06:50.688372</td>\n",
       "      <td>3</td>\n",
       "      <td>3</td>\n",
       "    </tr>\n",
       "    <tr>\n",
       "      <th>3</th>\n",
       "      <td>351562959</td>\n",
       "      <td>541367366</td>\n",
       "      <td>M</td>\n",
       "      <td>24</td>\n",
       "      <td>GRD</td>\n",
       "      <td>UNM</td>\n",
       "      <td>Г МОСКВА</td>\n",
       "      <td>8.99</td>\n",
       "      <td>50.0</td>\n",
       "      <td>300.0</td>\n",
       "      <td>...</td>\n",
       "      <td>2024-10-04 16:05:13.162000</td>\n",
       "      <td>2024-10-04 16:07:31.724918</td>\n",
       "      <td>3</td>\n",
       "      <td>2024-10-04 16:05:13.162000</td>\n",
       "      <td>76.97</td>\n",
       "      <td>7.70</td>\n",
       "      <td>NaN</td>\n",
       "      <td>0 days 00:02:18.562918</td>\n",
       "      <td>4</td>\n",
       "      <td>4</td>\n",
       "    </tr>\n",
       "    <tr>\n",
       "      <th>4</th>\n",
       "      <td>258647149</td>\n",
       "      <td>238473615</td>\n",
       "      <td>M</td>\n",
       "      <td>34</td>\n",
       "      <td>NaN</td>\n",
       "      <td>NaN</td>\n",
       "      <td>Г МОСКВА</td>\n",
       "      <td>6.99</td>\n",
       "      <td>50.0</td>\n",
       "      <td>300.0</td>\n",
       "      <td>...</td>\n",
       "      <td>2024-07-10 06:57:43.017125</td>\n",
       "      <td>2024-07-10 07:07:48.446462</td>\n",
       "      <td>3</td>\n",
       "      <td>2024-07-10 06:57:43.017125</td>\n",
       "      <td>126.89</td>\n",
       "      <td>25.38</td>\n",
       "      <td>NaN</td>\n",
       "      <td>0 days 00:10:05.429337</td>\n",
       "      <td>2</td>\n",
       "      <td>2</td>\n",
       "    </tr>\n",
       "    <tr>\n",
       "      <th>5</th>\n",
       "      <td>277397094</td>\n",
       "      <td>5247768</td>\n",
       "      <td>M</td>\n",
       "      <td>42</td>\n",
       "      <td>NaN</td>\n",
       "      <td>NaN</td>\n",
       "      <td>МОСКВА</td>\n",
       "      <td>7.49</td>\n",
       "      <td>50.0</td>\n",
       "      <td>300.0</td>\n",
       "      <td>...</td>\n",
       "      <td>2024-09-10 09:40:24.036000</td>\n",
       "      <td>2024-09-10 09:41:03.644495</td>\n",
       "      <td>3</td>\n",
       "      <td>2024-09-10 09:40:24.036000</td>\n",
       "      <td>0.00</td>\n",
       "      <td>NaN</td>\n",
       "      <td>NaN</td>\n",
       "      <td>0 days 00:00:39.608495</td>\n",
       "      <td>1</td>\n",
       "      <td>1</td>\n",
       "    </tr>\n",
       "    <tr>\n",
       "      <th>6</th>\n",
       "      <td>273528957</td>\n",
       "      <td>801272780</td>\n",
       "      <td>F</td>\n",
       "      <td>19</td>\n",
       "      <td>NaN</td>\n",
       "      <td>NaN</td>\n",
       "      <td>РЕСП ТАТАРСТАН</td>\n",
       "      <td>7.49</td>\n",
       "      <td>30.0</td>\n",
       "      <td>300.0</td>\n",
       "      <td>...</td>\n",
       "      <td>2024-09-03 14:10:34.524349</td>\n",
       "      <td>2024-09-03 14:21:25.119585</td>\n",
       "      <td>3</td>\n",
       "      <td>2024-09-03 14:10:34.524349</td>\n",
       "      <td>112.39</td>\n",
       "      <td>28.00</td>\n",
       "      <td>NaN</td>\n",
       "      <td>0 days 00:10:50.595236</td>\n",
       "      <td>1</td>\n",
       "      <td>1</td>\n",
       "    </tr>\n",
       "    <tr>\n",
       "      <th>7</th>\n",
       "      <td>265062394</td>\n",
       "      <td>866880584</td>\n",
       "      <td>M</td>\n",
       "      <td>38</td>\n",
       "      <td>NaN</td>\n",
       "      <td>NaN</td>\n",
       "      <td>СВЕРДЛОВСКАЯ ОБЛ</td>\n",
       "      <td>5.99</td>\n",
       "      <td>30.0</td>\n",
       "      <td>300.0</td>\n",
       "      <td>...</td>\n",
       "      <td>2024-08-03 03:09:38.493851</td>\n",
       "      <td>2024-08-03 03:18:47.841493</td>\n",
       "      <td>5</td>\n",
       "      <td>2024-08-03 05:09:38.493851</td>\n",
       "      <td>89.90</td>\n",
       "      <td>12.99</td>\n",
       "      <td>NaN</td>\n",
       "      <td>0 days 00:09:09.347642</td>\n",
       "      <td>5</td>\n",
       "      <td>5</td>\n",
       "    </tr>\n",
       "    <tr>\n",
       "      <th>8</th>\n",
       "      <td>351562880</td>\n",
       "      <td>762053500</td>\n",
       "      <td>M</td>\n",
       "      <td>19</td>\n",
       "      <td>NaN</td>\n",
       "      <td>NaN</td>\n",
       "      <td>НОВОСИБИРСКАЯ ОБЛ</td>\n",
       "      <td>5.99</td>\n",
       "      <td>30.0</td>\n",
       "      <td>300.0</td>\n",
       "      <td>...</td>\n",
       "      <td>2024-10-04 10:45:20.457000</td>\n",
       "      <td>2024-10-04 10:47:39.863967</td>\n",
       "      <td>7</td>\n",
       "      <td>2024-10-04 14:45:20.457000</td>\n",
       "      <td>47.97</td>\n",
       "      <td>4.80</td>\n",
       "      <td>NaN</td>\n",
       "      <td>0 days 00:02:19.406967</td>\n",
       "      <td>4</td>\n",
       "      <td>4</td>\n",
       "    </tr>\n",
       "    <tr>\n",
       "      <th>9</th>\n",
       "      <td>269365210</td>\n",
       "      <td>161703813</td>\n",
       "      <td>M</td>\n",
       "      <td>31</td>\n",
       "      <td>UGR</td>\n",
       "      <td>MAR</td>\n",
       "      <td>ЧЕЛЯБИНСКАЯ ОБЛ</td>\n",
       "      <td>6.49</td>\n",
       "      <td>30.0</td>\n",
       "      <td>300.0</td>\n",
       "      <td>...</td>\n",
       "      <td>2024-08-19 14:35:20.199325</td>\n",
       "      <td>2024-08-19 14:42:53.835731</td>\n",
       "      <td>5</td>\n",
       "      <td>2024-08-19 16:35:20.199325</td>\n",
       "      <td>81.92</td>\n",
       "      <td>81.92</td>\n",
       "      <td>NaN</td>\n",
       "      <td>0 days 00:07:33.636406</td>\n",
       "      <td>0</td>\n",
       "      <td>0</td>\n",
       "    </tr>\n",
       "  </tbody>\n",
       "</table>\n",
       "<p>10 rows × 23 columns</p>\n",
       "</div>"
      ],
      "text/plain": [
       "    order_rk   party_rk gender_cd  age education_level_cd marital_status_cd  \\\n",
       "0  266071307  761067705         M   40                UGR               DIV   \n",
       "1  355113920  614049469         F   30                GRD               MAR   \n",
       "2  347424551  757583701         M   28                UGR               UNM   \n",
       "3  351562959  541367366         M   24                GRD               UNM   \n",
       "4  258647149  238473615         M   34                NaN               NaN   \n",
       "5  277397094    5247768         M   42                NaN               NaN   \n",
       "6  273528957  801272780         F   19                NaN               NaN   \n",
       "7  265062394  866880584         M   38                NaN               NaN   \n",
       "8  351562880  762053500         M   19                NaN               NaN   \n",
       "9  269365210  161703813         M   31                UGR               MAR   \n",
       "\n",
       "        lvn_state_nm  minute_cost  activation_cost  hold_amount  ...  \\\n",
       "0      ТЮМЕНСКАЯ ОБЛ         4.99             30.0        300.0  ...   \n",
       "1     РОСТОВСКАЯ ОБЛ         8.49             50.0        300.0  ...   \n",
       "2   СВЕРДЛОВСКАЯ ОБЛ         5.99             30.0        300.0  ...   \n",
       "3           Г МОСКВА         8.99             50.0        300.0  ...   \n",
       "4           Г МОСКВА         6.99             50.0        300.0  ...   \n",
       "5             МОСКВА         7.49             50.0        300.0  ...   \n",
       "6     РЕСП ТАТАРСТАН         7.49             30.0        300.0  ...   \n",
       "7   СВЕРДЛОВСКАЯ ОБЛ         5.99             30.0        300.0  ...   \n",
       "8  НОВОСИБИРСКАЯ ОБЛ         5.99             30.0        300.0  ...   \n",
       "9    ЧЕЛЯБИНСКАЯ ОБЛ         6.49             30.0        300.0  ...   \n",
       "\n",
       "             book_start_dttm              book_end_dttm book_time_zone_cd  \\\n",
       "0 2024-08-07 09:47:29.325252 2024-08-07 10:07:59.339524                 5   \n",
       "1 2024-10-17 14:57:24.586000 2024-10-17 15:04:19.419607                 3   \n",
       "2 2024-09-19 05:34:59.476000 2024-09-19 05:41:50.164372                 5   \n",
       "3 2024-10-04 16:05:13.162000 2024-10-04 16:07:31.724918                 3   \n",
       "4 2024-07-10 06:57:43.017125 2024-07-10 07:07:48.446462                 3   \n",
       "5 2024-09-10 09:40:24.036000 2024-09-10 09:41:03.644495                 3   \n",
       "6 2024-09-03 14:10:34.524349 2024-09-03 14:21:25.119585                 3   \n",
       "7 2024-08-03 03:09:38.493851 2024-08-03 03:18:47.841493                 5   \n",
       "8 2024-10-04 10:45:20.457000 2024-10-04 10:47:39.863967                 7   \n",
       "9 2024-08-19 14:35:20.199325 2024-08-19 14:42:53.835731                 5   \n",
       "\n",
       "       local_book_start_dttm nominal_price_rub_amt  loyalty_accrual_rub_amt  \\\n",
       "0 2024-08-07 11:47:29.325252                134.79                    19.48   \n",
       "1 2024-10-17 14:57:24.586000                109.43                    40.30   \n",
       "2 2024-09-19 07:34:59.476000                 71.93                    10.79   \n",
       "3 2024-10-04 16:05:13.162000                 76.97                     7.70   \n",
       "4 2024-07-10 06:57:43.017125                126.89                    25.38   \n",
       "5 2024-09-10 09:40:24.036000                  0.00                      NaN   \n",
       "6 2024-09-03 14:10:34.524349                112.39                    28.00   \n",
       "7 2024-08-03 05:09:38.493851                 89.90                    12.99   \n",
       "8 2024-10-04 14:45:20.457000                 47.97                     4.80   \n",
       "9 2024-08-19 16:35:20.199325                 81.92                    81.92   \n",
       "\n",
       "  loyalty_accrual_bns_amt          trip_duration  dow  weekday  \n",
       "0                     NaN 0 days 00:20:30.014272    2        2  \n",
       "1                     NaN 0 days 00:06:54.833607    3        3  \n",
       "2                     NaN 0 days 00:06:50.688372    3        3  \n",
       "3                     NaN 0 days 00:02:18.562918    4        4  \n",
       "4                     NaN 0 days 00:10:05.429337    2        2  \n",
       "5                     NaN 0 days 00:00:39.608495    1        1  \n",
       "6                     NaN 0 days 00:10:50.595236    1        1  \n",
       "7                     NaN 0 days 00:09:09.347642    5        5  \n",
       "8                     NaN 0 days 00:02:19.406967    4        4  \n",
       "9                     NaN 0 days 00:07:33.636406    0        0  \n",
       "\n",
       "[10 rows x 23 columns]"
      ]
     },
     "execution_count": 81,
     "metadata": {},
     "output_type": "execute_result"
    }
   ],
   "source": [
    "df.head(10)"
   ]
  },
  {
   "cell_type": "code",
   "execution_count": 82,
   "metadata": {},
   "outputs": [
    {
     "data": {
      "text/plain": [
       "<seaborn.axisgrid.FacetGrid at 0x7f2929f21940>"
      ]
     },
     "execution_count": 82,
     "metadata": {},
     "output_type": "execute_result"
    },
    {
     "data": {
      "image/png": "[encoded data removed]",
      "text/plain": [
       "<Figure size 360x360 with 1 Axes>"
      ]
     },
     "metadata": {
      "needs_background": "light"
     },
     "output_type": "display_data"
    }
   ],
   "source": [
    "sns.displot(df.weekday)"
   ]
  },
  {
   "cell_type": "code",
   "execution_count": null,
   "metadata": {},
   "outputs": [],
   "source": [
    "# Больше всего поездок совершается в пятницу (weekday 4), это число ненамного выше, чем в другие будние дни\n",
    "# В выходные число поездок падает (weekday 5, 6)"
   ]
  },
  {
   "cell_type": "code",
   "execution_count": 84,
   "metadata": {},
   "outputs": [],
   "source": [
    "# Посмотрю на число поездок по месяцам, чтобы проанализировать, в какие месяцы спрос на самокаты больше\n",
    "df['month'] = df.book_start_dttm.dt.month"
   ]
  },
  {
   "cell_type": "code",
   "execution_count": 85,
   "metadata": {},
   "outputs": [
    {
     "data": {
      "text/html": [
       "<div>\n",
       "<style scoped>\n",
       "    .dataframe tbody tr th:only-of-type {\n",
       "        vertical-align: middle;\n",
       "    }\n",
       "\n",
       "    .dataframe tbody tr th {\n",
       "        vertical-align: top;\n",
       "    }\n",
       "\n",
       "    .dataframe thead th {\n",
       "        text-align: right;\n",
       "    }\n",
       "</style>\n",
       "<table border=\"1\" class=\"dataframe\">\n",
       "  <thead>\n",
       "    <tr style=\"text-align: right;\">\n",
       "      <th></th>\n",
       "      <th>order_rk</th>\n",
       "      <th>party_rk</th>\n",
       "      <th>gender_cd</th>\n",
       "      <th>age</th>\n",
       "      <th>education_level_cd</th>\n",
       "      <th>marital_status_cd</th>\n",
       "      <th>lvn_state_nm</th>\n",
       "      <th>minute_cost</th>\n",
       "      <th>activation_cost</th>\n",
       "      <th>hold_amount</th>\n",
       "      <th>...</th>\n",
       "      <th>book_end_dttm</th>\n",
       "      <th>book_time_zone_cd</th>\n",
       "      <th>local_book_start_dttm</th>\n",
       "      <th>nominal_price_rub_amt</th>\n",
       "      <th>loyalty_accrual_rub_amt</th>\n",
       "      <th>loyalty_accrual_bns_amt</th>\n",
       "      <th>trip_duration</th>\n",
       "      <th>dow</th>\n",
       "      <th>weekday</th>\n",
       "      <th>month</th>\n",
       "    </tr>\n",
       "  </thead>\n",
       "  <tbody>\n",
       "    <tr>\n",
       "      <th>0</th>\n",
       "      <td>266071307</td>\n",
       "      <td>761067705</td>\n",
       "      <td>M</td>\n",
       "      <td>40</td>\n",
       "      <td>UGR</td>\n",
       "      <td>DIV</td>\n",
       "      <td>ТЮМЕНСКАЯ ОБЛ</td>\n",
       "      <td>4.99</td>\n",
       "      <td>30.0</td>\n",
       "      <td>300.0</td>\n",
       "      <td>...</td>\n",
       "      <td>2024-08-07 10:07:59.339524</td>\n",
       "      <td>5</td>\n",
       "      <td>2024-08-07 11:47:29.325252</td>\n",
       "      <td>134.79</td>\n",
       "      <td>19.48</td>\n",
       "      <td>NaN</td>\n",
       "      <td>0 days 00:20:30.014272</td>\n",
       "      <td>2</td>\n",
       "      <td>2</td>\n",
       "      <td>8</td>\n",
       "    </tr>\n",
       "    <tr>\n",
       "      <th>1</th>\n",
       "      <td>355113920</td>\n",
       "      <td>614049469</td>\n",
       "      <td>F</td>\n",
       "      <td>30</td>\n",
       "      <td>GRD</td>\n",
       "      <td>MAR</td>\n",
       "      <td>РОСТОВСКАЯ ОБЛ</td>\n",
       "      <td>8.49</td>\n",
       "      <td>50.0</td>\n",
       "      <td>300.0</td>\n",
       "      <td>...</td>\n",
       "      <td>2024-10-17 15:04:19.419607</td>\n",
       "      <td>3</td>\n",
       "      <td>2024-10-17 14:57:24.586000</td>\n",
       "      <td>109.43</td>\n",
       "      <td>40.30</td>\n",
       "      <td>NaN</td>\n",
       "      <td>0 days 00:06:54.833607</td>\n",
       "      <td>3</td>\n",
       "      <td>3</td>\n",
       "      <td>10</td>\n",
       "    </tr>\n",
       "    <tr>\n",
       "      <th>2</th>\n",
       "      <td>347424551</td>\n",
       "      <td>757583701</td>\n",
       "      <td>M</td>\n",
       "      <td>28</td>\n",
       "      <td>UGR</td>\n",
       "      <td>UNM</td>\n",
       "      <td>СВЕРДЛОВСКАЯ ОБЛ</td>\n",
       "      <td>5.99</td>\n",
       "      <td>30.0</td>\n",
       "      <td>300.0</td>\n",
       "      <td>...</td>\n",
       "      <td>2024-09-19 05:41:50.164372</td>\n",
       "      <td>5</td>\n",
       "      <td>2024-09-19 07:34:59.476000</td>\n",
       "      <td>71.93</td>\n",
       "      <td>10.79</td>\n",
       "      <td>NaN</td>\n",
       "      <td>0 days 00:06:50.688372</td>\n",
       "      <td>3</td>\n",
       "      <td>3</td>\n",
       "      <td>9</td>\n",
       "    </tr>\n",
       "    <tr>\n",
       "      <th>3</th>\n",
       "      <td>351562959</td>\n",
       "      <td>541367366</td>\n",
       "      <td>M</td>\n",
       "      <td>24</td>\n",
       "      <td>GRD</td>\n",
       "      <td>UNM</td>\n",
       "      <td>Г МОСКВА</td>\n",
       "      <td>8.99</td>\n",
       "      <td>50.0</td>\n",
       "      <td>300.0</td>\n",
       "      <td>...</td>\n",
       "      <td>2024-10-04 16:07:31.724918</td>\n",
       "      <td>3</td>\n",
       "      <td>2024-10-04 16:05:13.162000</td>\n",
       "      <td>76.97</td>\n",
       "      <td>7.70</td>\n",
       "      <td>NaN</td>\n",
       "      <td>0 days 00:02:18.562918</td>\n",
       "      <td>4</td>\n",
       "      <td>4</td>\n",
       "      <td>10</td>\n",
       "    </tr>\n",
       "    <tr>\n",
       "      <th>4</th>\n",
       "      <td>258647149</td>\n",
       "      <td>238473615</td>\n",
       "      <td>M</td>\n",
       "      <td>34</td>\n",
       "      <td>NaN</td>\n",
       "      <td>NaN</td>\n",
       "      <td>Г МОСКВА</td>\n",
       "      <td>6.99</td>\n",
       "      <td>50.0</td>\n",
       "      <td>300.0</td>\n",
       "      <td>...</td>\n",
       "      <td>2024-07-10 07:07:48.446462</td>\n",
       "      <td>3</td>\n",
       "      <td>2024-07-10 06:57:43.017125</td>\n",
       "      <td>126.89</td>\n",
       "      <td>25.38</td>\n",
       "      <td>NaN</td>\n",
       "      <td>0 days 00:10:05.429337</td>\n",
       "      <td>2</td>\n",
       "      <td>2</td>\n",
       "      <td>7</td>\n",
       "    </tr>\n",
       "    <tr>\n",
       "      <th>5</th>\n",
       "      <td>277397094</td>\n",
       "      <td>5247768</td>\n",
       "      <td>M</td>\n",
       "      <td>42</td>\n",
       "      <td>NaN</td>\n",
       "      <td>NaN</td>\n",
       "      <td>МОСКВА</td>\n",
       "      <td>7.49</td>\n",
       "      <td>50.0</td>\n",
       "      <td>300.0</td>\n",
       "      <td>...</td>\n",
       "      <td>2024-09-10 09:41:03.644495</td>\n",
       "      <td>3</td>\n",
       "      <td>2024-09-10 09:40:24.036000</td>\n",
       "      <td>0.00</td>\n",
       "      <td>NaN</td>\n",
       "      <td>NaN</td>\n",
       "      <td>0 days 00:00:39.608495</td>\n",
       "      <td>1</td>\n",
       "      <td>1</td>\n",
       "      <td>9</td>\n",
       "    </tr>\n",
       "    <tr>\n",
       "      <th>6</th>\n",
       "      <td>273528957</td>\n",
       "      <td>801272780</td>\n",
       "      <td>F</td>\n",
       "      <td>19</td>\n",
       "      <td>NaN</td>\n",
       "      <td>NaN</td>\n",
       "      <td>РЕСП ТАТАРСТАН</td>\n",
       "      <td>7.49</td>\n",
       "      <td>30.0</td>\n",
       "      <td>300.0</td>\n",
       "      <td>...</td>\n",
       "      <td>2024-09-03 14:21:25.119585</td>\n",
       "      <td>3</td>\n",
       "      <td>2024-09-03 14:10:34.524349</td>\n",
       "      <td>112.39</td>\n",
       "      <td>28.00</td>\n",
       "      <td>NaN</td>\n",
       "      <td>0 days 00:10:50.595236</td>\n",
       "      <td>1</td>\n",
       "      <td>1</td>\n",
       "      <td>9</td>\n",
       "    </tr>\n",
       "    <tr>\n",
       "      <th>7</th>\n",
       "      <td>265062394</td>\n",
       "      <td>866880584</td>\n",
       "      <td>M</td>\n",
       "      <td>38</td>\n",
       "      <td>NaN</td>\n",
       "      <td>NaN</td>\n",
       "      <td>СВЕРДЛОВСКАЯ ОБЛ</td>\n",
       "      <td>5.99</td>\n",
       "      <td>30.0</td>\n",
       "      <td>300.0</td>\n",
       "      <td>...</td>\n",
       "      <td>2024-08-03 03:18:47.841493</td>\n",
       "      <td>5</td>\n",
       "      <td>2024-08-03 05:09:38.493851</td>\n",
       "      <td>89.90</td>\n",
       "      <td>12.99</td>\n",
       "      <td>NaN</td>\n",
       "      <td>0 days 00:09:09.347642</td>\n",
       "      <td>5</td>\n",
       "      <td>5</td>\n",
       "      <td>8</td>\n",
       "    </tr>\n",
       "    <tr>\n",
       "      <th>8</th>\n",
       "      <td>351562880</td>\n",
       "      <td>762053500</td>\n",
       "      <td>M</td>\n",
       "      <td>19</td>\n",
       "      <td>NaN</td>\n",
       "      <td>NaN</td>\n",
       "      <td>НОВОСИБИРСКАЯ ОБЛ</td>\n",
       "      <td>5.99</td>\n",
       "      <td>30.0</td>\n",
       "      <td>300.0</td>\n",
       "      <td>...</td>\n",
       "      <td>2024-10-04 10:47:39.863967</td>\n",
       "      <td>7</td>\n",
       "      <td>2024-10-04 14:45:20.457000</td>\n",
       "      <td>47.97</td>\n",
       "      <td>4.80</td>\n",
       "      <td>NaN</td>\n",
       "      <td>0 days 00:02:19.406967</td>\n",
       "      <td>4</td>\n",
       "      <td>4</td>\n",
       "      <td>10</td>\n",
       "    </tr>\n",
       "    <tr>\n",
       "      <th>9</th>\n",
       "      <td>269365210</td>\n",
       "      <td>161703813</td>\n",
       "      <td>M</td>\n",
       "      <td>31</td>\n",
       "      <td>UGR</td>\n",
       "      <td>MAR</td>\n",
       "      <td>ЧЕЛЯБИНСКАЯ ОБЛ</td>\n",
       "      <td>6.49</td>\n",
       "      <td>30.0</td>\n",
       "      <td>300.0</td>\n",
       "      <td>...</td>\n",
       "      <td>2024-08-19 14:42:53.835731</td>\n",
       "      <td>5</td>\n",
       "      <td>2024-08-19 16:35:20.199325</td>\n",
       "      <td>81.92</td>\n",
       "      <td>81.92</td>\n",
       "      <td>NaN</td>\n",
       "      <td>0 days 00:07:33.636406</td>\n",
       "      <td>0</td>\n",
       "      <td>0</td>\n",
       "      <td>8</td>\n",
       "    </tr>\n",
       "  </tbody>\n",
       "</table>\n",
       "<p>10 rows × 24 columns</p>\n",
       "</div>"
      ],
      "text/plain": [
       "    order_rk   party_rk gender_cd  age education_level_cd marital_status_cd  \\\n",
       "0  266071307  761067705         M   40                UGR               DIV   \n",
       "1  355113920  614049469         F   30                GRD               MAR   \n",
       "2  347424551  757583701         M   28                UGR               UNM   \n",
       "3  351562959  541367366         M   24                GRD               UNM   \n",
       "4  258647149  238473615         M   34                NaN               NaN   \n",
       "5  277397094    5247768         M   42                NaN               NaN   \n",
       "6  273528957  801272780         F   19                NaN               NaN   \n",
       "7  265062394  866880584         M   38                NaN               NaN   \n",
       "8  351562880  762053500         M   19                NaN               NaN   \n",
       "9  269365210  161703813         M   31                UGR               MAR   \n",
       "\n",
       "        lvn_state_nm  minute_cost  activation_cost  hold_amount  ...  \\\n",
       "0      ТЮМЕНСКАЯ ОБЛ         4.99             30.0        300.0  ...   \n",
       "1     РОСТОВСКАЯ ОБЛ         8.49             50.0        300.0  ...   \n",
       "2   СВЕРДЛОВСКАЯ ОБЛ         5.99             30.0        300.0  ...   \n",
       "3           Г МОСКВА         8.99             50.0        300.0  ...   \n",
       "4           Г МОСКВА         6.99             50.0        300.0  ...   \n",
       "5             МОСКВА         7.49             50.0        300.0  ...   \n",
       "6     РЕСП ТАТАРСТАН         7.49             30.0        300.0  ...   \n",
       "7   СВЕРДЛОВСКАЯ ОБЛ         5.99             30.0        300.0  ...   \n",
       "8  НОВОСИБИРСКАЯ ОБЛ         5.99             30.0        300.0  ...   \n",
       "9    ЧЕЛЯБИНСКАЯ ОБЛ         6.49             30.0        300.0  ...   \n",
       "\n",
       "               book_end_dttm  book_time_zone_cd      local_book_start_dttm  \\\n",
       "0 2024-08-07 10:07:59.339524                  5 2024-08-07 11:47:29.325252   \n",
       "1 2024-10-17 15:04:19.419607                  3 2024-10-17 14:57:24.586000   \n",
       "2 2024-09-19 05:41:50.164372                  5 2024-09-19 07:34:59.476000   \n",
       "3 2024-10-04 16:07:31.724918                  3 2024-10-04 16:05:13.162000   \n",
       "4 2024-07-10 07:07:48.446462                  3 2024-07-10 06:57:43.017125   \n",
       "5 2024-09-10 09:41:03.644495                  3 2024-09-10 09:40:24.036000   \n",
       "6 2024-09-03 14:21:25.119585                  3 2024-09-03 14:10:34.524349   \n",
       "7 2024-08-03 03:18:47.841493                  5 2024-08-03 05:09:38.493851   \n",
       "8 2024-10-04 10:47:39.863967                  7 2024-10-04 14:45:20.457000   \n",
       "9 2024-08-19 14:42:53.835731                  5 2024-08-19 16:35:20.199325   \n",
       "\n",
       "  nominal_price_rub_amt loyalty_accrual_rub_amt  loyalty_accrual_bns_amt  \\\n",
       "0                134.79                   19.48                      NaN   \n",
       "1                109.43                   40.30                      NaN   \n",
       "2                 71.93                   10.79                      NaN   \n",
       "3                 76.97                    7.70                      NaN   \n",
       "4                126.89                   25.38                      NaN   \n",
       "5                  0.00                     NaN                      NaN   \n",
       "6                112.39                   28.00                      NaN   \n",
       "7                 89.90                   12.99                      NaN   \n",
       "8                 47.97                    4.80                      NaN   \n",
       "9                 81.92                   81.92                      NaN   \n",
       "\n",
       "           trip_duration  dow  weekday  month  \n",
       "0 0 days 00:20:30.014272    2        2      8  \n",
       "1 0 days 00:06:54.833607    3        3     10  \n",
       "2 0 days 00:06:50.688372    3        3      9  \n",
       "3 0 days 00:02:18.562918    4        4     10  \n",
       "4 0 days 00:10:05.429337    2        2      7  \n",
       "5 0 days 00:00:39.608495    1        1      9  \n",
       "6 0 days 00:10:50.595236    1        1      9  \n",
       "7 0 days 00:09:09.347642    5        5      8  \n",
       "8 0 days 00:02:19.406967    4        4     10  \n",
       "9 0 days 00:07:33.636406    0        0      8  \n",
       "\n",
       "[10 rows x 24 columns]"
      ]
     },
     "execution_count": 85,
     "metadata": {},
     "output_type": "execute_result"
    }
   ],
   "source": [
    "df.head(10)"
   ]
  },
  {
   "cell_type": "code",
   "execution_count": 89,
   "metadata": {},
   "outputs": [
    {
     "data": {
      "text/plain": [
       "<matplotlib.axes._subplots.AxesSubplot at 0x7f2929e3ec50>"
      ]
     },
     "execution_count": 89,
     "metadata": {},
     "output_type": "execute_result"
    },
    {
     "data": {
      "image/png": "[encoded data removed]",
      "text/plain": [
       "<Figure size 432x288 with 1 Axes>"
      ]
     },
     "metadata": {
      "needs_background": "light"
     },
     "output_type": "display_data"
    }
   ],
   "source": [
    "sns.countplot(data=df, x='month')"
   ]
  },
  {
   "cell_type": "code",
   "execution_count": 90,
   "metadata": {},
   "outputs": [],
   "source": [
    "# В сентябре (month 9) наблюдается наибольший спрос на самокаты\n",
    "# В более \"прохладные\" месяцы (month 4, 5, 6, 10) спрос на самокаты меньше, что говорит о явной сезонности сервиса"
   ]
  },
  {
   "cell_type": "markdown",
   "metadata": {},
   "source": [
    "### Медианный километраж поездки"
   ]
  },
  {
   "cell_type": "code",
   "execution_count": null,
   "metadata": {},
   "outputs": [],
   "source": [
    "# Посмотрим на медианный километраж поездки в зависимости от модели самоката"
   ]
  },
  {
   "cell_type": "code",
   "execution_count": 130,
   "metadata": {},
   "outputs": [
    {
     "data": {
      "text/html": [
       "<div>\n",
       "<style scoped>\n",
       "    .dataframe tbody tr th:only-of-type {\n",
       "        vertical-align: middle;\n",
       "    }\n",
       "\n",
       "    .dataframe tbody tr th {\n",
       "        vertical-align: top;\n",
       "    }\n",
       "\n",
       "    .dataframe thead th {\n",
       "        text-align: right;\n",
       "    }\n",
       "</style>\n",
       "<table border=\"1\" class=\"dataframe\">\n",
       "  <thead>\n",
       "    <tr style=\"text-align: right;\">\n",
       "      <th></th>\n",
       "      <th>transport_model</th>\n",
       "      <th>median_distance_km</th>\n",
       "    </tr>\n",
       "  </thead>\n",
       "  <tbody>\n",
       "    <tr>\n",
       "      <th>10</th>\n",
       "      <td>Max</td>\n",
       "      <td>1.892598</td>\n",
       "    </tr>\n",
       "    <tr>\n",
       "      <th>6</th>\n",
       "      <td>ES400</td>\n",
       "      <td>1.766420</td>\n",
       "    </tr>\n",
       "    <tr>\n",
       "      <th>11</th>\n",
       "      <td>SL</td>\n",
       "      <td>1.758189</td>\n",
       "    </tr>\n",
       "    <tr>\n",
       "      <th>13</th>\n",
       "      <td>Urban E-Bike</td>\n",
       "      <td>1.730060</td>\n",
       "    </tr>\n",
       "    <tr>\n",
       "      <th>2</th>\n",
       "      <td>ES</td>\n",
       "      <td>1.642680</td>\n",
       "    </tr>\n",
       "    <tr>\n",
       "      <th>3</th>\n",
       "      <td>ES-08S</td>\n",
       "      <td>1.590030</td>\n",
       "    </tr>\n",
       "    <tr>\n",
       "      <th>9</th>\n",
       "      <td>MK</td>\n",
       "      <td>1.583398</td>\n",
       "    </tr>\n",
       "    <tr>\n",
       "      <th>1</th>\n",
       "      <td>E</td>\n",
       "      <td>1.522292</td>\n",
       "    </tr>\n",
       "    <tr>\n",
       "      <th>4</th>\n",
       "      <td>ES100</td>\n",
       "      <td>1.467341</td>\n",
       "    </tr>\n",
       "    <tr>\n",
       "      <th>5</th>\n",
       "      <td>ES200</td>\n",
       "      <td>1.419359</td>\n",
       "    </tr>\n",
       "    <tr>\n",
       "      <th>12</th>\n",
       "      <td>Techno</td>\n",
       "      <td>1.290622</td>\n",
       "    </tr>\n",
       "    <tr>\n",
       "      <th>7</th>\n",
       "      <td>LB</td>\n",
       "      <td>1.128454</td>\n",
       "    </tr>\n",
       "    <tr>\n",
       "      <th>0</th>\n",
       "      <td>B1D</td>\n",
       "      <td>1.033961</td>\n",
       "    </tr>\n",
       "    <tr>\n",
       "      <th>8</th>\n",
       "      <td>Lucky</td>\n",
       "      <td>0.000000</td>\n",
       "    </tr>\n",
       "  </tbody>\n",
       "</table>\n",
       "</div>"
      ],
      "text/plain": [
       "   transport_model  median_distance_km\n",
       "10             Max            1.892598\n",
       "6            ES400            1.766420\n",
       "11              SL            1.758189\n",
       "13    Urban E-Bike            1.730060\n",
       "2               ES            1.642680\n",
       "3           ES-08S            1.590030\n",
       "9               MK            1.583398\n",
       "1                E            1.522292\n",
       "4            ES100            1.467341\n",
       "5            ES200            1.419359\n",
       "12          Techno            1.290622\n",
       "7               LB            1.128454\n",
       "0              B1D            1.033961\n",
       "8            Lucky            0.000000"
      ]
     },
     "execution_count": 130,
     "metadata": {},
     "output_type": "execute_result"
    }
   ],
   "source": [
    "df_by_transport_model = df.groupby('transport_model', as_index=False).agg({'distance_km': 'median'}) \\\n",
    "                        .rename(columns={'distance_km':'median_distance_km'}) \\\n",
    "                        .sort_values('median_distance_km', ascending=False)\n",
    "df_by_transport_model\n"
   ]
  },
  {
   "cell_type": "code",
   "execution_count": 131,
   "metadata": {},
   "outputs": [
    {
     "data": {
      "text/plain": [
       "(array([ 0,  1,  2,  3,  4,  5,  6,  7,  8,  9, 10, 11, 12, 13]),\n",
       " <a list of 14 Text major ticklabel objects>)"
      ]
     },
     "execution_count": 131,
     "metadata": {},
     "output_type": "execute_result"
    },
    {
     "data": {
      "image/png": "[encoded data removed]",
      "text/plain": [
       "<Figure size 432x288 with 1 Axes>"
      ]
     },
     "metadata": {
      "needs_background": "light"
     },
     "output_type": "display_data"
    }
   ],
   "source": [
    "sns.barplot(x=df_by_transport_model.transport_model, y=df_by_transport_model.median_distance_km)\n",
    "plt.xticks(rotation=90)"
   ]
  },
  {
   "cell_type": "code",
   "execution_count": 132,
   "metadata": {},
   "outputs": [
    {
     "data": {
      "text/plain": [
       "(array([ 0,  1,  2,  3,  4,  5,  6,  7,  8,  9, 10, 11, 12, 13]),\n",
       " <a list of 14 Text major ticklabel objects>)"
      ]
     },
     "execution_count": 132,
     "metadata": {},
     "output_type": "execute_result"
    },
    {
     "data": {
      "image/png": "[encoded data removed]",
      "text/plain": [
       "<Figure size 432x288 with 1 Axes>"
      ]
     },
     "metadata": {
      "needs_background": "light"
     },
     "output_type": "display_data"
    }
   ],
   "source": [
    "sns.countplot(data = df, x ='transport_model', order = df['transport_model'].value_counts().index)\n",
    "plt.xticks(rotation=90)"
   ]
  },
  {
   "cell_type": "code",
   "execution_count": null,
   "metadata": {},
   "outputs": [],
   "source": []
  }
 ],
 "metadata": {
  "kernelspec": {
   "display_name": "Python 3",
   "language": "python",
   "name": "python3"
  },
  "language_info": {
   "codemirror_mode": {
    "name": "ipython",
    "version": 3
   },
   "file_extension": ".py",
   "mimetype": "text/x-python",
   "name": "python",
   "nbconvert_exporter": "python",
   "pygments_lexer": "ipython3",
   "version": "3.7.3"
  }
 },
 "nbformat": 4,
 "nbformat_minor": 4
}
